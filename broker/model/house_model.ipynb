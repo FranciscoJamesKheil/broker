{
 "cells": [
  {
   "cell_type": "markdown",
   "metadata": {},
   "source": [
    "## Zamboanga City House Price Prediction (Linear Regression)"
   ]
  },
  {
   "cell_type": "code",
   "execution_count": 383,
   "metadata": {},
   "outputs": [],
   "source": [
    "import pandas as pd\n",
    "import numpy as np\n",
    "import matplotlib.pyplot as plt\n",
    "from sklearn.linear_model import LinearRegression\n",
    "from sklearn.model_selection import train_test_split\n",
    "import math, statistics"
   ]
  },
  {
   "cell_type": "markdown",
   "metadata": {},
   "source": [
    "### Import dataset"
   ]
  },
  {
   "cell_type": "code",
   "execution_count": 384,
   "metadata": {},
   "outputs": [
    {
     "data": {
      "text/html": [
       "<div>\n",
       "<style scoped>\n",
       "    .dataframe tbody tr th:only-of-type {\n",
       "        vertical-align: middle;\n",
       "    }\n",
       "\n",
       "    .dataframe tbody tr th {\n",
       "        vertical-align: top;\n",
       "    }\n",
       "\n",
       "    .dataframe thead th {\n",
       "        text-align: right;\n",
       "    }\n",
       "</style>\n",
       "<table border=\"1\" class=\"dataframe\">\n",
       "  <thead>\n",
       "    <tr style=\"text-align: right;\">\n",
       "      <th></th>\n",
       "      <th>Property</th>\n",
       "      <th>Barangay</th>\n",
       "      <th>Land Area</th>\n",
       "      <th>Floor Area</th>\n",
       "      <th>Classification</th>\n",
       "      <th>No. of storey</th>\n",
       "      <th>Structural Type</th>\n",
       "      <th>Roof Framing</th>\n",
       "      <th>Roofing</th>\n",
       "      <th>Exterior Walls</th>\n",
       "      <th>Flooring</th>\n",
       "      <th>Doors</th>\n",
       "      <th>Ceiling</th>\n",
       "      <th>Windows</th>\n",
       "      <th>Stairs</th>\n",
       "      <th>Wall Finish</th>\n",
       "      <th>Electrical Conduit</th>\n",
       "      <th>Toilet &amp; Bowl</th>\n",
       "      <th>Plumbing</th>\n",
       "      <th>Market Value</th>\n",
       "    </tr>\n",
       "  </thead>\n",
       "  <tbody>\n",
       "    <tr>\n",
       "      <th>0</th>\n",
       "      <td>Property 1</td>\n",
       "      <td>Canelar</td>\n",
       "      <td>665.0</td>\n",
       "      <td>354.08</td>\n",
       "      <td>Residential</td>\n",
       "      <td>2</td>\n",
       "      <td>2-A</td>\n",
       "      <td>Steel</td>\n",
       "      <td>GI</td>\n",
       "      <td>Cement Plaster</td>\n",
       "      <td>Tiles</td>\n",
       "      <td>WOOD</td>\n",
       "      <td>Plywood</td>\n",
       "      <td>Glass</td>\n",
       "      <td>CONC.</td>\n",
       "      <td>Cement Plaster</td>\n",
       "      <td>PVC</td>\n",
       "      <td>Tiles</td>\n",
       "      <td>PVC</td>\n",
       "      <td>1000000.0</td>\n",
       "    </tr>\n",
       "    <tr>\n",
       "      <th>1</th>\n",
       "      <td>Property 2</td>\n",
       "      <td>Canelar</td>\n",
       "      <td>104.0</td>\n",
       "      <td>71.25</td>\n",
       "      <td>Residential</td>\n",
       "      <td>1</td>\n",
       "      <td>3-A</td>\n",
       "      <td>Steel</td>\n",
       "      <td>Long Span</td>\n",
       "      <td>CHB</td>\n",
       "      <td>Tiles</td>\n",
       "      <td>WOOD</td>\n",
       "      <td>Plywood</td>\n",
       "      <td>Alum. Casement</td>\n",
       "      <td>CONC.</td>\n",
       "      <td>Plain Cement Paint</td>\n",
       "      <td>Polyflex</td>\n",
       "      <td>Tiles</td>\n",
       "      <td>PVC</td>\n",
       "      <td>413000.0</td>\n",
       "    </tr>\n",
       "    <tr>\n",
       "      <th>2</th>\n",
       "      <td>Property 3</td>\n",
       "      <td>Canelar</td>\n",
       "      <td>406.0</td>\n",
       "      <td>210.30</td>\n",
       "      <td>Residential</td>\n",
       "      <td>1</td>\n",
       "      <td>NaN</td>\n",
       "      <td>Steel</td>\n",
       "      <td>GI</td>\n",
       "      <td>CHB</td>\n",
       "      <td>Tiles</td>\n",
       "      <td>WOOD</td>\n",
       "      <td>Plywood</td>\n",
       "      <td>Glass</td>\n",
       "      <td>CONC.</td>\n",
       "      <td>Cement Plaster</td>\n",
       "      <td>PVC</td>\n",
       "      <td>Tiles</td>\n",
       "      <td>PVC</td>\n",
       "      <td>727910.0</td>\n",
       "    </tr>\n",
       "    <tr>\n",
       "      <th>3</th>\n",
       "      <td>Property 4</td>\n",
       "      <td>Canelar</td>\n",
       "      <td>240.0</td>\n",
       "      <td>81.00</td>\n",
       "      <td>Residential</td>\n",
       "      <td>1</td>\n",
       "      <td>2-A</td>\n",
       "      <td>Steel</td>\n",
       "      <td>Long Span</td>\n",
       "      <td>CHB</td>\n",
       "      <td>Tiles</td>\n",
       "      <td>WOOD</td>\n",
       "      <td>Plywood</td>\n",
       "      <td>Alum. Casement</td>\n",
       "      <td>CONC.</td>\n",
       "      <td>Cement Plaster</td>\n",
       "      <td>Polyflex</td>\n",
       "      <td>Tiles</td>\n",
       "      <td>PVC</td>\n",
       "      <td>610000.0</td>\n",
       "    </tr>\n",
       "    <tr>\n",
       "      <th>4</th>\n",
       "      <td>Property 5</td>\n",
       "      <td>Santa Maria</td>\n",
       "      <td>314.0</td>\n",
       "      <td>1314.00</td>\n",
       "      <td>Commercial</td>\n",
       "      <td>4</td>\n",
       "      <td>2-A</td>\n",
       "      <td>Steel</td>\n",
       "      <td>GI</td>\n",
       "      <td>CHB</td>\n",
       "      <td>Tiles</td>\n",
       "      <td>Flush</td>\n",
       "      <td>NaN</td>\n",
       "      <td>Alum. Casement</td>\n",
       "      <td>CONC.</td>\n",
       "      <td>Cement Plaster</td>\n",
       "      <td>PVC</td>\n",
       "      <td>Tiles</td>\n",
       "      <td>GI</td>\n",
       "      <td>7393688.0</td>\n",
       "    </tr>\n",
       "    <tr>\n",
       "      <th>5</th>\n",
       "      <td>Property 6</td>\n",
       "      <td>Santa Maria</td>\n",
       "      <td>300.0</td>\n",
       "      <td>98.83</td>\n",
       "      <td>Residential</td>\n",
       "      <td>2</td>\n",
       "      <td>2-A</td>\n",
       "      <td>Steel</td>\n",
       "      <td>Long Span</td>\n",
       "      <td>CHB</td>\n",
       "      <td>Tiles</td>\n",
       "      <td>WOOD</td>\n",
       "      <td>Plywood</td>\n",
       "      <td>Glass</td>\n",
       "      <td>NaN</td>\n",
       "      <td>CHB</td>\n",
       "      <td>PVC</td>\n",
       "      <td>Tiles</td>\n",
       "      <td>PVC</td>\n",
       "      <td>560650.0</td>\n",
       "    </tr>\n",
       "    <tr>\n",
       "      <th>6</th>\n",
       "      <td>Property 7</td>\n",
       "      <td>Santa Maria</td>\n",
       "      <td>206.0</td>\n",
       "      <td>111.26</td>\n",
       "      <td>Residential</td>\n",
       "      <td>2</td>\n",
       "      <td>NaN</td>\n",
       "      <td>Steel</td>\n",
       "      <td>GI</td>\n",
       "      <td>CHB</td>\n",
       "      <td>Tiles</td>\n",
       "      <td>WOOD</td>\n",
       "      <td>Wood</td>\n",
       "      <td>Glass</td>\n",
       "      <td>CONC.</td>\n",
       "      <td>Cement Plaster</td>\n",
       "      <td>PVC</td>\n",
       "      <td>Tiles</td>\n",
       "      <td>PVC</td>\n",
       "      <td>1000000.0</td>\n",
       "    </tr>\n",
       "    <tr>\n",
       "      <th>7</th>\n",
       "      <td>Property 8</td>\n",
       "      <td>Santa Maria</td>\n",
       "      <td>300.0</td>\n",
       "      <td>81.00</td>\n",
       "      <td>Residential</td>\n",
       "      <td>2</td>\n",
       "      <td>2-A</td>\n",
       "      <td>Wooden</td>\n",
       "      <td>GI</td>\n",
       "      <td>CHB</td>\n",
       "      <td>Tiles</td>\n",
       "      <td>PANEL</td>\n",
       "      <td>Plywood</td>\n",
       "      <td>Jalousie</td>\n",
       "      <td>NaN</td>\n",
       "      <td>Plain Cement Paint</td>\n",
       "      <td>Conduit Pipe</td>\n",
       "      <td>Tiles</td>\n",
       "      <td>PVC</td>\n",
       "      <td>400000.0</td>\n",
       "    </tr>\n",
       "    <tr>\n",
       "      <th>8</th>\n",
       "      <td>Property 9</td>\n",
       "      <td>Santa Maria</td>\n",
       "      <td>237.0</td>\n",
       "      <td>160.00</td>\n",
       "      <td>Residential</td>\n",
       "      <td>1</td>\n",
       "      <td>2-B</td>\n",
       "      <td>Wooden</td>\n",
       "      <td>GI</td>\n",
       "      <td>CHB</td>\n",
       "      <td>Concrete</td>\n",
       "      <td>ROLL UP</td>\n",
       "      <td>Plywood</td>\n",
       "      <td>Jalousie</td>\n",
       "      <td>WOODEN</td>\n",
       "      <td>CHB</td>\n",
       "      <td>Polyflex</td>\n",
       "      <td>CHB</td>\n",
       "      <td>PVC</td>\n",
       "      <td>440320.0</td>\n",
       "    </tr>\n",
       "    <tr>\n",
       "      <th>9</th>\n",
       "      <td>Property 10</td>\n",
       "      <td>Santa Maria</td>\n",
       "      <td>300.0</td>\n",
       "      <td>106.40</td>\n",
       "      <td>Residential</td>\n",
       "      <td>2</td>\n",
       "      <td>3-A</td>\n",
       "      <td>Wooden</td>\n",
       "      <td>GI</td>\n",
       "      <td>Cement Plaster</td>\n",
       "      <td>Concrete</td>\n",
       "      <td>Flush</td>\n",
       "      <td>Plywood</td>\n",
       "      <td>Wood</td>\n",
       "      <td>WOODEN</td>\n",
       "      <td>CHB</td>\n",
       "      <td>Open</td>\n",
       "      <td>CHB</td>\n",
       "      <td>PVC</td>\n",
       "      <td>505400.0</td>\n",
       "    </tr>\n",
       "  </tbody>\n",
       "</table>\n",
       "</div>"
      ],
      "text/plain": [
       "     Property      Barangay  Land Area  Floor Area Classification  \\\n",
       "0   Property 1      Canelar      665.0      354.08    Residential   \n",
       "1   Property 2      Canelar      104.0       71.25    Residential   \n",
       "2   Property 3      Canelar      406.0      210.30    Residential   \n",
       "3   Property 4      Canelar      240.0       81.00    Residential   \n",
       "4   Property 5  Santa Maria      314.0     1314.00     Commercial   \n",
       "5   Property 6  Santa Maria      300.0       98.83    Residential   \n",
       "6   Property 7  Santa Maria      206.0      111.26    Residential   \n",
       "7   Property 8  Santa Maria      300.0       81.00    Residential   \n",
       "8   Property 9  Santa Maria      237.0      160.00    Residential   \n",
       "9  Property 10  Santa Maria      300.0      106.40    Residential   \n",
       "\n",
       "   No. of storey Structural Type Roof Framing    Roofing  Exterior Walls  \\\n",
       "0              2             2-A        Steel         GI  Cement Plaster   \n",
       "1              1             3-A        Steel  Long Span             CHB   \n",
       "2              1             NaN        Steel         GI             CHB   \n",
       "3              1             2-A        Steel  Long Span             CHB   \n",
       "4              4             2-A        Steel         GI             CHB   \n",
       "5              2             2-A        Steel  Long Span             CHB   \n",
       "6              2             NaN        Steel         GI             CHB   \n",
       "7              2             2-A       Wooden         GI             CHB   \n",
       "8              1             2-B       Wooden         GI             CHB   \n",
       "9              2             3-A       Wooden         GI  Cement Plaster   \n",
       "\n",
       "   Flooring    Doors  Ceiling         Windows  Stairs         Wall Finish  \\\n",
       "0     Tiles     WOOD  Plywood           Glass   CONC.      Cement Plaster   \n",
       "1     Tiles     WOOD  Plywood  Alum. Casement   CONC.  Plain Cement Paint   \n",
       "2     Tiles     WOOD  Plywood           Glass   CONC.      Cement Plaster   \n",
       "3     Tiles     WOOD  Plywood  Alum. Casement   CONC.      Cement Plaster   \n",
       "4     Tiles    Flush      NaN  Alum. Casement   CONC.      Cement Plaster   \n",
       "5     Tiles     WOOD  Plywood           Glass     NaN                 CHB   \n",
       "6     Tiles     WOOD     Wood           Glass   CONC.      Cement Plaster   \n",
       "7     Tiles    PANEL  Plywood        Jalousie     NaN  Plain Cement Paint   \n",
       "8  Concrete  ROLL UP  Plywood        Jalousie  WOODEN                 CHB   \n",
       "9  Concrete    Flush  Plywood            Wood  WOODEN                 CHB   \n",
       "\n",
       "  Electrical Conduit Toilet & Bowl Plumbing  Market Value  \n",
       "0                PVC         Tiles      PVC     1000000.0  \n",
       "1           Polyflex         Tiles      PVC      413000.0  \n",
       "2                PVC         Tiles      PVC      727910.0  \n",
       "3           Polyflex         Tiles      PVC      610000.0  \n",
       "4                PVC         Tiles       GI     7393688.0  \n",
       "5                PVC         Tiles      PVC      560650.0  \n",
       "6                PVC         Tiles      PVC     1000000.0  \n",
       "7       Conduit Pipe         Tiles      PVC      400000.0  \n",
       "8           Polyflex           CHB      PVC      440320.0  \n",
       "9               Open           CHB      PVC      505400.0  "
      ]
     },
     "execution_count": 384,
     "metadata": {},
     "output_type": "execute_result"
    }
   ],
   "source": [
    "df = pd.read_csv(\"../datasets/Real-Property-Appraissal-Building.csv\")\n",
    "df.head(10)"
   ]
  },
  {
   "cell_type": "markdown",
   "metadata": {},
   "source": [
    "### Data Cleaning"
   ]
  },
  {
   "cell_type": "code",
   "execution_count": 385,
   "metadata": {},
   "outputs": [
    {
     "data": {
      "text/plain": [
       "Index(['Property ', 'Barangay', 'Land Area', 'Floor Area', 'Classification',\n",
       "       'No. of storey', 'Structural Type', 'Roof Framing', 'Roofing',\n",
       "       'Exterior Walls', 'Flooring', 'Doors', 'Ceiling', 'Windows', 'Stairs',\n",
       "       'Wall Finish', 'Electrical Conduit', 'Toilet & Bowl', 'Plumbing',\n",
       "       'Market Value'],\n",
       "      dtype='object')"
      ]
     },
     "execution_count": 385,
     "metadata": {},
     "output_type": "execute_result"
    }
   ],
   "source": [
    "df.columns"
   ]
  },
  {
   "cell_type": "code",
   "execution_count": 386,
   "metadata": {},
   "outputs": [
    {
     "data": {
      "text/plain": [
       "Property               0\n",
       "Barangay               0\n",
       "Land Area              5\n",
       "Floor Area             0\n",
       "Classification         0\n",
       "No. of storey          0\n",
       "Structural Type       33\n",
       "Roof Framing           2\n",
       "Roofing                0\n",
       "Exterior Walls         2\n",
       "Flooring               2\n",
       "Doors                  5\n",
       "Ceiling               26\n",
       "Windows                7\n",
       "Stairs                47\n",
       "Wall Finish           15\n",
       "Electrical Conduit    11\n",
       "Toilet & Bowl         12\n",
       "Plumbing              16\n",
       "Market Value           0\n",
       "dtype: int64"
      ]
     },
     "execution_count": 386,
     "metadata": {},
     "output_type": "execute_result"
    }
   ],
   "source": [
    "df.isna().sum()"
   ]
  },
  {
   "cell_type": "markdown",
   "metadata": {},
   "source": [
    "##### Removing unneeded data"
   ]
  },
  {
   "cell_type": "code",
   "execution_count": 387,
   "metadata": {},
   "outputs": [
    {
     "data": {
      "text/html": [
       "<div>\n",
       "<style scoped>\n",
       "    .dataframe tbody tr th:only-of-type {\n",
       "        vertical-align: middle;\n",
       "    }\n",
       "\n",
       "    .dataframe tbody tr th {\n",
       "        vertical-align: top;\n",
       "    }\n",
       "\n",
       "    .dataframe thead th {\n",
       "        text-align: right;\n",
       "    }\n",
       "</style>\n",
       "<table border=\"1\" class=\"dataframe\">\n",
       "  <thead>\n",
       "    <tr style=\"text-align: right;\">\n",
       "      <th></th>\n",
       "      <th>Barangay</th>\n",
       "      <th>Land Area</th>\n",
       "      <th>Floor Area</th>\n",
       "      <th>Classification</th>\n",
       "      <th>No. of storey</th>\n",
       "      <th>Structural Type</th>\n",
       "      <th>Roof Framing</th>\n",
       "      <th>Roofing</th>\n",
       "      <th>Exterior Walls</th>\n",
       "      <th>Flooring</th>\n",
       "      <th>Doors</th>\n",
       "      <th>Ceiling</th>\n",
       "      <th>Windows</th>\n",
       "      <th>Stairs</th>\n",
       "      <th>Wall Finish</th>\n",
       "      <th>Electrical Conduit</th>\n",
       "      <th>Toilet &amp; Bowl</th>\n",
       "      <th>Plumbing</th>\n",
       "      <th>Market Value</th>\n",
       "    </tr>\n",
       "  </thead>\n",
       "  <tbody>\n",
       "    <tr>\n",
       "      <th>0</th>\n",
       "      <td>Canelar</td>\n",
       "      <td>665.0</td>\n",
       "      <td>354.08</td>\n",
       "      <td>Residential</td>\n",
       "      <td>2</td>\n",
       "      <td>2-A</td>\n",
       "      <td>Steel</td>\n",
       "      <td>GI</td>\n",
       "      <td>Cement Plaster</td>\n",
       "      <td>Tiles</td>\n",
       "      <td>WOOD</td>\n",
       "      <td>Plywood</td>\n",
       "      <td>Glass</td>\n",
       "      <td>CONC.</td>\n",
       "      <td>Cement Plaster</td>\n",
       "      <td>PVC</td>\n",
       "      <td>Tiles</td>\n",
       "      <td>PVC</td>\n",
       "      <td>1000000.0</td>\n",
       "    </tr>\n",
       "    <tr>\n",
       "      <th>1</th>\n",
       "      <td>Canelar</td>\n",
       "      <td>104.0</td>\n",
       "      <td>71.25</td>\n",
       "      <td>Residential</td>\n",
       "      <td>1</td>\n",
       "      <td>3-A</td>\n",
       "      <td>Steel</td>\n",
       "      <td>Long Span</td>\n",
       "      <td>CHB</td>\n",
       "      <td>Tiles</td>\n",
       "      <td>WOOD</td>\n",
       "      <td>Plywood</td>\n",
       "      <td>Alum. Casement</td>\n",
       "      <td>CONC.</td>\n",
       "      <td>Plain Cement Paint</td>\n",
       "      <td>Polyflex</td>\n",
       "      <td>Tiles</td>\n",
       "      <td>PVC</td>\n",
       "      <td>413000.0</td>\n",
       "    </tr>\n",
       "    <tr>\n",
       "      <th>2</th>\n",
       "      <td>Canelar</td>\n",
       "      <td>406.0</td>\n",
       "      <td>210.30</td>\n",
       "      <td>Residential</td>\n",
       "      <td>1</td>\n",
       "      <td>NaN</td>\n",
       "      <td>Steel</td>\n",
       "      <td>GI</td>\n",
       "      <td>CHB</td>\n",
       "      <td>Tiles</td>\n",
       "      <td>WOOD</td>\n",
       "      <td>Plywood</td>\n",
       "      <td>Glass</td>\n",
       "      <td>CONC.</td>\n",
       "      <td>Cement Plaster</td>\n",
       "      <td>PVC</td>\n",
       "      <td>Tiles</td>\n",
       "      <td>PVC</td>\n",
       "      <td>727910.0</td>\n",
       "    </tr>\n",
       "    <tr>\n",
       "      <th>3</th>\n",
       "      <td>Canelar</td>\n",
       "      <td>240.0</td>\n",
       "      <td>81.00</td>\n",
       "      <td>Residential</td>\n",
       "      <td>1</td>\n",
       "      <td>2-A</td>\n",
       "      <td>Steel</td>\n",
       "      <td>Long Span</td>\n",
       "      <td>CHB</td>\n",
       "      <td>Tiles</td>\n",
       "      <td>WOOD</td>\n",
       "      <td>Plywood</td>\n",
       "      <td>Alum. Casement</td>\n",
       "      <td>CONC.</td>\n",
       "      <td>Cement Plaster</td>\n",
       "      <td>Polyflex</td>\n",
       "      <td>Tiles</td>\n",
       "      <td>PVC</td>\n",
       "      <td>610000.0</td>\n",
       "    </tr>\n",
       "    <tr>\n",
       "      <th>4</th>\n",
       "      <td>Santa Maria</td>\n",
       "      <td>314.0</td>\n",
       "      <td>1314.00</td>\n",
       "      <td>Commercial</td>\n",
       "      <td>4</td>\n",
       "      <td>2-A</td>\n",
       "      <td>Steel</td>\n",
       "      <td>GI</td>\n",
       "      <td>CHB</td>\n",
       "      <td>Tiles</td>\n",
       "      <td>Flush</td>\n",
       "      <td>NaN</td>\n",
       "      <td>Alum. Casement</td>\n",
       "      <td>CONC.</td>\n",
       "      <td>Cement Plaster</td>\n",
       "      <td>PVC</td>\n",
       "      <td>Tiles</td>\n",
       "      <td>GI</td>\n",
       "      <td>7393688.0</td>\n",
       "    </tr>\n",
       "  </tbody>\n",
       "</table>\n",
       "</div>"
      ],
      "text/plain": [
       "      Barangay  Land Area  Floor Area Classification  No. of storey  \\\n",
       "0      Canelar      665.0      354.08    Residential              2   \n",
       "1      Canelar      104.0       71.25    Residential              1   \n",
       "2      Canelar      406.0      210.30    Residential              1   \n",
       "3      Canelar      240.0       81.00    Residential              1   \n",
       "4  Santa Maria      314.0     1314.00     Commercial              4   \n",
       "\n",
       "  Structural Type Roof Framing    Roofing  Exterior Walls Flooring  Doors  \\\n",
       "0             2-A        Steel         GI  Cement Plaster    Tiles   WOOD   \n",
       "1             3-A        Steel  Long Span             CHB    Tiles   WOOD   \n",
       "2             NaN        Steel         GI             CHB    Tiles   WOOD   \n",
       "3             2-A        Steel  Long Span             CHB    Tiles   WOOD   \n",
       "4             2-A        Steel         GI             CHB    Tiles  Flush   \n",
       "\n",
       "   Ceiling         Windows Stairs         Wall Finish Electrical Conduit  \\\n",
       "0  Plywood           Glass  CONC.      Cement Plaster                PVC   \n",
       "1  Plywood  Alum. Casement  CONC.  Plain Cement Paint           Polyflex   \n",
       "2  Plywood           Glass  CONC.      Cement Plaster                PVC   \n",
       "3  Plywood  Alum. Casement  CONC.      Cement Plaster           Polyflex   \n",
       "4      NaN  Alum. Casement  CONC.      Cement Plaster                PVC   \n",
       "\n",
       "  Toilet & Bowl Plumbing  Market Value  \n",
       "0         Tiles      PVC     1000000.0  \n",
       "1         Tiles      PVC      413000.0  \n",
       "2         Tiles      PVC      727910.0  \n",
       "3         Tiles      PVC      610000.0  \n",
       "4         Tiles       GI     7393688.0  "
      ]
     },
     "execution_count": 387,
     "metadata": {},
     "output_type": "execute_result"
    }
   ],
   "source": [
    "df = df.drop('Property ', axis=1)\n",
    "df.head()"
   ]
  },
  {
   "cell_type": "markdown",
   "metadata": {},
   "source": [
    "##### Renaming column names"
   ]
  },
  {
   "cell_type": "code",
   "execution_count": 388,
   "metadata": {},
   "outputs": [],
   "source": [
    "df.columns = df.columns.str.lower()"
   ]
  },
  {
   "cell_type": "code",
   "execution_count": 389,
   "metadata": {},
   "outputs": [
    {
     "data": {
      "text/plain": [
       "Index(['barangay', 'land area', 'floor area', 'classification',\n",
       "       'no. of storey', 'structural type', 'roof framing', 'roofing',\n",
       "       'exterior walls', 'flooring', 'doors', 'ceiling', 'windows', 'stairs',\n",
       "       'wall finish', 'electrical conduit', 'toilet & bowl', 'plumbing',\n",
       "       'market value'],\n",
       "      dtype='object')"
      ]
     },
     "execution_count": 389,
     "metadata": {},
     "output_type": "execute_result"
    }
   ],
   "source": [
    "df.columns"
   ]
  },
  {
   "cell_type": "code",
   "execution_count": 390,
   "metadata": {},
   "outputs": [
    {
     "data": {
      "text/plain": [
       "Index(['brgy', 'land_area', 'floor_area', 'classification', 'storey',\n",
       "       'struct_type', 'roof_framing', 'roofing', 'ext_walls', 'flooring',\n",
       "       'doors', 'ceiling', 'windows', 'stairs', 'wall_finish', 'elect_conduit',\n",
       "       'toilet', 'plumbing', 'target_value'],\n",
       "      dtype='object')"
      ]
     },
     "execution_count": 390,
     "metadata": {},
     "output_type": "execute_result"
    }
   ],
   "source": [
    "df = df.rename(columns={'barangay': 'brgy','land area': 'land_area',\n",
    "        'floor area':'floor_area','classification':'classification','no. of storey':'storey',\n",
    "        'structural type':'struct_type', 'roof framing':'roof_framing', 'roofing':'roofing',\n",
    "        'exterior walls': 'ext_walls','flooring':'flooring','doors':'doors','ceiling':'ceiling',\n",
    "        'windows':'windows','stairs':'stairs','wall finish':'wall_finish','electrical conduit':'elect_conduit',\n",
    "        'toilet & bowl':'toilet','market value':'target_value'\n",
    "})\n",
    "df.columns"
   ]
  },
  {
   "cell_type": "markdown",
   "metadata": {},
   "source": [
    "##### Barangay"
   ]
  },
  {
   "cell_type": "code",
   "execution_count": 391,
   "metadata": {},
   "outputs": [
    {
     "data": {
      "text/plain": [
       "0        canelar\n",
       "1        canelar\n",
       "2        canelar\n",
       "3        canelar\n",
       "4    santa maria\n",
       "Name: brgy, dtype: object"
      ]
     },
     "execution_count": 391,
     "metadata": {},
     "output_type": "execute_result"
    }
   ],
   "source": [
    "df['brgy'] = df['brgy'].str.lower()\n",
    "df['brgy'].head()"
   ]
  },
  {
   "cell_type": "code",
   "execution_count": 392,
   "metadata": {},
   "outputs": [
    {
     "data": {
      "text/plain": [
       "['canelar', 'santa maria', 'tetuan', 'san jose gusu', 'san jose cawa cawa', 'putik', 'divisoria']\n",
       "Categories (7, object): ['canelar', 'divisoria', 'putik', 'san jose cawa cawa', 'san jose gusu', 'santa maria', 'tetuan']"
      ]
     },
     "execution_count": 392,
     "metadata": {},
     "output_type": "execute_result"
    }
   ],
   "source": [
    "df['brgy'] = df['brgy'].astype(\"category\")\n",
    "df['brgy'].unique()"
   ]
  },
  {
   "cell_type": "code",
   "execution_count": 393,
   "metadata": {},
   "outputs": [],
   "source": [
    "df['brgy'] = df['brgy'].replace({'canelar':0, 'divisoria':1,\n",
    "    'putik':2, 'san jose cawa cawa':3, 'san jose gusu':4, 'santa maria':5, 'tetuan':6\n",
    "})"
   ]
  },
  {
   "cell_type": "code",
   "execution_count": 394,
   "metadata": {},
   "outputs": [
    {
     "data": {
      "text/plain": [
       "array([0, 5, 6, 4, 3, 2, 1], dtype=int64)"
      ]
     },
     "execution_count": 394,
     "metadata": {},
     "output_type": "execute_result"
    }
   ],
   "source": [
    "df['brgy'].unique()"
   ]
  },
  {
   "cell_type": "markdown",
   "metadata": {},
   "source": [
    "##### Checking for null"
   ]
  },
  {
   "cell_type": "code",
   "execution_count": 395,
   "metadata": {},
   "outputs": [
    {
     "data": {
      "text/plain": [
       "brgy               0\n",
       "land_area          5\n",
       "floor_area         0\n",
       "classification     0\n",
       "storey             0\n",
       "struct_type       33\n",
       "roof_framing       2\n",
       "roofing            0\n",
       "ext_walls          2\n",
       "flooring           2\n",
       "doors              5\n",
       "ceiling           26\n",
       "windows            7\n",
       "stairs            47\n",
       "wall_finish       15\n",
       "elect_conduit     11\n",
       "toilet            12\n",
       "plumbing          16\n",
       "target_value       0\n",
       "dtype: int64"
      ]
     },
     "execution_count": 395,
     "metadata": {},
     "output_type": "execute_result"
    }
   ],
   "source": [
    "df.isna().sum()"
   ]
  },
  {
   "cell_type": "markdown",
   "metadata": {},
   "source": [
    "### Land Area"
   ]
  },
  {
   "cell_type": "code",
   "execution_count": 396,
   "metadata": {},
   "outputs": [
    {
     "data": {
      "text/html": [
       "<div>\n",
       "<style scoped>\n",
       "    .dataframe tbody tr th:only-of-type {\n",
       "        vertical-align: middle;\n",
       "    }\n",
       "\n",
       "    .dataframe tbody tr th {\n",
       "        vertical-align: top;\n",
       "    }\n",
       "\n",
       "    .dataframe thead th {\n",
       "        text-align: right;\n",
       "    }\n",
       "</style>\n",
       "<table border=\"1\" class=\"dataframe\">\n",
       "  <thead>\n",
       "    <tr style=\"text-align: right;\">\n",
       "      <th></th>\n",
       "      <th>brgy</th>\n",
       "      <th>land_area</th>\n",
       "      <th>floor_area</th>\n",
       "      <th>classification</th>\n",
       "      <th>storey</th>\n",
       "      <th>struct_type</th>\n",
       "      <th>roof_framing</th>\n",
       "      <th>roofing</th>\n",
       "      <th>ext_walls</th>\n",
       "      <th>flooring</th>\n",
       "      <th>doors</th>\n",
       "      <th>ceiling</th>\n",
       "      <th>windows</th>\n",
       "      <th>stairs</th>\n",
       "      <th>wall_finish</th>\n",
       "      <th>elect_conduit</th>\n",
       "      <th>toilet</th>\n",
       "      <th>plumbing</th>\n",
       "      <th>target_value</th>\n",
       "    </tr>\n",
       "  </thead>\n",
       "  <tbody>\n",
       "    <tr>\n",
       "      <th>130</th>\n",
       "      <td>2</td>\n",
       "      <td>NaN</td>\n",
       "      <td>583.50</td>\n",
       "      <td>Residential</td>\n",
       "      <td>2</td>\n",
       "      <td>2-B</td>\n",
       "      <td>Steel</td>\n",
       "      <td>Long Span</td>\n",
       "      <td>CHB</td>\n",
       "      <td>Concrete</td>\n",
       "      <td>ROLL UP</td>\n",
       "      <td>Plywood</td>\n",
       "      <td>Glass</td>\n",
       "      <td>RC</td>\n",
       "      <td>Plain Cement Paint</td>\n",
       "      <td>Polyflex</td>\n",
       "      <td>TILES</td>\n",
       "      <td>GI</td>\n",
       "      <td>2600000.0</td>\n",
       "    </tr>\n",
       "    <tr>\n",
       "      <th>131</th>\n",
       "      <td>0</td>\n",
       "      <td>328.0</td>\n",
       "      <td>327.00</td>\n",
       "      <td>Commercial</td>\n",
       "      <td>2</td>\n",
       "      <td>2-B</td>\n",
       "      <td>Steel</td>\n",
       "      <td>GI</td>\n",
       "      <td>CHB</td>\n",
       "      <td>Concrete</td>\n",
       "      <td>ROLL UP</td>\n",
       "      <td>Plywood</td>\n",
       "      <td>Glass</td>\n",
       "      <td>RC</td>\n",
       "      <td>Cement Plaster</td>\n",
       "      <td>PVC</td>\n",
       "      <td>TILES</td>\n",
       "      <td>PVC</td>\n",
       "      <td>592790.0</td>\n",
       "    </tr>\n",
       "    <tr>\n",
       "      <th>132</th>\n",
       "      <td>0</td>\n",
       "      <td>263.0</td>\n",
       "      <td>180.00</td>\n",
       "      <td>Commercial</td>\n",
       "      <td>1</td>\n",
       "      <td>NaN</td>\n",
       "      <td>Lumber</td>\n",
       "      <td>GI</td>\n",
       "      <td>CHB</td>\n",
       "      <td>Wood</td>\n",
       "      <td>WOOD</td>\n",
       "      <td>Plywood</td>\n",
       "      <td>NaN</td>\n",
       "      <td>CC</td>\n",
       "      <td>Cement Plaster</td>\n",
       "      <td>PVC</td>\n",
       "      <td>NaN</td>\n",
       "      <td>NaN</td>\n",
       "      <td>91650.0</td>\n",
       "    </tr>\n",
       "    <tr>\n",
       "      <th>133</th>\n",
       "      <td>0</td>\n",
       "      <td>325.0</td>\n",
       "      <td>216.00</td>\n",
       "      <td>Commercial</td>\n",
       "      <td>2</td>\n",
       "      <td>2-A</td>\n",
       "      <td>Lumber</td>\n",
       "      <td>GI</td>\n",
       "      <td>CHB</td>\n",
       "      <td>Wood</td>\n",
       "      <td>PANEL</td>\n",
       "      <td>Plywood</td>\n",
       "      <td>Glass</td>\n",
       "      <td>RC</td>\n",
       "      <td>Cement Plaster</td>\n",
       "      <td>NaN</td>\n",
       "      <td>TILES</td>\n",
       "      <td>NaN</td>\n",
       "      <td>684000.0</td>\n",
       "    </tr>\n",
       "    <tr>\n",
       "      <th>134</th>\n",
       "      <td>0</td>\n",
       "      <td>446.0</td>\n",
       "      <td>232.00</td>\n",
       "      <td>Commercial</td>\n",
       "      <td>2</td>\n",
       "      <td>2-B</td>\n",
       "      <td>Steel</td>\n",
       "      <td>GI</td>\n",
       "      <td>CHB</td>\n",
       "      <td>Concrete</td>\n",
       "      <td>Flush</td>\n",
       "      <td>Plywood</td>\n",
       "      <td>Glass</td>\n",
       "      <td>WOODEN</td>\n",
       "      <td>Cement Plaster</td>\n",
       "      <td>Polyflex</td>\n",
       "      <td>TILES</td>\n",
       "      <td>GI</td>\n",
       "      <td>504000.0</td>\n",
       "    </tr>\n",
       "    <tr>\n",
       "      <th>135</th>\n",
       "      <td>0</td>\n",
       "      <td>2552.0</td>\n",
       "      <td>2223.00</td>\n",
       "      <td>Commercial</td>\n",
       "      <td>2</td>\n",
       "      <td>2-A</td>\n",
       "      <td>Steel</td>\n",
       "      <td>GI</td>\n",
       "      <td>CHB</td>\n",
       "      <td>Tiles</td>\n",
       "      <td>GLASS</td>\n",
       "      <td>Plywood</td>\n",
       "      <td>Glass</td>\n",
       "      <td>CONC.</td>\n",
       "      <td>Plain Cement Paint</td>\n",
       "      <td>Polyflex</td>\n",
       "      <td>TILES</td>\n",
       "      <td>GI</td>\n",
       "      <td>14796577.0</td>\n",
       "    </tr>\n",
       "    <tr>\n",
       "      <th>136</th>\n",
       "      <td>0</td>\n",
       "      <td>328.0</td>\n",
       "      <td>327.00</td>\n",
       "      <td>Commercial</td>\n",
       "      <td>2</td>\n",
       "      <td>2-B</td>\n",
       "      <td>Steel</td>\n",
       "      <td>GI</td>\n",
       "      <td>CHB</td>\n",
       "      <td>Concrete</td>\n",
       "      <td>ROLL UP</td>\n",
       "      <td>Plywood</td>\n",
       "      <td>Glass</td>\n",
       "      <td>RC</td>\n",
       "      <td>Cement Plaster</td>\n",
       "      <td>PVC</td>\n",
       "      <td>TILES</td>\n",
       "      <td>PVC</td>\n",
       "      <td>592790.0</td>\n",
       "    </tr>\n",
       "    <tr>\n",
       "      <th>137</th>\n",
       "      <td>1</td>\n",
       "      <td>10059.0</td>\n",
       "      <td>55.49</td>\n",
       "      <td>Commercial</td>\n",
       "      <td>1</td>\n",
       "      <td>2-A</td>\n",
       "      <td>Steel</td>\n",
       "      <td>Long Span</td>\n",
       "      <td>CHB</td>\n",
       "      <td>Tiles</td>\n",
       "      <td>GLASS</td>\n",
       "      <td>NaN</td>\n",
       "      <td>Glass</td>\n",
       "      <td>CC</td>\n",
       "      <td>CHB</td>\n",
       "      <td>PVC</td>\n",
       "      <td>TILES</td>\n",
       "      <td>PVC</td>\n",
       "      <td>487760.0</td>\n",
       "    </tr>\n",
       "    <tr>\n",
       "      <th>138</th>\n",
       "      <td>1</td>\n",
       "      <td>10059.0</td>\n",
       "      <td>451.40</td>\n",
       "      <td>Commercial</td>\n",
       "      <td>2</td>\n",
       "      <td>2-A</td>\n",
       "      <td>Steel</td>\n",
       "      <td>Long Span</td>\n",
       "      <td>CHB</td>\n",
       "      <td>Tiles</td>\n",
       "      <td>NaN</td>\n",
       "      <td>NaN</td>\n",
       "      <td>Glass</td>\n",
       "      <td>RC</td>\n",
       "      <td>CHB</td>\n",
       "      <td>PVC</td>\n",
       "      <td>TILES</td>\n",
       "      <td>PVC</td>\n",
       "      <td>3088810.0</td>\n",
       "    </tr>\n",
       "    <tr>\n",
       "      <th>139</th>\n",
       "      <td>1</td>\n",
       "      <td>10059.0</td>\n",
       "      <td>216.00</td>\n",
       "      <td>Commercial</td>\n",
       "      <td>1</td>\n",
       "      <td>2-A</td>\n",
       "      <td>Steel</td>\n",
       "      <td>Long Span</td>\n",
       "      <td>NaN</td>\n",
       "      <td>NaN</td>\n",
       "      <td>NaN</td>\n",
       "      <td>NaN</td>\n",
       "      <td>NaN</td>\n",
       "      <td>NaN</td>\n",
       "      <td>NaN</td>\n",
       "      <td>NaN</td>\n",
       "      <td>NaN</td>\n",
       "      <td>NaN</td>\n",
       "      <td>987120.0</td>\n",
       "    </tr>\n",
       "    <tr>\n",
       "      <th>140</th>\n",
       "      <td>1</td>\n",
       "      <td>10059.0</td>\n",
       "      <td>126.48</td>\n",
       "      <td>Commercial</td>\n",
       "      <td>1</td>\n",
       "      <td>2-A</td>\n",
       "      <td>Steel</td>\n",
       "      <td>Long Span</td>\n",
       "      <td>NaN</td>\n",
       "      <td>NaN</td>\n",
       "      <td>NaN</td>\n",
       "      <td>NaN</td>\n",
       "      <td>NaN</td>\n",
       "      <td>NaN</td>\n",
       "      <td>NaN</td>\n",
       "      <td>NaN</td>\n",
       "      <td>NaN</td>\n",
       "      <td>NaN</td>\n",
       "      <td>428770.0</td>\n",
       "    </tr>\n",
       "    <tr>\n",
       "      <th>141</th>\n",
       "      <td>1</td>\n",
       "      <td>10059.0</td>\n",
       "      <td>289.60</td>\n",
       "      <td>Commercial</td>\n",
       "      <td>2</td>\n",
       "      <td>2-A</td>\n",
       "      <td>GI/STEEL</td>\n",
       "      <td>GI</td>\n",
       "      <td>CHB</td>\n",
       "      <td>Tiles</td>\n",
       "      <td>NaN</td>\n",
       "      <td>NaN</td>\n",
       "      <td>NaN</td>\n",
       "      <td>WOODEN</td>\n",
       "      <td>NaN</td>\n",
       "      <td>PVC</td>\n",
       "      <td>TILES</td>\n",
       "      <td>PVC</td>\n",
       "      <td>2193980.0</td>\n",
       "    </tr>\n",
       "    <tr>\n",
       "      <th>142</th>\n",
       "      <td>3</td>\n",
       "      <td>1452.0</td>\n",
       "      <td>375.00</td>\n",
       "      <td>Commercial</td>\n",
       "      <td>2</td>\n",
       "      <td>NaN</td>\n",
       "      <td>Steel</td>\n",
       "      <td>GI</td>\n",
       "      <td>CHB</td>\n",
       "      <td>Tiles</td>\n",
       "      <td>GLASS</td>\n",
       "      <td>NaN</td>\n",
       "      <td>NaN</td>\n",
       "      <td>WOODEN</td>\n",
       "      <td>Cement Plaster</td>\n",
       "      <td>BREAKERS</td>\n",
       "      <td>TILES</td>\n",
       "      <td>PVC</td>\n",
       "      <td>1528600.0</td>\n",
       "    </tr>\n",
       "    <tr>\n",
       "      <th>143</th>\n",
       "      <td>3</td>\n",
       "      <td>433.0</td>\n",
       "      <td>46.22</td>\n",
       "      <td>Commercial</td>\n",
       "      <td>2</td>\n",
       "      <td>2-B</td>\n",
       "      <td>Wooden</td>\n",
       "      <td>GI</td>\n",
       "      <td>CHB</td>\n",
       "      <td>Concrete</td>\n",
       "      <td>PANEL</td>\n",
       "      <td>Plywood</td>\n",
       "      <td>Glass</td>\n",
       "      <td>WOODEN</td>\n",
       "      <td>Cement Plaster</td>\n",
       "      <td>Polyflex</td>\n",
       "      <td>TILES</td>\n",
       "      <td>GI</td>\n",
       "      <td>205000.0</td>\n",
       "    </tr>\n",
       "  </tbody>\n",
       "</table>\n",
       "</div>"
      ],
      "text/plain": [
       "     brgy  land_area  floor_area classification  storey struct_type  \\\n",
       "130     2        NaN      583.50    Residential       2         2-B   \n",
       "131     0      328.0      327.00     Commercial       2         2-B   \n",
       "132     0      263.0      180.00     Commercial       1         NaN   \n",
       "133     0      325.0      216.00     Commercial       2         2-A   \n",
       "134     0      446.0      232.00     Commercial       2         2-B   \n",
       "135     0     2552.0     2223.00     Commercial       2         2-A   \n",
       "136     0      328.0      327.00     Commercial       2         2-B   \n",
       "137     1    10059.0       55.49     Commercial       1         2-A   \n",
       "138     1    10059.0      451.40     Commercial       2         2-A   \n",
       "139     1    10059.0      216.00     Commercial       1         2-A   \n",
       "140     1    10059.0      126.48     Commercial       1         2-A   \n",
       "141     1    10059.0      289.60     Commercial       2         2-A   \n",
       "142     3     1452.0      375.00     Commercial       2         NaN   \n",
       "143     3      433.0       46.22     Commercial       2         2-B   \n",
       "\n",
       "    roof_framing    roofing ext_walls  flooring    doors  ceiling windows  \\\n",
       "130        Steel  Long Span       CHB  Concrete  ROLL UP  Plywood   Glass   \n",
       "131        Steel         GI       CHB  Concrete  ROLL UP  Plywood   Glass   \n",
       "132       Lumber         GI       CHB      Wood     WOOD  Plywood     NaN   \n",
       "133       Lumber         GI       CHB      Wood    PANEL  Plywood   Glass   \n",
       "134        Steel         GI       CHB  Concrete    Flush  Plywood   Glass   \n",
       "135        Steel         GI       CHB     Tiles    GLASS  Plywood   Glass   \n",
       "136        Steel         GI       CHB  Concrete  ROLL UP  Plywood   Glass   \n",
       "137        Steel  Long Span       CHB     Tiles    GLASS      NaN   Glass   \n",
       "138        Steel  Long Span       CHB     Tiles      NaN      NaN   Glass   \n",
       "139        Steel  Long Span       NaN       NaN      NaN      NaN     NaN   \n",
       "140        Steel  Long Span       NaN       NaN      NaN      NaN     NaN   \n",
       "141     GI/STEEL         GI       CHB     Tiles      NaN      NaN     NaN   \n",
       "142        Steel         GI       CHB     Tiles    GLASS      NaN     NaN   \n",
       "143       Wooden         GI       CHB  Concrete    PANEL  Plywood   Glass   \n",
       "\n",
       "     stairs         wall_finish elect_conduit toilet plumbing  target_value  \n",
       "130      RC  Plain Cement Paint      Polyflex  TILES       GI     2600000.0  \n",
       "131      RC      Cement Plaster           PVC  TILES      PVC      592790.0  \n",
       "132      CC      Cement Plaster           PVC    NaN      NaN       91650.0  \n",
       "133      RC      Cement Plaster           NaN  TILES      NaN      684000.0  \n",
       "134  WOODEN      Cement Plaster      Polyflex  TILES       GI      504000.0  \n",
       "135   CONC.  Plain Cement Paint      Polyflex  TILES       GI    14796577.0  \n",
       "136      RC      Cement Plaster           PVC  TILES      PVC      592790.0  \n",
       "137      CC                 CHB           PVC  TILES      PVC      487760.0  \n",
       "138      RC                 CHB           PVC  TILES      PVC     3088810.0  \n",
       "139     NaN                 NaN           NaN    NaN      NaN      987120.0  \n",
       "140     NaN                 NaN           NaN    NaN      NaN      428770.0  \n",
       "141  WOODEN                 NaN           PVC  TILES      PVC     2193980.0  \n",
       "142  WOODEN      Cement Plaster      BREAKERS  TILES      PVC     1528600.0  \n",
       "143  WOODEN      Cement Plaster      Polyflex  TILES       GI      205000.0  "
      ]
     },
     "execution_count": 396,
     "metadata": {},
     "output_type": "execute_result"
    }
   ],
   "source": [
    "df.tail(14)"
   ]
  },
  {
   "cell_type": "code",
   "execution_count": 397,
   "metadata": {},
   "outputs": [],
   "source": [
    "df['land_area'] = df['land_area'].fillna(df['land_area'].median())"
   ]
  },
  {
   "cell_type": "code",
   "execution_count": 398,
   "metadata": {},
   "outputs": [
    {
     "data": {
      "text/html": [
       "<div>\n",
       "<style scoped>\n",
       "    .dataframe tbody tr th:only-of-type {\n",
       "        vertical-align: middle;\n",
       "    }\n",
       "\n",
       "    .dataframe tbody tr th {\n",
       "        vertical-align: top;\n",
       "    }\n",
       "\n",
       "    .dataframe thead th {\n",
       "        text-align: right;\n",
       "    }\n",
       "</style>\n",
       "<table border=\"1\" class=\"dataframe\">\n",
       "  <thead>\n",
       "    <tr style=\"text-align: right;\">\n",
       "      <th></th>\n",
       "      <th>brgy</th>\n",
       "      <th>land_area</th>\n",
       "      <th>floor_area</th>\n",
       "      <th>classification</th>\n",
       "      <th>storey</th>\n",
       "      <th>struct_type</th>\n",
       "      <th>roof_framing</th>\n",
       "      <th>roofing</th>\n",
       "      <th>ext_walls</th>\n",
       "      <th>flooring</th>\n",
       "      <th>doors</th>\n",
       "      <th>ceiling</th>\n",
       "      <th>windows</th>\n",
       "      <th>stairs</th>\n",
       "      <th>wall_finish</th>\n",
       "      <th>elect_conduit</th>\n",
       "      <th>toilet</th>\n",
       "      <th>plumbing</th>\n",
       "      <th>target_value</th>\n",
       "    </tr>\n",
       "  </thead>\n",
       "  <tbody>\n",
       "    <tr>\n",
       "      <th>130</th>\n",
       "      <td>2</td>\n",
       "      <td>263.0</td>\n",
       "      <td>583.50</td>\n",
       "      <td>Residential</td>\n",
       "      <td>2</td>\n",
       "      <td>2-B</td>\n",
       "      <td>Steel</td>\n",
       "      <td>Long Span</td>\n",
       "      <td>CHB</td>\n",
       "      <td>Concrete</td>\n",
       "      <td>ROLL UP</td>\n",
       "      <td>Plywood</td>\n",
       "      <td>Glass</td>\n",
       "      <td>RC</td>\n",
       "      <td>Plain Cement Paint</td>\n",
       "      <td>Polyflex</td>\n",
       "      <td>TILES</td>\n",
       "      <td>GI</td>\n",
       "      <td>2600000.0</td>\n",
       "    </tr>\n",
       "    <tr>\n",
       "      <th>131</th>\n",
       "      <td>0</td>\n",
       "      <td>328.0</td>\n",
       "      <td>327.00</td>\n",
       "      <td>Commercial</td>\n",
       "      <td>2</td>\n",
       "      <td>2-B</td>\n",
       "      <td>Steel</td>\n",
       "      <td>GI</td>\n",
       "      <td>CHB</td>\n",
       "      <td>Concrete</td>\n",
       "      <td>ROLL UP</td>\n",
       "      <td>Plywood</td>\n",
       "      <td>Glass</td>\n",
       "      <td>RC</td>\n",
       "      <td>Cement Plaster</td>\n",
       "      <td>PVC</td>\n",
       "      <td>TILES</td>\n",
       "      <td>PVC</td>\n",
       "      <td>592790.0</td>\n",
       "    </tr>\n",
       "    <tr>\n",
       "      <th>132</th>\n",
       "      <td>0</td>\n",
       "      <td>263.0</td>\n",
       "      <td>180.00</td>\n",
       "      <td>Commercial</td>\n",
       "      <td>1</td>\n",
       "      <td>NaN</td>\n",
       "      <td>Lumber</td>\n",
       "      <td>GI</td>\n",
       "      <td>CHB</td>\n",
       "      <td>Wood</td>\n",
       "      <td>WOOD</td>\n",
       "      <td>Plywood</td>\n",
       "      <td>NaN</td>\n",
       "      <td>CC</td>\n",
       "      <td>Cement Plaster</td>\n",
       "      <td>PVC</td>\n",
       "      <td>NaN</td>\n",
       "      <td>NaN</td>\n",
       "      <td>91650.0</td>\n",
       "    </tr>\n",
       "    <tr>\n",
       "      <th>133</th>\n",
       "      <td>0</td>\n",
       "      <td>325.0</td>\n",
       "      <td>216.00</td>\n",
       "      <td>Commercial</td>\n",
       "      <td>2</td>\n",
       "      <td>2-A</td>\n",
       "      <td>Lumber</td>\n",
       "      <td>GI</td>\n",
       "      <td>CHB</td>\n",
       "      <td>Wood</td>\n",
       "      <td>PANEL</td>\n",
       "      <td>Plywood</td>\n",
       "      <td>Glass</td>\n",
       "      <td>RC</td>\n",
       "      <td>Cement Plaster</td>\n",
       "      <td>NaN</td>\n",
       "      <td>TILES</td>\n",
       "      <td>NaN</td>\n",
       "      <td>684000.0</td>\n",
       "    </tr>\n",
       "    <tr>\n",
       "      <th>134</th>\n",
       "      <td>0</td>\n",
       "      <td>446.0</td>\n",
       "      <td>232.00</td>\n",
       "      <td>Commercial</td>\n",
       "      <td>2</td>\n",
       "      <td>2-B</td>\n",
       "      <td>Steel</td>\n",
       "      <td>GI</td>\n",
       "      <td>CHB</td>\n",
       "      <td>Concrete</td>\n",
       "      <td>Flush</td>\n",
       "      <td>Plywood</td>\n",
       "      <td>Glass</td>\n",
       "      <td>WOODEN</td>\n",
       "      <td>Cement Plaster</td>\n",
       "      <td>Polyflex</td>\n",
       "      <td>TILES</td>\n",
       "      <td>GI</td>\n",
       "      <td>504000.0</td>\n",
       "    </tr>\n",
       "    <tr>\n",
       "      <th>135</th>\n",
       "      <td>0</td>\n",
       "      <td>2552.0</td>\n",
       "      <td>2223.00</td>\n",
       "      <td>Commercial</td>\n",
       "      <td>2</td>\n",
       "      <td>2-A</td>\n",
       "      <td>Steel</td>\n",
       "      <td>GI</td>\n",
       "      <td>CHB</td>\n",
       "      <td>Tiles</td>\n",
       "      <td>GLASS</td>\n",
       "      <td>Plywood</td>\n",
       "      <td>Glass</td>\n",
       "      <td>CONC.</td>\n",
       "      <td>Plain Cement Paint</td>\n",
       "      <td>Polyflex</td>\n",
       "      <td>TILES</td>\n",
       "      <td>GI</td>\n",
       "      <td>14796577.0</td>\n",
       "    </tr>\n",
       "    <tr>\n",
       "      <th>136</th>\n",
       "      <td>0</td>\n",
       "      <td>328.0</td>\n",
       "      <td>327.00</td>\n",
       "      <td>Commercial</td>\n",
       "      <td>2</td>\n",
       "      <td>2-B</td>\n",
       "      <td>Steel</td>\n",
       "      <td>GI</td>\n",
       "      <td>CHB</td>\n",
       "      <td>Concrete</td>\n",
       "      <td>ROLL UP</td>\n",
       "      <td>Plywood</td>\n",
       "      <td>Glass</td>\n",
       "      <td>RC</td>\n",
       "      <td>Cement Plaster</td>\n",
       "      <td>PVC</td>\n",
       "      <td>TILES</td>\n",
       "      <td>PVC</td>\n",
       "      <td>592790.0</td>\n",
       "    </tr>\n",
       "    <tr>\n",
       "      <th>137</th>\n",
       "      <td>1</td>\n",
       "      <td>10059.0</td>\n",
       "      <td>55.49</td>\n",
       "      <td>Commercial</td>\n",
       "      <td>1</td>\n",
       "      <td>2-A</td>\n",
       "      <td>Steel</td>\n",
       "      <td>Long Span</td>\n",
       "      <td>CHB</td>\n",
       "      <td>Tiles</td>\n",
       "      <td>GLASS</td>\n",
       "      <td>NaN</td>\n",
       "      <td>Glass</td>\n",
       "      <td>CC</td>\n",
       "      <td>CHB</td>\n",
       "      <td>PVC</td>\n",
       "      <td>TILES</td>\n",
       "      <td>PVC</td>\n",
       "      <td>487760.0</td>\n",
       "    </tr>\n",
       "    <tr>\n",
       "      <th>138</th>\n",
       "      <td>1</td>\n",
       "      <td>10059.0</td>\n",
       "      <td>451.40</td>\n",
       "      <td>Commercial</td>\n",
       "      <td>2</td>\n",
       "      <td>2-A</td>\n",
       "      <td>Steel</td>\n",
       "      <td>Long Span</td>\n",
       "      <td>CHB</td>\n",
       "      <td>Tiles</td>\n",
       "      <td>NaN</td>\n",
       "      <td>NaN</td>\n",
       "      <td>Glass</td>\n",
       "      <td>RC</td>\n",
       "      <td>CHB</td>\n",
       "      <td>PVC</td>\n",
       "      <td>TILES</td>\n",
       "      <td>PVC</td>\n",
       "      <td>3088810.0</td>\n",
       "    </tr>\n",
       "    <tr>\n",
       "      <th>139</th>\n",
       "      <td>1</td>\n",
       "      <td>10059.0</td>\n",
       "      <td>216.00</td>\n",
       "      <td>Commercial</td>\n",
       "      <td>1</td>\n",
       "      <td>2-A</td>\n",
       "      <td>Steel</td>\n",
       "      <td>Long Span</td>\n",
       "      <td>NaN</td>\n",
       "      <td>NaN</td>\n",
       "      <td>NaN</td>\n",
       "      <td>NaN</td>\n",
       "      <td>NaN</td>\n",
       "      <td>NaN</td>\n",
       "      <td>NaN</td>\n",
       "      <td>NaN</td>\n",
       "      <td>NaN</td>\n",
       "      <td>NaN</td>\n",
       "      <td>987120.0</td>\n",
       "    </tr>\n",
       "    <tr>\n",
       "      <th>140</th>\n",
       "      <td>1</td>\n",
       "      <td>10059.0</td>\n",
       "      <td>126.48</td>\n",
       "      <td>Commercial</td>\n",
       "      <td>1</td>\n",
       "      <td>2-A</td>\n",
       "      <td>Steel</td>\n",
       "      <td>Long Span</td>\n",
       "      <td>NaN</td>\n",
       "      <td>NaN</td>\n",
       "      <td>NaN</td>\n",
       "      <td>NaN</td>\n",
       "      <td>NaN</td>\n",
       "      <td>NaN</td>\n",
       "      <td>NaN</td>\n",
       "      <td>NaN</td>\n",
       "      <td>NaN</td>\n",
       "      <td>NaN</td>\n",
       "      <td>428770.0</td>\n",
       "    </tr>\n",
       "    <tr>\n",
       "      <th>141</th>\n",
       "      <td>1</td>\n",
       "      <td>10059.0</td>\n",
       "      <td>289.60</td>\n",
       "      <td>Commercial</td>\n",
       "      <td>2</td>\n",
       "      <td>2-A</td>\n",
       "      <td>GI/STEEL</td>\n",
       "      <td>GI</td>\n",
       "      <td>CHB</td>\n",
       "      <td>Tiles</td>\n",
       "      <td>NaN</td>\n",
       "      <td>NaN</td>\n",
       "      <td>NaN</td>\n",
       "      <td>WOODEN</td>\n",
       "      <td>NaN</td>\n",
       "      <td>PVC</td>\n",
       "      <td>TILES</td>\n",
       "      <td>PVC</td>\n",
       "      <td>2193980.0</td>\n",
       "    </tr>\n",
       "    <tr>\n",
       "      <th>142</th>\n",
       "      <td>3</td>\n",
       "      <td>1452.0</td>\n",
       "      <td>375.00</td>\n",
       "      <td>Commercial</td>\n",
       "      <td>2</td>\n",
       "      <td>NaN</td>\n",
       "      <td>Steel</td>\n",
       "      <td>GI</td>\n",
       "      <td>CHB</td>\n",
       "      <td>Tiles</td>\n",
       "      <td>GLASS</td>\n",
       "      <td>NaN</td>\n",
       "      <td>NaN</td>\n",
       "      <td>WOODEN</td>\n",
       "      <td>Cement Plaster</td>\n",
       "      <td>BREAKERS</td>\n",
       "      <td>TILES</td>\n",
       "      <td>PVC</td>\n",
       "      <td>1528600.0</td>\n",
       "    </tr>\n",
       "    <tr>\n",
       "      <th>143</th>\n",
       "      <td>3</td>\n",
       "      <td>433.0</td>\n",
       "      <td>46.22</td>\n",
       "      <td>Commercial</td>\n",
       "      <td>2</td>\n",
       "      <td>2-B</td>\n",
       "      <td>Wooden</td>\n",
       "      <td>GI</td>\n",
       "      <td>CHB</td>\n",
       "      <td>Concrete</td>\n",
       "      <td>PANEL</td>\n",
       "      <td>Plywood</td>\n",
       "      <td>Glass</td>\n",
       "      <td>WOODEN</td>\n",
       "      <td>Cement Plaster</td>\n",
       "      <td>Polyflex</td>\n",
       "      <td>TILES</td>\n",
       "      <td>GI</td>\n",
       "      <td>205000.0</td>\n",
       "    </tr>\n",
       "  </tbody>\n",
       "</table>\n",
       "</div>"
      ],
      "text/plain": [
       "     brgy  land_area  floor_area classification  storey struct_type  \\\n",
       "130     2      263.0      583.50    Residential       2         2-B   \n",
       "131     0      328.0      327.00     Commercial       2         2-B   \n",
       "132     0      263.0      180.00     Commercial       1         NaN   \n",
       "133     0      325.0      216.00     Commercial       2         2-A   \n",
       "134     0      446.0      232.00     Commercial       2         2-B   \n",
       "135     0     2552.0     2223.00     Commercial       2         2-A   \n",
       "136     0      328.0      327.00     Commercial       2         2-B   \n",
       "137     1    10059.0       55.49     Commercial       1         2-A   \n",
       "138     1    10059.0      451.40     Commercial       2         2-A   \n",
       "139     1    10059.0      216.00     Commercial       1         2-A   \n",
       "140     1    10059.0      126.48     Commercial       1         2-A   \n",
       "141     1    10059.0      289.60     Commercial       2         2-A   \n",
       "142     3     1452.0      375.00     Commercial       2         NaN   \n",
       "143     3      433.0       46.22     Commercial       2         2-B   \n",
       "\n",
       "    roof_framing    roofing ext_walls  flooring    doors  ceiling windows  \\\n",
       "130        Steel  Long Span       CHB  Concrete  ROLL UP  Plywood   Glass   \n",
       "131        Steel         GI       CHB  Concrete  ROLL UP  Plywood   Glass   \n",
       "132       Lumber         GI       CHB      Wood     WOOD  Plywood     NaN   \n",
       "133       Lumber         GI       CHB      Wood    PANEL  Plywood   Glass   \n",
       "134        Steel         GI       CHB  Concrete    Flush  Plywood   Glass   \n",
       "135        Steel         GI       CHB     Tiles    GLASS  Plywood   Glass   \n",
       "136        Steel         GI       CHB  Concrete  ROLL UP  Plywood   Glass   \n",
       "137        Steel  Long Span       CHB     Tiles    GLASS      NaN   Glass   \n",
       "138        Steel  Long Span       CHB     Tiles      NaN      NaN   Glass   \n",
       "139        Steel  Long Span       NaN       NaN      NaN      NaN     NaN   \n",
       "140        Steel  Long Span       NaN       NaN      NaN      NaN     NaN   \n",
       "141     GI/STEEL         GI       CHB     Tiles      NaN      NaN     NaN   \n",
       "142        Steel         GI       CHB     Tiles    GLASS      NaN     NaN   \n",
       "143       Wooden         GI       CHB  Concrete    PANEL  Plywood   Glass   \n",
       "\n",
       "     stairs         wall_finish elect_conduit toilet plumbing  target_value  \n",
       "130      RC  Plain Cement Paint      Polyflex  TILES       GI     2600000.0  \n",
       "131      RC      Cement Plaster           PVC  TILES      PVC      592790.0  \n",
       "132      CC      Cement Plaster           PVC    NaN      NaN       91650.0  \n",
       "133      RC      Cement Plaster           NaN  TILES      NaN      684000.0  \n",
       "134  WOODEN      Cement Plaster      Polyflex  TILES       GI      504000.0  \n",
       "135   CONC.  Plain Cement Paint      Polyflex  TILES       GI    14796577.0  \n",
       "136      RC      Cement Plaster           PVC  TILES      PVC      592790.0  \n",
       "137      CC                 CHB           PVC  TILES      PVC      487760.0  \n",
       "138      RC                 CHB           PVC  TILES      PVC     3088810.0  \n",
       "139     NaN                 NaN           NaN    NaN      NaN      987120.0  \n",
       "140     NaN                 NaN           NaN    NaN      NaN      428770.0  \n",
       "141  WOODEN                 NaN           PVC  TILES      PVC     2193980.0  \n",
       "142  WOODEN      Cement Plaster      BREAKERS  TILES      PVC     1528600.0  \n",
       "143  WOODEN      Cement Plaster      Polyflex  TILES       GI      205000.0  "
      ]
     },
     "execution_count": 398,
     "metadata": {},
     "output_type": "execute_result"
    }
   ],
   "source": [
    "df.tail(14)"
   ]
  },
  {
   "cell_type": "code",
   "execution_count": 399,
   "metadata": {},
   "outputs": [
    {
     "data": {
      "text/plain": [
       "brgy               0\n",
       "land_area          0\n",
       "floor_area         0\n",
       "classification     0\n",
       "storey             0\n",
       "struct_type       33\n",
       "roof_framing       2\n",
       "roofing            0\n",
       "ext_walls          2\n",
       "flooring           2\n",
       "doors              5\n",
       "ceiling           26\n",
       "windows            7\n",
       "stairs            47\n",
       "wall_finish       15\n",
       "elect_conduit     11\n",
       "toilet            12\n",
       "plumbing          16\n",
       "target_value       0\n",
       "dtype: int64"
      ]
     },
     "execution_count": 399,
     "metadata": {},
     "output_type": "execute_result"
    }
   ],
   "source": [
    "df.isna().sum()"
   ]
  },
  {
   "cell_type": "markdown",
   "metadata": {},
   "source": [
    "##### Classification"
   ]
  },
  {
   "cell_type": "code",
   "execution_count": 400,
   "metadata": {},
   "outputs": [
    {
     "data": {
      "text/plain": [
       "array(['Residential', 'Commercial'], dtype=object)"
      ]
     },
     "execution_count": 400,
     "metadata": {},
     "output_type": "execute_result"
    }
   ],
   "source": [
    "df['classification'].unique()"
   ]
  },
  {
   "cell_type": "code",
   "execution_count": 401,
   "metadata": {},
   "outputs": [
    {
     "data": {
      "text/plain": [
       "array([1, 0], dtype=int64)"
      ]
     },
     "execution_count": 401,
     "metadata": {},
     "output_type": "execute_result"
    }
   ],
   "source": [
    "df['classification'] = df['classification'].replace({'Commercial': 0,'Residential':1})\n",
    "df['classification'].unique()"
   ]
  },
  {
   "cell_type": "markdown",
   "metadata": {},
   "source": [
    "##### Structural Type"
   ]
  },
  {
   "cell_type": "code",
   "execution_count": 402,
   "metadata": {},
   "outputs": [
    {
     "data": {
      "text/plain": [
       "array(['2-A', '3-A', nan, '2-B', '3-B', '1-B', '1-C'], dtype=object)"
      ]
     },
     "execution_count": 402,
     "metadata": {},
     "output_type": "execute_result"
    }
   ],
   "source": [
    "df['struct_type'].unique()"
   ]
  },
  {
   "cell_type": "code",
   "execution_count": 403,
   "metadata": {},
   "outputs": [],
   "source": [
    "df['struct_type']= df['struct_type'].replace({'1-A': 0,'1-B':1,'1-C':2,'2-A':3,'2-B':4,'3-A':5,'3-B':6,'4':7,'5-A':8,'5-B':9})"
   ]
  },
  {
   "cell_type": "code",
   "execution_count": 404,
   "metadata": {},
   "outputs": [
    {
     "data": {
      "text/plain": [
       "0    3.0\n",
       "1    5.0\n",
       "2    NaN\n",
       "3    3.0\n",
       "4    3.0\n",
       "Name: struct_type, dtype: float64"
      ]
     },
     "execution_count": 404,
     "metadata": {},
     "output_type": "execute_result"
    }
   ],
   "source": [
    "df['struct_type'].head()"
   ]
  },
  {
   "cell_type": "code",
   "execution_count": 405,
   "metadata": {},
   "outputs": [
    {
     "data": {
      "text/html": [
       "<div>\n",
       "<style scoped>\n",
       "    .dataframe tbody tr th:only-of-type {\n",
       "        vertical-align: middle;\n",
       "    }\n",
       "\n",
       "    .dataframe tbody tr th {\n",
       "        vertical-align: top;\n",
       "    }\n",
       "\n",
       "    .dataframe thead th {\n",
       "        text-align: right;\n",
       "    }\n",
       "</style>\n",
       "<table border=\"1\" class=\"dataframe\">\n",
       "  <thead>\n",
       "    <tr style=\"text-align: right;\">\n",
       "      <th></th>\n",
       "      <th>brgy</th>\n",
       "      <th>land_area</th>\n",
       "      <th>floor_area</th>\n",
       "      <th>classification</th>\n",
       "      <th>storey</th>\n",
       "      <th>struct_type</th>\n",
       "      <th>roof_framing</th>\n",
       "      <th>roofing</th>\n",
       "      <th>ext_walls</th>\n",
       "      <th>flooring</th>\n",
       "      <th>doors</th>\n",
       "      <th>ceiling</th>\n",
       "      <th>windows</th>\n",
       "      <th>stairs</th>\n",
       "      <th>wall_finish</th>\n",
       "      <th>elect_conduit</th>\n",
       "      <th>toilet</th>\n",
       "      <th>plumbing</th>\n",
       "      <th>target_value</th>\n",
       "    </tr>\n",
       "  </thead>\n",
       "  <tbody>\n",
       "    <tr>\n",
       "      <th>0</th>\n",
       "      <td>0</td>\n",
       "      <td>665.0</td>\n",
       "      <td>354.08</td>\n",
       "      <td>1</td>\n",
       "      <td>2</td>\n",
       "      <td>3.0</td>\n",
       "      <td>Steel</td>\n",
       "      <td>GI</td>\n",
       "      <td>Cement Plaster</td>\n",
       "      <td>Tiles</td>\n",
       "      <td>WOOD</td>\n",
       "      <td>Plywood</td>\n",
       "      <td>Glass</td>\n",
       "      <td>CONC.</td>\n",
       "      <td>Cement Plaster</td>\n",
       "      <td>PVC</td>\n",
       "      <td>Tiles</td>\n",
       "      <td>PVC</td>\n",
       "      <td>1000000.0</td>\n",
       "    </tr>\n",
       "    <tr>\n",
       "      <th>1</th>\n",
       "      <td>0</td>\n",
       "      <td>104.0</td>\n",
       "      <td>71.25</td>\n",
       "      <td>1</td>\n",
       "      <td>1</td>\n",
       "      <td>5.0</td>\n",
       "      <td>Steel</td>\n",
       "      <td>Long Span</td>\n",
       "      <td>CHB</td>\n",
       "      <td>Tiles</td>\n",
       "      <td>WOOD</td>\n",
       "      <td>Plywood</td>\n",
       "      <td>Alum. Casement</td>\n",
       "      <td>CONC.</td>\n",
       "      <td>Plain Cement Paint</td>\n",
       "      <td>Polyflex</td>\n",
       "      <td>Tiles</td>\n",
       "      <td>PVC</td>\n",
       "      <td>413000.0</td>\n",
       "    </tr>\n",
       "    <tr>\n",
       "      <th>2</th>\n",
       "      <td>0</td>\n",
       "      <td>406.0</td>\n",
       "      <td>210.30</td>\n",
       "      <td>1</td>\n",
       "      <td>1</td>\n",
       "      <td>NaN</td>\n",
       "      <td>Steel</td>\n",
       "      <td>GI</td>\n",
       "      <td>CHB</td>\n",
       "      <td>Tiles</td>\n",
       "      <td>WOOD</td>\n",
       "      <td>Plywood</td>\n",
       "      <td>Glass</td>\n",
       "      <td>CONC.</td>\n",
       "      <td>Cement Plaster</td>\n",
       "      <td>PVC</td>\n",
       "      <td>Tiles</td>\n",
       "      <td>PVC</td>\n",
       "      <td>727910.0</td>\n",
       "    </tr>\n",
       "    <tr>\n",
       "      <th>3</th>\n",
       "      <td>0</td>\n",
       "      <td>240.0</td>\n",
       "      <td>81.00</td>\n",
       "      <td>1</td>\n",
       "      <td>1</td>\n",
       "      <td>3.0</td>\n",
       "      <td>Steel</td>\n",
       "      <td>Long Span</td>\n",
       "      <td>CHB</td>\n",
       "      <td>Tiles</td>\n",
       "      <td>WOOD</td>\n",
       "      <td>Plywood</td>\n",
       "      <td>Alum. Casement</td>\n",
       "      <td>CONC.</td>\n",
       "      <td>Cement Plaster</td>\n",
       "      <td>Polyflex</td>\n",
       "      <td>Tiles</td>\n",
       "      <td>PVC</td>\n",
       "      <td>610000.0</td>\n",
       "    </tr>\n",
       "    <tr>\n",
       "      <th>4</th>\n",
       "      <td>5</td>\n",
       "      <td>314.0</td>\n",
       "      <td>1314.00</td>\n",
       "      <td>0</td>\n",
       "      <td>4</td>\n",
       "      <td>3.0</td>\n",
       "      <td>Steel</td>\n",
       "      <td>GI</td>\n",
       "      <td>CHB</td>\n",
       "      <td>Tiles</td>\n",
       "      <td>Flush</td>\n",
       "      <td>NaN</td>\n",
       "      <td>Alum. Casement</td>\n",
       "      <td>CONC.</td>\n",
       "      <td>Cement Plaster</td>\n",
       "      <td>PVC</td>\n",
       "      <td>Tiles</td>\n",
       "      <td>GI</td>\n",
       "      <td>7393688.0</td>\n",
       "    </tr>\n",
       "  </tbody>\n",
       "</table>\n",
       "</div>"
      ],
      "text/plain": [
       "   brgy  land_area  floor_area  classification  storey  struct_type  \\\n",
       "0     0      665.0      354.08               1       2          3.0   \n",
       "1     0      104.0       71.25               1       1          5.0   \n",
       "2     0      406.0      210.30               1       1          NaN   \n",
       "3     0      240.0       81.00               1       1          3.0   \n",
       "4     5      314.0     1314.00               0       4          3.0   \n",
       "\n",
       "  roof_framing    roofing       ext_walls flooring  doors  ceiling  \\\n",
       "0        Steel         GI  Cement Plaster    Tiles   WOOD  Plywood   \n",
       "1        Steel  Long Span             CHB    Tiles   WOOD  Plywood   \n",
       "2        Steel         GI             CHB    Tiles   WOOD  Plywood   \n",
       "3        Steel  Long Span             CHB    Tiles   WOOD  Plywood   \n",
       "4        Steel         GI             CHB    Tiles  Flush      NaN   \n",
       "\n",
       "          windows stairs         wall_finish elect_conduit toilet plumbing  \\\n",
       "0           Glass  CONC.      Cement Plaster           PVC  Tiles      PVC   \n",
       "1  Alum. Casement  CONC.  Plain Cement Paint      Polyflex  Tiles      PVC   \n",
       "2           Glass  CONC.      Cement Plaster           PVC  Tiles      PVC   \n",
       "3  Alum. Casement  CONC.      Cement Plaster      Polyflex  Tiles      PVC   \n",
       "4  Alum. Casement  CONC.      Cement Plaster           PVC  Tiles       GI   \n",
       "\n",
       "   target_value  \n",
       "0     1000000.0  \n",
       "1      413000.0  \n",
       "2      727910.0  \n",
       "3      610000.0  \n",
       "4     7393688.0  "
      ]
     },
     "execution_count": 405,
     "metadata": {},
     "output_type": "execute_result"
    }
   ],
   "source": [
    "df.head()"
   ]
  },
  {
   "cell_type": "code",
   "execution_count": 406,
   "metadata": {},
   "outputs": [],
   "source": [
    "df['struct_type'] = df['struct_type'].fillna(statistics.mode(df['struct_type']))"
   ]
  },
  {
   "cell_type": "code",
   "execution_count": 407,
   "metadata": {},
   "outputs": [
    {
     "data": {
      "text/html": [
       "<div>\n",
       "<style scoped>\n",
       "    .dataframe tbody tr th:only-of-type {\n",
       "        vertical-align: middle;\n",
       "    }\n",
       "\n",
       "    .dataframe tbody tr th {\n",
       "        vertical-align: top;\n",
       "    }\n",
       "\n",
       "    .dataframe thead th {\n",
       "        text-align: right;\n",
       "    }\n",
       "</style>\n",
       "<table border=\"1\" class=\"dataframe\">\n",
       "  <thead>\n",
       "    <tr style=\"text-align: right;\">\n",
       "      <th></th>\n",
       "      <th>brgy</th>\n",
       "      <th>land_area</th>\n",
       "      <th>floor_area</th>\n",
       "      <th>classification</th>\n",
       "      <th>storey</th>\n",
       "      <th>struct_type</th>\n",
       "      <th>roof_framing</th>\n",
       "      <th>roofing</th>\n",
       "      <th>ext_walls</th>\n",
       "      <th>flooring</th>\n",
       "      <th>doors</th>\n",
       "      <th>ceiling</th>\n",
       "      <th>windows</th>\n",
       "      <th>stairs</th>\n",
       "      <th>wall_finish</th>\n",
       "      <th>elect_conduit</th>\n",
       "      <th>toilet</th>\n",
       "      <th>plumbing</th>\n",
       "      <th>target_value</th>\n",
       "    </tr>\n",
       "  </thead>\n",
       "  <tbody>\n",
       "    <tr>\n",
       "      <th>0</th>\n",
       "      <td>0</td>\n",
       "      <td>665.0</td>\n",
       "      <td>354.08</td>\n",
       "      <td>1</td>\n",
       "      <td>2</td>\n",
       "      <td>3.0</td>\n",
       "      <td>Steel</td>\n",
       "      <td>GI</td>\n",
       "      <td>Cement Plaster</td>\n",
       "      <td>Tiles</td>\n",
       "      <td>WOOD</td>\n",
       "      <td>Plywood</td>\n",
       "      <td>Glass</td>\n",
       "      <td>CONC.</td>\n",
       "      <td>Cement Plaster</td>\n",
       "      <td>PVC</td>\n",
       "      <td>Tiles</td>\n",
       "      <td>PVC</td>\n",
       "      <td>1000000.0</td>\n",
       "    </tr>\n",
       "    <tr>\n",
       "      <th>1</th>\n",
       "      <td>0</td>\n",
       "      <td>104.0</td>\n",
       "      <td>71.25</td>\n",
       "      <td>1</td>\n",
       "      <td>1</td>\n",
       "      <td>5.0</td>\n",
       "      <td>Steel</td>\n",
       "      <td>Long Span</td>\n",
       "      <td>CHB</td>\n",
       "      <td>Tiles</td>\n",
       "      <td>WOOD</td>\n",
       "      <td>Plywood</td>\n",
       "      <td>Alum. Casement</td>\n",
       "      <td>CONC.</td>\n",
       "      <td>Plain Cement Paint</td>\n",
       "      <td>Polyflex</td>\n",
       "      <td>Tiles</td>\n",
       "      <td>PVC</td>\n",
       "      <td>413000.0</td>\n",
       "    </tr>\n",
       "    <tr>\n",
       "      <th>2</th>\n",
       "      <td>0</td>\n",
       "      <td>406.0</td>\n",
       "      <td>210.30</td>\n",
       "      <td>1</td>\n",
       "      <td>1</td>\n",
       "      <td>3.0</td>\n",
       "      <td>Steel</td>\n",
       "      <td>GI</td>\n",
       "      <td>CHB</td>\n",
       "      <td>Tiles</td>\n",
       "      <td>WOOD</td>\n",
       "      <td>Plywood</td>\n",
       "      <td>Glass</td>\n",
       "      <td>CONC.</td>\n",
       "      <td>Cement Plaster</td>\n",
       "      <td>PVC</td>\n",
       "      <td>Tiles</td>\n",
       "      <td>PVC</td>\n",
       "      <td>727910.0</td>\n",
       "    </tr>\n",
       "    <tr>\n",
       "      <th>3</th>\n",
       "      <td>0</td>\n",
       "      <td>240.0</td>\n",
       "      <td>81.00</td>\n",
       "      <td>1</td>\n",
       "      <td>1</td>\n",
       "      <td>3.0</td>\n",
       "      <td>Steel</td>\n",
       "      <td>Long Span</td>\n",
       "      <td>CHB</td>\n",
       "      <td>Tiles</td>\n",
       "      <td>WOOD</td>\n",
       "      <td>Plywood</td>\n",
       "      <td>Alum. Casement</td>\n",
       "      <td>CONC.</td>\n",
       "      <td>Cement Plaster</td>\n",
       "      <td>Polyflex</td>\n",
       "      <td>Tiles</td>\n",
       "      <td>PVC</td>\n",
       "      <td>610000.0</td>\n",
       "    </tr>\n",
       "    <tr>\n",
       "      <th>4</th>\n",
       "      <td>5</td>\n",
       "      <td>314.0</td>\n",
       "      <td>1314.00</td>\n",
       "      <td>0</td>\n",
       "      <td>4</td>\n",
       "      <td>3.0</td>\n",
       "      <td>Steel</td>\n",
       "      <td>GI</td>\n",
       "      <td>CHB</td>\n",
       "      <td>Tiles</td>\n",
       "      <td>Flush</td>\n",
       "      <td>NaN</td>\n",
       "      <td>Alum. Casement</td>\n",
       "      <td>CONC.</td>\n",
       "      <td>Cement Plaster</td>\n",
       "      <td>PVC</td>\n",
       "      <td>Tiles</td>\n",
       "      <td>GI</td>\n",
       "      <td>7393688.0</td>\n",
       "    </tr>\n",
       "  </tbody>\n",
       "</table>\n",
       "</div>"
      ],
      "text/plain": [
       "   brgy  land_area  floor_area  classification  storey  struct_type  \\\n",
       "0     0      665.0      354.08               1       2          3.0   \n",
       "1     0      104.0       71.25               1       1          5.0   \n",
       "2     0      406.0      210.30               1       1          3.0   \n",
       "3     0      240.0       81.00               1       1          3.0   \n",
       "4     5      314.0     1314.00               0       4          3.0   \n",
       "\n",
       "  roof_framing    roofing       ext_walls flooring  doors  ceiling  \\\n",
       "0        Steel         GI  Cement Plaster    Tiles   WOOD  Plywood   \n",
       "1        Steel  Long Span             CHB    Tiles   WOOD  Plywood   \n",
       "2        Steel         GI             CHB    Tiles   WOOD  Plywood   \n",
       "3        Steel  Long Span             CHB    Tiles   WOOD  Plywood   \n",
       "4        Steel         GI             CHB    Tiles  Flush      NaN   \n",
       "\n",
       "          windows stairs         wall_finish elect_conduit toilet plumbing  \\\n",
       "0           Glass  CONC.      Cement Plaster           PVC  Tiles      PVC   \n",
       "1  Alum. Casement  CONC.  Plain Cement Paint      Polyflex  Tiles      PVC   \n",
       "2           Glass  CONC.      Cement Plaster           PVC  Tiles      PVC   \n",
       "3  Alum. Casement  CONC.      Cement Plaster      Polyflex  Tiles      PVC   \n",
       "4  Alum. Casement  CONC.      Cement Plaster           PVC  Tiles       GI   \n",
       "\n",
       "   target_value  \n",
       "0     1000000.0  \n",
       "1      413000.0  \n",
       "2      727910.0  \n",
       "3      610000.0  \n",
       "4     7393688.0  "
      ]
     },
     "execution_count": 407,
     "metadata": {},
     "output_type": "execute_result"
    }
   ],
   "source": [
    "df.head()"
   ]
  },
  {
   "cell_type": "markdown",
   "metadata": {},
   "source": [
    "##### Roof Framing"
   ]
  },
  {
   "cell_type": "code",
   "execution_count": 408,
   "metadata": {},
   "outputs": [
    {
     "data": {
      "text/html": [
       "<div>\n",
       "<style scoped>\n",
       "    .dataframe tbody tr th:only-of-type {\n",
       "        vertical-align: middle;\n",
       "    }\n",
       "\n",
       "    .dataframe tbody tr th {\n",
       "        vertical-align: top;\n",
       "    }\n",
       "\n",
       "    .dataframe thead th {\n",
       "        text-align: right;\n",
       "    }\n",
       "</style>\n",
       "<table border=\"1\" class=\"dataframe\">\n",
       "  <thead>\n",
       "    <tr style=\"text-align: right;\">\n",
       "      <th></th>\n",
       "      <th>brgy</th>\n",
       "      <th>land_area</th>\n",
       "      <th>floor_area</th>\n",
       "      <th>classification</th>\n",
       "      <th>storey</th>\n",
       "      <th>struct_type</th>\n",
       "      <th>roof_framing</th>\n",
       "      <th>roofing</th>\n",
       "      <th>ext_walls</th>\n",
       "      <th>flooring</th>\n",
       "      <th>doors</th>\n",
       "      <th>ceiling</th>\n",
       "      <th>windows</th>\n",
       "      <th>stairs</th>\n",
       "      <th>wall_finish</th>\n",
       "      <th>elect_conduit</th>\n",
       "      <th>toilet</th>\n",
       "      <th>plumbing</th>\n",
       "      <th>target_value</th>\n",
       "    </tr>\n",
       "  </thead>\n",
       "  <tbody>\n",
       "    <tr>\n",
       "      <th>51</th>\n",
       "      <td>6</td>\n",
       "      <td>2000.0</td>\n",
       "      <td>435.00</td>\n",
       "      <td>0</td>\n",
       "      <td>1</td>\n",
       "      <td>4.0</td>\n",
       "      <td>NaN</td>\n",
       "      <td>Concrete</td>\n",
       "      <td>Cement Plaster</td>\n",
       "      <td>Tiles</td>\n",
       "      <td>ROLL UP</td>\n",
       "      <td>NaN</td>\n",
       "      <td>Glass</td>\n",
       "      <td>NaN</td>\n",
       "      <td>Cement Plaster</td>\n",
       "      <td>PVC</td>\n",
       "      <td>Tiles</td>\n",
       "      <td>PVC</td>\n",
       "      <td>1776670.0</td>\n",
       "    </tr>\n",
       "    <tr>\n",
       "      <th>114</th>\n",
       "      <td>0</td>\n",
       "      <td>794.0</td>\n",
       "      <td>95.05</td>\n",
       "      <td>1</td>\n",
       "      <td>1</td>\n",
       "      <td>6.0</td>\n",
       "      <td>NaN</td>\n",
       "      <td>CORR./ GI</td>\n",
       "      <td>CHB</td>\n",
       "      <td>Concrete</td>\n",
       "      <td>WOOD</td>\n",
       "      <td>Plywood</td>\n",
       "      <td>Jalousie</td>\n",
       "      <td>WOODEN</td>\n",
       "      <td>NaN</td>\n",
       "      <td>Polyflex</td>\n",
       "      <td>CHB</td>\n",
       "      <td>GI</td>\n",
       "      <td>395000.0</td>\n",
       "    </tr>\n",
       "  </tbody>\n",
       "</table>\n",
       "</div>"
      ],
      "text/plain": [
       "     brgy  land_area  floor_area  classification  storey  struct_type  \\\n",
       "51      6     2000.0      435.00               0       1          4.0   \n",
       "114     0      794.0       95.05               1       1          6.0   \n",
       "\n",
       "    roof_framing    roofing       ext_walls  flooring    doors  ceiling  \\\n",
       "51           NaN   Concrete  Cement Plaster     Tiles  ROLL UP      NaN   \n",
       "114          NaN  CORR./ GI             CHB  Concrete     WOOD  Plywood   \n",
       "\n",
       "      windows  stairs     wall_finish elect_conduit toilet plumbing  \\\n",
       "51      Glass     NaN  Cement Plaster           PVC  Tiles      PVC   \n",
       "114  Jalousie  WOODEN             NaN      Polyflex    CHB       GI   \n",
       "\n",
       "     target_value  \n",
       "51      1776670.0  \n",
       "114      395000.0  "
      ]
     },
     "execution_count": 408,
     "metadata": {},
     "output_type": "execute_result"
    }
   ],
   "source": [
    "df[df['roof_framing'].isna()]"
   ]
  },
  {
   "cell_type": "code",
   "execution_count": 409,
   "metadata": {},
   "outputs": [
    {
     "data": {
      "text/plain": [
       "['steel', 'wooden', 'lumber', 'rc', NaN, 'c-purlins', 'open deck', 'gi/steel']\n",
       "Categories (7, object): ['c-purlins', 'gi/steel', 'lumber', 'open deck', 'rc', 'steel', 'wooden']"
      ]
     },
     "execution_count": 409,
     "metadata": {},
     "output_type": "execute_result"
    }
   ],
   "source": [
    "df['roof_framing'] = df['roof_framing'].str.lower()\n",
    "df['roof_framing'] = df['roof_framing'].astype(\"category\")\n",
    "df['roof_framing'].unique()"
   ]
  },
  {
   "cell_type": "code",
   "execution_count": 410,
   "metadata": {},
   "outputs": [],
   "source": [
    "df['roof_framing'] = df['roof_framing'].replace({'c-purlins':0, 'gi/steel':1, 'lumber':2, 'open deck':3, 'rc':4, 'steel':5, 'wooden':6\n",
    "})"
   ]
  },
  {
   "cell_type": "code",
   "execution_count": 411,
   "metadata": {},
   "outputs": [
    {
     "data": {
      "text/plain": [
       "2"
      ]
     },
     "execution_count": 411,
     "metadata": {},
     "output_type": "execute_result"
    }
   ],
   "source": [
    "df['roof_framing'].isna().sum()"
   ]
  },
  {
   "cell_type": "code",
   "execution_count": 412,
   "metadata": {},
   "outputs": [],
   "source": [
    "df['roof_framing'] = df['roof_framing'].fillna(statistics.mode(df['roof_framing']))"
   ]
  },
  {
   "cell_type": "code",
   "execution_count": 413,
   "metadata": {},
   "outputs": [
    {
     "data": {
      "text/plain": [
       "brgy               0\n",
       "land_area          0\n",
       "floor_area         0\n",
       "classification     0\n",
       "storey             0\n",
       "struct_type        0\n",
       "roof_framing       0\n",
       "roofing            0\n",
       "ext_walls          2\n",
       "flooring           2\n",
       "doors              5\n",
       "ceiling           26\n",
       "windows            7\n",
       "stairs            47\n",
       "wall_finish       15\n",
       "elect_conduit     11\n",
       "toilet            12\n",
       "plumbing          16\n",
       "target_value       0\n",
       "dtype: int64"
      ]
     },
     "execution_count": 413,
     "metadata": {},
     "output_type": "execute_result"
    }
   ],
   "source": [
    "df.isna().sum()"
   ]
  },
  {
   "cell_type": "markdown",
   "metadata": {},
   "source": [
    "##### Roofing"
   ]
  },
  {
   "cell_type": "code",
   "execution_count": 414,
   "metadata": {},
   "outputs": [
    {
     "data": {
      "text/plain": [
       "array(['GI', 'Long Span', 'Concrete', 'S-Tile', 'Open Deck', 'CORR./ GI',\n",
       "       'PLYWOOD', 'RC'], dtype=object)"
      ]
     },
     "execution_count": 414,
     "metadata": {},
     "output_type": "execute_result"
    }
   ],
   "source": [
    "df['roofing'].unique()"
   ]
  },
  {
   "cell_type": "code",
   "execution_count": 415,
   "metadata": {},
   "outputs": [
    {
     "data": {
      "text/plain": [
       "['GI', 'Long Span', 'Concrete', 'S-Tile', 'Open Deck', 'CORR./ GI', 'PLYWOOD', 'RC']\n",
       "Categories (8, object): ['CORR./ GI', 'Concrete', 'GI', 'Long Span', 'Open Deck', 'PLYWOOD', 'RC', 'S-Tile']"
      ]
     },
     "execution_count": 415,
     "metadata": {},
     "output_type": "execute_result"
    }
   ],
   "source": [
    "df['roofing'] = df['roofing'].astype(\"category\")\n",
    "df['roofing'].unique()"
   ]
  },
  {
   "cell_type": "code",
   "execution_count": 416,
   "metadata": {},
   "outputs": [],
   "source": [
    "df['roofing'] = df['roofing'].replace({'CORR./ GI':0, 'Concrete':1, 'GI':2, 'Long Span':3, 'Open Deck':4, 'PLYWOOD':5, 'RC':6, 'S-Tile':7\n",
    "})"
   ]
  },
  {
   "cell_type": "code",
   "execution_count": 417,
   "metadata": {},
   "outputs": [
    {
     "data": {
      "text/html": [
       "<div>\n",
       "<style scoped>\n",
       "    .dataframe tbody tr th:only-of-type {\n",
       "        vertical-align: middle;\n",
       "    }\n",
       "\n",
       "    .dataframe tbody tr th {\n",
       "        vertical-align: top;\n",
       "    }\n",
       "\n",
       "    .dataframe thead th {\n",
       "        text-align: right;\n",
       "    }\n",
       "</style>\n",
       "<table border=\"1\" class=\"dataframe\">\n",
       "  <thead>\n",
       "    <tr style=\"text-align: right;\">\n",
       "      <th></th>\n",
       "      <th>brgy</th>\n",
       "      <th>land_area</th>\n",
       "      <th>floor_area</th>\n",
       "      <th>classification</th>\n",
       "      <th>storey</th>\n",
       "      <th>struct_type</th>\n",
       "      <th>roof_framing</th>\n",
       "      <th>roofing</th>\n",
       "      <th>ext_walls</th>\n",
       "      <th>flooring</th>\n",
       "      <th>doors</th>\n",
       "      <th>ceiling</th>\n",
       "      <th>windows</th>\n",
       "      <th>stairs</th>\n",
       "      <th>wall_finish</th>\n",
       "      <th>elect_conduit</th>\n",
       "      <th>toilet</th>\n",
       "      <th>plumbing</th>\n",
       "      <th>target_value</th>\n",
       "    </tr>\n",
       "  </thead>\n",
       "  <tbody>\n",
       "    <tr>\n",
       "      <th>0</th>\n",
       "      <td>0</td>\n",
       "      <td>665.0</td>\n",
       "      <td>354.08</td>\n",
       "      <td>1</td>\n",
       "      <td>2</td>\n",
       "      <td>3.0</td>\n",
       "      <td>5.0</td>\n",
       "      <td>2</td>\n",
       "      <td>Cement Plaster</td>\n",
       "      <td>Tiles</td>\n",
       "      <td>WOOD</td>\n",
       "      <td>Plywood</td>\n",
       "      <td>Glass</td>\n",
       "      <td>CONC.</td>\n",
       "      <td>Cement Plaster</td>\n",
       "      <td>PVC</td>\n",
       "      <td>Tiles</td>\n",
       "      <td>PVC</td>\n",
       "      <td>1000000.0</td>\n",
       "    </tr>\n",
       "    <tr>\n",
       "      <th>1</th>\n",
       "      <td>0</td>\n",
       "      <td>104.0</td>\n",
       "      <td>71.25</td>\n",
       "      <td>1</td>\n",
       "      <td>1</td>\n",
       "      <td>5.0</td>\n",
       "      <td>5.0</td>\n",
       "      <td>3</td>\n",
       "      <td>CHB</td>\n",
       "      <td>Tiles</td>\n",
       "      <td>WOOD</td>\n",
       "      <td>Plywood</td>\n",
       "      <td>Alum. Casement</td>\n",
       "      <td>CONC.</td>\n",
       "      <td>Plain Cement Paint</td>\n",
       "      <td>Polyflex</td>\n",
       "      <td>Tiles</td>\n",
       "      <td>PVC</td>\n",
       "      <td>413000.0</td>\n",
       "    </tr>\n",
       "    <tr>\n",
       "      <th>2</th>\n",
       "      <td>0</td>\n",
       "      <td>406.0</td>\n",
       "      <td>210.30</td>\n",
       "      <td>1</td>\n",
       "      <td>1</td>\n",
       "      <td>3.0</td>\n",
       "      <td>5.0</td>\n",
       "      <td>2</td>\n",
       "      <td>CHB</td>\n",
       "      <td>Tiles</td>\n",
       "      <td>WOOD</td>\n",
       "      <td>Plywood</td>\n",
       "      <td>Glass</td>\n",
       "      <td>CONC.</td>\n",
       "      <td>Cement Plaster</td>\n",
       "      <td>PVC</td>\n",
       "      <td>Tiles</td>\n",
       "      <td>PVC</td>\n",
       "      <td>727910.0</td>\n",
       "    </tr>\n",
       "    <tr>\n",
       "      <th>3</th>\n",
       "      <td>0</td>\n",
       "      <td>240.0</td>\n",
       "      <td>81.00</td>\n",
       "      <td>1</td>\n",
       "      <td>1</td>\n",
       "      <td>3.0</td>\n",
       "      <td>5.0</td>\n",
       "      <td>3</td>\n",
       "      <td>CHB</td>\n",
       "      <td>Tiles</td>\n",
       "      <td>WOOD</td>\n",
       "      <td>Plywood</td>\n",
       "      <td>Alum. Casement</td>\n",
       "      <td>CONC.</td>\n",
       "      <td>Cement Plaster</td>\n",
       "      <td>Polyflex</td>\n",
       "      <td>Tiles</td>\n",
       "      <td>PVC</td>\n",
       "      <td>610000.0</td>\n",
       "    </tr>\n",
       "    <tr>\n",
       "      <th>4</th>\n",
       "      <td>5</td>\n",
       "      <td>314.0</td>\n",
       "      <td>1314.00</td>\n",
       "      <td>0</td>\n",
       "      <td>4</td>\n",
       "      <td>3.0</td>\n",
       "      <td>5.0</td>\n",
       "      <td>2</td>\n",
       "      <td>CHB</td>\n",
       "      <td>Tiles</td>\n",
       "      <td>Flush</td>\n",
       "      <td>NaN</td>\n",
       "      <td>Alum. Casement</td>\n",
       "      <td>CONC.</td>\n",
       "      <td>Cement Plaster</td>\n",
       "      <td>PVC</td>\n",
       "      <td>Tiles</td>\n",
       "      <td>GI</td>\n",
       "      <td>7393688.0</td>\n",
       "    </tr>\n",
       "  </tbody>\n",
       "</table>\n",
       "</div>"
      ],
      "text/plain": [
       "   brgy  land_area  floor_area  classification  storey  struct_type  \\\n",
       "0     0      665.0      354.08               1       2          3.0   \n",
       "1     0      104.0       71.25               1       1          5.0   \n",
       "2     0      406.0      210.30               1       1          3.0   \n",
       "3     0      240.0       81.00               1       1          3.0   \n",
       "4     5      314.0     1314.00               0       4          3.0   \n",
       "\n",
       "   roof_framing  roofing       ext_walls flooring  doors  ceiling  \\\n",
       "0           5.0        2  Cement Plaster    Tiles   WOOD  Plywood   \n",
       "1           5.0        3             CHB    Tiles   WOOD  Plywood   \n",
       "2           5.0        2             CHB    Tiles   WOOD  Plywood   \n",
       "3           5.0        3             CHB    Tiles   WOOD  Plywood   \n",
       "4           5.0        2             CHB    Tiles  Flush      NaN   \n",
       "\n",
       "          windows stairs         wall_finish elect_conduit toilet plumbing  \\\n",
       "0           Glass  CONC.      Cement Plaster           PVC  Tiles      PVC   \n",
       "1  Alum. Casement  CONC.  Plain Cement Paint      Polyflex  Tiles      PVC   \n",
       "2           Glass  CONC.      Cement Plaster           PVC  Tiles      PVC   \n",
       "3  Alum. Casement  CONC.      Cement Plaster      Polyflex  Tiles      PVC   \n",
       "4  Alum. Casement  CONC.      Cement Plaster           PVC  Tiles       GI   \n",
       "\n",
       "   target_value  \n",
       "0     1000000.0  \n",
       "1      413000.0  \n",
       "2      727910.0  \n",
       "3      610000.0  \n",
       "4     7393688.0  "
      ]
     },
     "execution_count": 417,
     "metadata": {},
     "output_type": "execute_result"
    }
   ],
   "source": [
    "df['roofing'].unique()\n",
    "df.head()"
   ]
  },
  {
   "cell_type": "markdown",
   "metadata": {},
   "source": [
    "##### Exterior Walls"
   ]
  },
  {
   "cell_type": "code",
   "execution_count": 418,
   "metadata": {},
   "outputs": [
    {
     "data": {
      "text/html": [
       "<div>\n",
       "<style scoped>\n",
       "    .dataframe tbody tr th:only-of-type {\n",
       "        vertical-align: middle;\n",
       "    }\n",
       "\n",
       "    .dataframe tbody tr th {\n",
       "        vertical-align: top;\n",
       "    }\n",
       "\n",
       "    .dataframe thead th {\n",
       "        text-align: right;\n",
       "    }\n",
       "</style>\n",
       "<table border=\"1\" class=\"dataframe\">\n",
       "  <thead>\n",
       "    <tr style=\"text-align: right;\">\n",
       "      <th></th>\n",
       "      <th>brgy</th>\n",
       "      <th>land_area</th>\n",
       "      <th>floor_area</th>\n",
       "      <th>classification</th>\n",
       "      <th>storey</th>\n",
       "      <th>struct_type</th>\n",
       "      <th>roof_framing</th>\n",
       "      <th>roofing</th>\n",
       "      <th>ext_walls</th>\n",
       "      <th>flooring</th>\n",
       "      <th>doors</th>\n",
       "      <th>ceiling</th>\n",
       "      <th>windows</th>\n",
       "      <th>stairs</th>\n",
       "      <th>wall_finish</th>\n",
       "      <th>elect_conduit</th>\n",
       "      <th>toilet</th>\n",
       "      <th>plumbing</th>\n",
       "      <th>target_value</th>\n",
       "    </tr>\n",
       "  </thead>\n",
       "  <tbody>\n",
       "    <tr>\n",
       "      <th>139</th>\n",
       "      <td>1</td>\n",
       "      <td>10059.0</td>\n",
       "      <td>216.00</td>\n",
       "      <td>0</td>\n",
       "      <td>1</td>\n",
       "      <td>3.0</td>\n",
       "      <td>5.0</td>\n",
       "      <td>3</td>\n",
       "      <td>NaN</td>\n",
       "      <td>NaN</td>\n",
       "      <td>NaN</td>\n",
       "      <td>NaN</td>\n",
       "      <td>NaN</td>\n",
       "      <td>NaN</td>\n",
       "      <td>NaN</td>\n",
       "      <td>NaN</td>\n",
       "      <td>NaN</td>\n",
       "      <td>NaN</td>\n",
       "      <td>987120.0</td>\n",
       "    </tr>\n",
       "    <tr>\n",
       "      <th>140</th>\n",
       "      <td>1</td>\n",
       "      <td>10059.0</td>\n",
       "      <td>126.48</td>\n",
       "      <td>0</td>\n",
       "      <td>1</td>\n",
       "      <td>3.0</td>\n",
       "      <td>5.0</td>\n",
       "      <td>3</td>\n",
       "      <td>NaN</td>\n",
       "      <td>NaN</td>\n",
       "      <td>NaN</td>\n",
       "      <td>NaN</td>\n",
       "      <td>NaN</td>\n",
       "      <td>NaN</td>\n",
       "      <td>NaN</td>\n",
       "      <td>NaN</td>\n",
       "      <td>NaN</td>\n",
       "      <td>NaN</td>\n",
       "      <td>428770.0</td>\n",
       "    </tr>\n",
       "  </tbody>\n",
       "</table>\n",
       "</div>"
      ],
      "text/plain": [
       "     brgy  land_area  floor_area  classification  storey  struct_type  \\\n",
       "139     1    10059.0      216.00               0       1          3.0   \n",
       "140     1    10059.0      126.48               0       1          3.0   \n",
       "\n",
       "     roof_framing  roofing ext_walls flooring doors ceiling windows stairs  \\\n",
       "139           5.0        3       NaN      NaN   NaN     NaN     NaN    NaN   \n",
       "140           5.0        3       NaN      NaN   NaN     NaN     NaN    NaN   \n",
       "\n",
       "    wall_finish elect_conduit toilet plumbing  target_value  \n",
       "139         NaN           NaN    NaN      NaN      987120.0  \n",
       "140         NaN           NaN    NaN      NaN      428770.0  "
      ]
     },
     "execution_count": 418,
     "metadata": {},
     "output_type": "execute_result"
    }
   ],
   "source": [
    "df[df['ext_walls'].isna()]"
   ]
  },
  {
   "cell_type": "code",
   "execution_count": 419,
   "metadata": {},
   "outputs": [
    {
     "data": {
      "text/plain": [
       "['cement plaster', 'chb', 'wood', 'painted', 'adobe type', NaN]\n",
       "Categories (5, object): ['adobe type', 'cement plaster', 'chb', 'painted', 'wood']"
      ]
     },
     "execution_count": 419,
     "metadata": {},
     "output_type": "execute_result"
    }
   ],
   "source": [
    "df['ext_walls'] = df['ext_walls'].str.lower()\n",
    "df['ext_walls'] = df['ext_walls'].astype(\"category\")\n",
    "df['ext_walls'].unique()"
   ]
  },
  {
   "cell_type": "code",
   "execution_count": 420,
   "metadata": {},
   "outputs": [],
   "source": [
    "df['ext_walls'] = df['ext_walls'].replace({'adobe type':0, 'cement plaster':1, 'chb':2, 'painted':3, 'wood':4\n",
    "})"
   ]
  },
  {
   "cell_type": "code",
   "execution_count": 421,
   "metadata": {},
   "outputs": [
    {
     "data": {
      "text/plain": [
       "array([ 1.,  2.,  4.,  3.,  0., nan])"
      ]
     },
     "execution_count": 421,
     "metadata": {},
     "output_type": "execute_result"
    }
   ],
   "source": [
    "df['ext_walls'].unique()"
   ]
  },
  {
   "cell_type": "code",
   "execution_count": 422,
   "metadata": {},
   "outputs": [
    {
     "data": {
      "text/plain": [
       "0    1.0\n",
       "1    2.0\n",
       "2    2.0\n",
       "3    2.0\n",
       "4    2.0\n",
       "Name: ext_walls, dtype: float64"
      ]
     },
     "execution_count": 422,
     "metadata": {},
     "output_type": "execute_result"
    }
   ],
   "source": [
    "df['ext_walls'] = df['ext_walls'].fillna(statistics.mode(df['ext_walls']))\n",
    "df['ext_walls'].head()"
   ]
  },
  {
   "cell_type": "code",
   "execution_count": 423,
   "metadata": {},
   "outputs": [
    {
     "data": {
      "text/plain": [
       "array([1., 2., 4., 3., 0.])"
      ]
     },
     "execution_count": 423,
     "metadata": {},
     "output_type": "execute_result"
    }
   ],
   "source": [
    "df['ext_walls'].unique()"
   ]
  },
  {
   "cell_type": "markdown",
   "metadata": {},
   "source": [
    "##### Flooring"
   ]
  },
  {
   "cell_type": "code",
   "execution_count": 424,
   "metadata": {},
   "outputs": [
    {
     "data": {
      "text/plain": [
       "['tiles', 'concrete', 'wood', NaN]\n",
       "Categories (3, object): ['concrete', 'tiles', 'wood']"
      ]
     },
     "execution_count": 424,
     "metadata": {},
     "output_type": "execute_result"
    }
   ],
   "source": [
    "df['flooring'] = df['flooring'].str.lower()\n",
    "df['flooring'] = df['flooring'].astype(\"category\")\n",
    "df['flooring'].unique()"
   ]
  },
  {
   "cell_type": "code",
   "execution_count": 425,
   "metadata": {},
   "outputs": [],
   "source": [
    "df['flooring'] = df['flooring'].replace({'concrete':0, 'tiles':1, 'wood':2})"
   ]
  },
  {
   "cell_type": "code",
   "execution_count": 426,
   "metadata": {},
   "outputs": [
    {
     "data": {
      "text/plain": [
       "array([ 1.,  0.,  2., nan])"
      ]
     },
     "execution_count": 426,
     "metadata": {},
     "output_type": "execute_result"
    }
   ],
   "source": [
    "df['flooring'].unique()"
   ]
  },
  {
   "cell_type": "code",
   "execution_count": 427,
   "metadata": {},
   "outputs": [],
   "source": [
    "df['flooring'] = df['flooring'].fillna(statistics.mode(df['flooring']))"
   ]
  },
  {
   "cell_type": "code",
   "execution_count": 428,
   "metadata": {},
   "outputs": [
    {
     "data": {
      "text/plain": [
       "array([1., 0., 2.])"
      ]
     },
     "execution_count": 428,
     "metadata": {},
     "output_type": "execute_result"
    }
   ],
   "source": [
    "df['flooring'].unique()"
   ]
  },
  {
   "cell_type": "markdown",
   "metadata": {},
   "source": [
    "##### Doors"
   ]
  },
  {
   "cell_type": "code",
   "execution_count": 429,
   "metadata": {},
   "outputs": [
    {
     "data": {
      "text/plain": [
       "['wood', 'flush', 'panel', 'roll up', 'plywood', 'hcpd/wfpd', NaN, 'glass']\n",
       "Categories (7, object): ['flush', 'glass', 'hcpd/wfpd', 'panel', 'plywood', 'roll up', 'wood']"
      ]
     },
     "execution_count": 429,
     "metadata": {},
     "output_type": "execute_result"
    }
   ],
   "source": [
    "df['doors'] = df['doors'].str.lower()\n",
    "df['doors'] = df['doors'].astype(\"category\")\n",
    "df['doors'].unique()"
   ]
  },
  {
   "cell_type": "code",
   "execution_count": 430,
   "metadata": {},
   "outputs": [],
   "source": [
    "df['doors'] = df['doors'].replace({'flush':0, 'glass':1, 'hcpd/wfpd':2, 'panel':3, 'plywood':4, 'roll up':5, 'wood':6\n",
    "})"
   ]
  },
  {
   "cell_type": "code",
   "execution_count": 431,
   "metadata": {},
   "outputs": [
    {
     "data": {
      "text/plain": [
       "array([ 6.,  0.,  3.,  5.,  4.,  2., nan,  1.])"
      ]
     },
     "execution_count": 431,
     "metadata": {},
     "output_type": "execute_result"
    }
   ],
   "source": [
    "df['doors'].unique()"
   ]
  },
  {
   "cell_type": "code",
   "execution_count": 432,
   "metadata": {},
   "outputs": [],
   "source": [
    "df['doors'] = df['doors'].fillna(statistics.mode(df['doors']))"
   ]
  },
  {
   "cell_type": "markdown",
   "metadata": {},
   "source": [
    "##### Ceiling"
   ]
  },
  {
   "cell_type": "code",
   "execution_count": 433,
   "metadata": {},
   "outputs": [
    {
     "data": {
      "text/plain": [
       "['plywood', NaN, 'wood', 'unfinished', 'rc']\n",
       "Categories (4, object): ['plywood', 'rc', 'unfinished', 'wood']"
      ]
     },
     "execution_count": 433,
     "metadata": {},
     "output_type": "execute_result"
    }
   ],
   "source": [
    "df['ceiling'] = df['ceiling'].str.lower()\n",
    "df['ceiling'] = df['ceiling'].astype(\"category\")\n",
    "df['ceiling'].unique()"
   ]
  },
  {
   "cell_type": "code",
   "execution_count": 434,
   "metadata": {},
   "outputs": [],
   "source": [
    "df['ceiling'] = df['ceiling'].replace({'plywood':0, 'rc':1, 'unfinished':2, 'wood':3})"
   ]
  },
  {
   "cell_type": "code",
   "execution_count": 435,
   "metadata": {},
   "outputs": [
    {
     "data": {
      "text/plain": [
       "array([ 0., nan,  3.,  2.,  1.])"
      ]
     },
     "execution_count": 435,
     "metadata": {},
     "output_type": "execute_result"
    }
   ],
   "source": [
    "df['ceiling'].unique()"
   ]
  },
  {
   "cell_type": "code",
   "execution_count": 436,
   "metadata": {},
   "outputs": [],
   "source": [
    "df['ceiling'] = df['ceiling'].fillna(statistics.mode(df['ceiling']))"
   ]
  },
  {
   "cell_type": "code",
   "execution_count": 437,
   "metadata": {},
   "outputs": [
    {
     "data": {
      "text/html": [
       "<div>\n",
       "<style scoped>\n",
       "    .dataframe tbody tr th:only-of-type {\n",
       "        vertical-align: middle;\n",
       "    }\n",
       "\n",
       "    .dataframe tbody tr th {\n",
       "        vertical-align: top;\n",
       "    }\n",
       "\n",
       "    .dataframe thead th {\n",
       "        text-align: right;\n",
       "    }\n",
       "</style>\n",
       "<table border=\"1\" class=\"dataframe\">\n",
       "  <thead>\n",
       "    <tr style=\"text-align: right;\">\n",
       "      <th></th>\n",
       "      <th>brgy</th>\n",
       "      <th>land_area</th>\n",
       "      <th>floor_area</th>\n",
       "      <th>classification</th>\n",
       "      <th>storey</th>\n",
       "      <th>struct_type</th>\n",
       "      <th>roof_framing</th>\n",
       "      <th>roofing</th>\n",
       "      <th>ext_walls</th>\n",
       "      <th>flooring</th>\n",
       "      <th>doors</th>\n",
       "      <th>ceiling</th>\n",
       "      <th>windows</th>\n",
       "      <th>stairs</th>\n",
       "      <th>wall_finish</th>\n",
       "      <th>elect_conduit</th>\n",
       "      <th>toilet</th>\n",
       "      <th>plumbing</th>\n",
       "      <th>target_value</th>\n",
       "    </tr>\n",
       "  </thead>\n",
       "  <tbody>\n",
       "    <tr>\n",
       "      <th>0</th>\n",
       "      <td>0</td>\n",
       "      <td>665.0</td>\n",
       "      <td>354.08</td>\n",
       "      <td>1</td>\n",
       "      <td>2</td>\n",
       "      <td>3.0</td>\n",
       "      <td>5.0</td>\n",
       "      <td>2</td>\n",
       "      <td>1.0</td>\n",
       "      <td>1.0</td>\n",
       "      <td>6.0</td>\n",
       "      <td>0.0</td>\n",
       "      <td>Glass</td>\n",
       "      <td>CONC.</td>\n",
       "      <td>Cement Plaster</td>\n",
       "      <td>PVC</td>\n",
       "      <td>Tiles</td>\n",
       "      <td>PVC</td>\n",
       "      <td>1000000.0</td>\n",
       "    </tr>\n",
       "    <tr>\n",
       "      <th>1</th>\n",
       "      <td>0</td>\n",
       "      <td>104.0</td>\n",
       "      <td>71.25</td>\n",
       "      <td>1</td>\n",
       "      <td>1</td>\n",
       "      <td>5.0</td>\n",
       "      <td>5.0</td>\n",
       "      <td>3</td>\n",
       "      <td>2.0</td>\n",
       "      <td>1.0</td>\n",
       "      <td>6.0</td>\n",
       "      <td>0.0</td>\n",
       "      <td>Alum. Casement</td>\n",
       "      <td>CONC.</td>\n",
       "      <td>Plain Cement Paint</td>\n",
       "      <td>Polyflex</td>\n",
       "      <td>Tiles</td>\n",
       "      <td>PVC</td>\n",
       "      <td>413000.0</td>\n",
       "    </tr>\n",
       "    <tr>\n",
       "      <th>2</th>\n",
       "      <td>0</td>\n",
       "      <td>406.0</td>\n",
       "      <td>210.30</td>\n",
       "      <td>1</td>\n",
       "      <td>1</td>\n",
       "      <td>3.0</td>\n",
       "      <td>5.0</td>\n",
       "      <td>2</td>\n",
       "      <td>2.0</td>\n",
       "      <td>1.0</td>\n",
       "      <td>6.0</td>\n",
       "      <td>0.0</td>\n",
       "      <td>Glass</td>\n",
       "      <td>CONC.</td>\n",
       "      <td>Cement Plaster</td>\n",
       "      <td>PVC</td>\n",
       "      <td>Tiles</td>\n",
       "      <td>PVC</td>\n",
       "      <td>727910.0</td>\n",
       "    </tr>\n",
       "    <tr>\n",
       "      <th>3</th>\n",
       "      <td>0</td>\n",
       "      <td>240.0</td>\n",
       "      <td>81.00</td>\n",
       "      <td>1</td>\n",
       "      <td>1</td>\n",
       "      <td>3.0</td>\n",
       "      <td>5.0</td>\n",
       "      <td>3</td>\n",
       "      <td>2.0</td>\n",
       "      <td>1.0</td>\n",
       "      <td>6.0</td>\n",
       "      <td>0.0</td>\n",
       "      <td>Alum. Casement</td>\n",
       "      <td>CONC.</td>\n",
       "      <td>Cement Plaster</td>\n",
       "      <td>Polyflex</td>\n",
       "      <td>Tiles</td>\n",
       "      <td>PVC</td>\n",
       "      <td>610000.0</td>\n",
       "    </tr>\n",
       "    <tr>\n",
       "      <th>4</th>\n",
       "      <td>5</td>\n",
       "      <td>314.0</td>\n",
       "      <td>1314.00</td>\n",
       "      <td>0</td>\n",
       "      <td>4</td>\n",
       "      <td>3.0</td>\n",
       "      <td>5.0</td>\n",
       "      <td>2</td>\n",
       "      <td>2.0</td>\n",
       "      <td>1.0</td>\n",
       "      <td>0.0</td>\n",
       "      <td>0.0</td>\n",
       "      <td>Alum. Casement</td>\n",
       "      <td>CONC.</td>\n",
       "      <td>Cement Plaster</td>\n",
       "      <td>PVC</td>\n",
       "      <td>Tiles</td>\n",
       "      <td>GI</td>\n",
       "      <td>7393688.0</td>\n",
       "    </tr>\n",
       "  </tbody>\n",
       "</table>\n",
       "</div>"
      ],
      "text/plain": [
       "   brgy  land_area  floor_area  classification  storey  struct_type  \\\n",
       "0     0      665.0      354.08               1       2          3.0   \n",
       "1     0      104.0       71.25               1       1          5.0   \n",
       "2     0      406.0      210.30               1       1          3.0   \n",
       "3     0      240.0       81.00               1       1          3.0   \n",
       "4     5      314.0     1314.00               0       4          3.0   \n",
       "\n",
       "   roof_framing  roofing  ext_walls  flooring  doors  ceiling         windows  \\\n",
       "0           5.0        2        1.0       1.0    6.0      0.0           Glass   \n",
       "1           5.0        3        2.0       1.0    6.0      0.0  Alum. Casement   \n",
       "2           5.0        2        2.0       1.0    6.0      0.0           Glass   \n",
       "3           5.0        3        2.0       1.0    6.0      0.0  Alum. Casement   \n",
       "4           5.0        2        2.0       1.0    0.0      0.0  Alum. Casement   \n",
       "\n",
       "  stairs         wall_finish elect_conduit toilet plumbing  target_value  \n",
       "0  CONC.      Cement Plaster           PVC  Tiles      PVC     1000000.0  \n",
       "1  CONC.  Plain Cement Paint      Polyflex  Tiles      PVC      413000.0  \n",
       "2  CONC.      Cement Plaster           PVC  Tiles      PVC      727910.0  \n",
       "3  CONC.      Cement Plaster      Polyflex  Tiles      PVC      610000.0  \n",
       "4  CONC.      Cement Plaster           PVC  Tiles       GI     7393688.0  "
      ]
     },
     "execution_count": 437,
     "metadata": {},
     "output_type": "execute_result"
    }
   ],
   "source": [
    "df.head()"
   ]
  },
  {
   "cell_type": "markdown",
   "metadata": {},
   "source": [
    "##### Windows"
   ]
  },
  {
   "cell_type": "code",
   "execution_count": 438,
   "metadata": {},
   "outputs": [
    {
     "data": {
      "text/plain": [
       "['glass', 'alum. casement', 'jalousie', 'wood', 'steel casement', 'scfw', 'wfpd', 'french window', NaN]\n",
       "Categories (8, object): ['alum. casement', 'french window', 'glass', 'jalousie', 'scfw', 'steel casement', 'wfpd', 'wood']"
      ]
     },
     "execution_count": 438,
     "metadata": {},
     "output_type": "execute_result"
    }
   ],
   "source": [
    "df['windows'] = df['windows'].str.lower()\n",
    "df['windows'] = df['windows'].astype(\"category\")\n",
    "df['windows'].unique()"
   ]
  },
  {
   "cell_type": "code",
   "execution_count": 439,
   "metadata": {},
   "outputs": [],
   "source": [
    "df['windows'] = df['windows'].replace({'alum. casement':0, 'french window':1, 'glass':2, 'jalousie':3, 'scfw':4, 'steel casement':5, 'wfpd':6, 'wood':7\n",
    "})"
   ]
  },
  {
   "cell_type": "code",
   "execution_count": 440,
   "metadata": {},
   "outputs": [
    {
     "data": {
      "text/plain": [
       "array([ 2.,  0.,  3.,  7.,  5.,  4.,  6.,  1., nan])"
      ]
     },
     "execution_count": 440,
     "metadata": {},
     "output_type": "execute_result"
    }
   ],
   "source": [
    "df['windows'].unique()"
   ]
  },
  {
   "cell_type": "code",
   "execution_count": 441,
   "metadata": {},
   "outputs": [],
   "source": [
    "df['windows'] = df['windows'].fillna(statistics.mode(df['windows']))"
   ]
  },
  {
   "cell_type": "code",
   "execution_count": 442,
   "metadata": {},
   "outputs": [
    {
     "data": {
      "text/plain": [
       "brgy               0\n",
       "land_area          0\n",
       "floor_area         0\n",
       "classification     0\n",
       "storey             0\n",
       "struct_type        0\n",
       "roof_framing       0\n",
       "roofing            0\n",
       "ext_walls          0\n",
       "flooring           0\n",
       "doors              0\n",
       "ceiling            0\n",
       "windows            0\n",
       "stairs            47\n",
       "wall_finish       15\n",
       "elect_conduit     11\n",
       "toilet            12\n",
       "plumbing          16\n",
       "target_value       0\n",
       "dtype: int64"
      ]
     },
     "execution_count": 442,
     "metadata": {},
     "output_type": "execute_result"
    }
   ],
   "source": [
    "df.isna().sum()"
   ]
  },
  {
   "cell_type": "code",
   "execution_count": 443,
   "metadata": {},
   "outputs": [
    {
     "data": {
      "text/html": [
       "<div>\n",
       "<style scoped>\n",
       "    .dataframe tbody tr th:only-of-type {\n",
       "        vertical-align: middle;\n",
       "    }\n",
       "\n",
       "    .dataframe tbody tr th {\n",
       "        vertical-align: top;\n",
       "    }\n",
       "\n",
       "    .dataframe thead th {\n",
       "        text-align: right;\n",
       "    }\n",
       "</style>\n",
       "<table border=\"1\" class=\"dataframe\">\n",
       "  <thead>\n",
       "    <tr style=\"text-align: right;\">\n",
       "      <th></th>\n",
       "      <th>brgy</th>\n",
       "      <th>land_area</th>\n",
       "      <th>floor_area</th>\n",
       "      <th>classification</th>\n",
       "      <th>storey</th>\n",
       "      <th>struct_type</th>\n",
       "      <th>roof_framing</th>\n",
       "      <th>roofing</th>\n",
       "      <th>ext_walls</th>\n",
       "      <th>flooring</th>\n",
       "      <th>doors</th>\n",
       "      <th>ceiling</th>\n",
       "      <th>windows</th>\n",
       "      <th>stairs</th>\n",
       "      <th>wall_finish</th>\n",
       "      <th>elect_conduit</th>\n",
       "      <th>toilet</th>\n",
       "      <th>plumbing</th>\n",
       "      <th>target_value</th>\n",
       "    </tr>\n",
       "  </thead>\n",
       "  <tbody>\n",
       "    <tr>\n",
       "      <th>0</th>\n",
       "      <td>0</td>\n",
       "      <td>665.0</td>\n",
       "      <td>354.08</td>\n",
       "      <td>1</td>\n",
       "      <td>2</td>\n",
       "      <td>3.0</td>\n",
       "      <td>5.0</td>\n",
       "      <td>2</td>\n",
       "      <td>1.0</td>\n",
       "      <td>1.0</td>\n",
       "      <td>6.0</td>\n",
       "      <td>0.0</td>\n",
       "      <td>2.0</td>\n",
       "      <td>CONC.</td>\n",
       "      <td>Cement Plaster</td>\n",
       "      <td>PVC</td>\n",
       "      <td>Tiles</td>\n",
       "      <td>PVC</td>\n",
       "      <td>1000000.0</td>\n",
       "    </tr>\n",
       "    <tr>\n",
       "      <th>1</th>\n",
       "      <td>0</td>\n",
       "      <td>104.0</td>\n",
       "      <td>71.25</td>\n",
       "      <td>1</td>\n",
       "      <td>1</td>\n",
       "      <td>5.0</td>\n",
       "      <td>5.0</td>\n",
       "      <td>3</td>\n",
       "      <td>2.0</td>\n",
       "      <td>1.0</td>\n",
       "      <td>6.0</td>\n",
       "      <td>0.0</td>\n",
       "      <td>0.0</td>\n",
       "      <td>CONC.</td>\n",
       "      <td>Plain Cement Paint</td>\n",
       "      <td>Polyflex</td>\n",
       "      <td>Tiles</td>\n",
       "      <td>PVC</td>\n",
       "      <td>413000.0</td>\n",
       "    </tr>\n",
       "    <tr>\n",
       "      <th>2</th>\n",
       "      <td>0</td>\n",
       "      <td>406.0</td>\n",
       "      <td>210.30</td>\n",
       "      <td>1</td>\n",
       "      <td>1</td>\n",
       "      <td>3.0</td>\n",
       "      <td>5.0</td>\n",
       "      <td>2</td>\n",
       "      <td>2.0</td>\n",
       "      <td>1.0</td>\n",
       "      <td>6.0</td>\n",
       "      <td>0.0</td>\n",
       "      <td>2.0</td>\n",
       "      <td>CONC.</td>\n",
       "      <td>Cement Plaster</td>\n",
       "      <td>PVC</td>\n",
       "      <td>Tiles</td>\n",
       "      <td>PVC</td>\n",
       "      <td>727910.0</td>\n",
       "    </tr>\n",
       "    <tr>\n",
       "      <th>3</th>\n",
       "      <td>0</td>\n",
       "      <td>240.0</td>\n",
       "      <td>81.00</td>\n",
       "      <td>1</td>\n",
       "      <td>1</td>\n",
       "      <td>3.0</td>\n",
       "      <td>5.0</td>\n",
       "      <td>3</td>\n",
       "      <td>2.0</td>\n",
       "      <td>1.0</td>\n",
       "      <td>6.0</td>\n",
       "      <td>0.0</td>\n",
       "      <td>0.0</td>\n",
       "      <td>CONC.</td>\n",
       "      <td>Cement Plaster</td>\n",
       "      <td>Polyflex</td>\n",
       "      <td>Tiles</td>\n",
       "      <td>PVC</td>\n",
       "      <td>610000.0</td>\n",
       "    </tr>\n",
       "    <tr>\n",
       "      <th>4</th>\n",
       "      <td>5</td>\n",
       "      <td>314.0</td>\n",
       "      <td>1314.00</td>\n",
       "      <td>0</td>\n",
       "      <td>4</td>\n",
       "      <td>3.0</td>\n",
       "      <td>5.0</td>\n",
       "      <td>2</td>\n",
       "      <td>2.0</td>\n",
       "      <td>1.0</td>\n",
       "      <td>0.0</td>\n",
       "      <td>0.0</td>\n",
       "      <td>0.0</td>\n",
       "      <td>CONC.</td>\n",
       "      <td>Cement Plaster</td>\n",
       "      <td>PVC</td>\n",
       "      <td>Tiles</td>\n",
       "      <td>GI</td>\n",
       "      <td>7393688.0</td>\n",
       "    </tr>\n",
       "  </tbody>\n",
       "</table>\n",
       "</div>"
      ],
      "text/plain": [
       "   brgy  land_area  floor_area  classification  storey  struct_type  \\\n",
       "0     0      665.0      354.08               1       2          3.0   \n",
       "1     0      104.0       71.25               1       1          5.0   \n",
       "2     0      406.0      210.30               1       1          3.0   \n",
       "3     0      240.0       81.00               1       1          3.0   \n",
       "4     5      314.0     1314.00               0       4          3.0   \n",
       "\n",
       "   roof_framing  roofing  ext_walls  flooring  doors  ceiling  windows stairs  \\\n",
       "0           5.0        2        1.0       1.0    6.0      0.0      2.0  CONC.   \n",
       "1           5.0        3        2.0       1.0    6.0      0.0      0.0  CONC.   \n",
       "2           5.0        2        2.0       1.0    6.0      0.0      2.0  CONC.   \n",
       "3           5.0        3        2.0       1.0    6.0      0.0      0.0  CONC.   \n",
       "4           5.0        2        2.0       1.0    0.0      0.0      0.0  CONC.   \n",
       "\n",
       "          wall_finish elect_conduit toilet plumbing  target_value  \n",
       "0      Cement Plaster           PVC  Tiles      PVC     1000000.0  \n",
       "1  Plain Cement Paint      Polyflex  Tiles      PVC      413000.0  \n",
       "2      Cement Plaster           PVC  Tiles      PVC      727910.0  \n",
       "3      Cement Plaster      Polyflex  Tiles      PVC      610000.0  \n",
       "4      Cement Plaster           PVC  Tiles       GI     7393688.0  "
      ]
     },
     "execution_count": 443,
     "metadata": {},
     "output_type": "execute_result"
    }
   ],
   "source": [
    "df.head()"
   ]
  },
  {
   "cell_type": "markdown",
   "metadata": {},
   "source": [
    "##### Wall Finish"
   ]
  },
  {
   "cell_type": "code",
   "execution_count": 444,
   "metadata": {},
   "outputs": [
    {
     "data": {
      "text/plain": [
       "['cement plaster', 'plain cement paint', 'chb', NaN, 'adobe', 'wood', 'sand blast']\n",
       "Categories (6, object): ['adobe', 'cement plaster', 'chb', 'plain cement paint', 'sand blast', 'wood']"
      ]
     },
     "execution_count": 444,
     "metadata": {},
     "output_type": "execute_result"
    }
   ],
   "source": [
    "df['wall_finish'] = df['wall_finish'].str.lower()\n",
    "df['wall_finish'] = df['wall_finish'].astype(\"category\")\n",
    "df['wall_finish'].unique()"
   ]
  },
  {
   "cell_type": "code",
   "execution_count": 445,
   "metadata": {},
   "outputs": [],
   "source": [
    "df['wall_finish'] = df['wall_finish'].replace({'adobe':0, 'cement plaster':1, 'chb':2, 'plain cement paint':3, 'sand blast':4, 'wood':5\n",
    "})"
   ]
  },
  {
   "cell_type": "code",
   "execution_count": 446,
   "metadata": {},
   "outputs": [
    {
     "data": {
      "text/plain": [
       "array([ 1.,  3.,  2., nan,  0.,  5.,  4.])"
      ]
     },
     "execution_count": 446,
     "metadata": {},
     "output_type": "execute_result"
    }
   ],
   "source": [
    "df['wall_finish'].unique()"
   ]
  },
  {
   "cell_type": "code",
   "execution_count": 447,
   "metadata": {},
   "outputs": [],
   "source": [
    "df['wall_finish'] = df['wall_finish'].fillna(statistics.mode(df['wall_finish']))"
   ]
  },
  {
   "cell_type": "code",
   "execution_count": 448,
   "metadata": {},
   "outputs": [
    {
     "data": {
      "text/plain": [
       "array([1., 3., 2., 0., 5., 4.])"
      ]
     },
     "execution_count": 448,
     "metadata": {},
     "output_type": "execute_result"
    }
   ],
   "source": [
    "df['wall_finish'].unique()"
   ]
  },
  {
   "cell_type": "markdown",
   "metadata": {},
   "source": [
    "##### Electrical Conduit"
   ]
  },
  {
   "cell_type": "code",
   "execution_count": 449,
   "metadata": {},
   "outputs": [],
   "source": [
    "pd.set_option(\"display.max_column\", None)"
   ]
  },
  {
   "cell_type": "code",
   "execution_count": 450,
   "metadata": {},
   "outputs": [
    {
     "data": {
      "text/plain": [
       "['pvc', 'polyflex', 'conduit pipe', 'open', 'upvc', ..., 'mouldflex', 'concealed', 'tube', 'painted', 'breakers']\n",
       "Length: 12\n",
       "Categories (11, object): ['breakers', 'concealed', 'conduit pipe', 'mouldflex', ..., 'polyflex', 'pvc', 'tube', 'upvc']"
      ]
     },
     "execution_count": 450,
     "metadata": {},
     "output_type": "execute_result"
    }
   ],
   "source": [
    "df['elect_conduit'] = df['elect_conduit'].str.lower()\n",
    "df['elect_conduit'] = df['elect_conduit'].astype(\"category\")\n",
    "df['elect_conduit'].unique()"
   ]
  },
  {
   "cell_type": "markdown",
   "metadata": {},
   "source": []
  },
  {
   "cell_type": "code",
   "execution_count": 451,
   "metadata": {},
   "outputs": [],
   "source": [
    "df['elect_conduit'] = df['elect_conduit'].replace({\n",
    "    'breakers':0, 'concealed':1, 'conduit pipe':2, 'mouldflex':3, 'open':4,'painted':5,'pdx':6, 'polyflex':7, 'pvc':8, 'tube':9, 'upvc':10\n",
    "\n",
    "})"
   ]
  },
  {
   "cell_type": "code",
   "execution_count": 452,
   "metadata": {},
   "outputs": [
    {
     "data": {
      "text/plain": [
       "array([ 8.,  7.,  2.,  4., 10., nan,  6.,  3.,  1.,  9.,  5.,  0.])"
      ]
     },
     "execution_count": 452,
     "metadata": {},
     "output_type": "execute_result"
    }
   ],
   "source": [
    "df['elect_conduit'].unique()"
   ]
  },
  {
   "cell_type": "code",
   "execution_count": 453,
   "metadata": {},
   "outputs": [],
   "source": [
    "df['elect_conduit'] = df['elect_conduit'].fillna(statistics.mode(df['elect_conduit']))"
   ]
  },
  {
   "cell_type": "code",
   "execution_count": 454,
   "metadata": {},
   "outputs": [
    {
     "data": {
      "text/html": [
       "<div>\n",
       "<style scoped>\n",
       "    .dataframe tbody tr th:only-of-type {\n",
       "        vertical-align: middle;\n",
       "    }\n",
       "\n",
       "    .dataframe tbody tr th {\n",
       "        vertical-align: top;\n",
       "    }\n",
       "\n",
       "    .dataframe thead th {\n",
       "        text-align: right;\n",
       "    }\n",
       "</style>\n",
       "<table border=\"1\" class=\"dataframe\">\n",
       "  <thead>\n",
       "    <tr style=\"text-align: right;\">\n",
       "      <th></th>\n",
       "      <th>brgy</th>\n",
       "      <th>land_area</th>\n",
       "      <th>floor_area</th>\n",
       "      <th>classification</th>\n",
       "      <th>storey</th>\n",
       "      <th>struct_type</th>\n",
       "      <th>roof_framing</th>\n",
       "      <th>roofing</th>\n",
       "      <th>ext_walls</th>\n",
       "      <th>flooring</th>\n",
       "      <th>doors</th>\n",
       "      <th>ceiling</th>\n",
       "      <th>windows</th>\n",
       "      <th>stairs</th>\n",
       "      <th>wall_finish</th>\n",
       "      <th>elect_conduit</th>\n",
       "      <th>toilet</th>\n",
       "      <th>plumbing</th>\n",
       "      <th>target_value</th>\n",
       "    </tr>\n",
       "  </thead>\n",
       "  <tbody>\n",
       "    <tr>\n",
       "      <th>0</th>\n",
       "      <td>0</td>\n",
       "      <td>665.0</td>\n",
       "      <td>354.08</td>\n",
       "      <td>1</td>\n",
       "      <td>2</td>\n",
       "      <td>3.0</td>\n",
       "      <td>5.0</td>\n",
       "      <td>2</td>\n",
       "      <td>1.0</td>\n",
       "      <td>1.0</td>\n",
       "      <td>6.0</td>\n",
       "      <td>0.0</td>\n",
       "      <td>2.0</td>\n",
       "      <td>CONC.</td>\n",
       "      <td>1.0</td>\n",
       "      <td>8.0</td>\n",
       "      <td>Tiles</td>\n",
       "      <td>PVC</td>\n",
       "      <td>1000000.0</td>\n",
       "    </tr>\n",
       "    <tr>\n",
       "      <th>1</th>\n",
       "      <td>0</td>\n",
       "      <td>104.0</td>\n",
       "      <td>71.25</td>\n",
       "      <td>1</td>\n",
       "      <td>1</td>\n",
       "      <td>5.0</td>\n",
       "      <td>5.0</td>\n",
       "      <td>3</td>\n",
       "      <td>2.0</td>\n",
       "      <td>1.0</td>\n",
       "      <td>6.0</td>\n",
       "      <td>0.0</td>\n",
       "      <td>0.0</td>\n",
       "      <td>CONC.</td>\n",
       "      <td>3.0</td>\n",
       "      <td>7.0</td>\n",
       "      <td>Tiles</td>\n",
       "      <td>PVC</td>\n",
       "      <td>413000.0</td>\n",
       "    </tr>\n",
       "    <tr>\n",
       "      <th>2</th>\n",
       "      <td>0</td>\n",
       "      <td>406.0</td>\n",
       "      <td>210.30</td>\n",
       "      <td>1</td>\n",
       "      <td>1</td>\n",
       "      <td>3.0</td>\n",
       "      <td>5.0</td>\n",
       "      <td>2</td>\n",
       "      <td>2.0</td>\n",
       "      <td>1.0</td>\n",
       "      <td>6.0</td>\n",
       "      <td>0.0</td>\n",
       "      <td>2.0</td>\n",
       "      <td>CONC.</td>\n",
       "      <td>1.0</td>\n",
       "      <td>8.0</td>\n",
       "      <td>Tiles</td>\n",
       "      <td>PVC</td>\n",
       "      <td>727910.0</td>\n",
       "    </tr>\n",
       "    <tr>\n",
       "      <th>3</th>\n",
       "      <td>0</td>\n",
       "      <td>240.0</td>\n",
       "      <td>81.00</td>\n",
       "      <td>1</td>\n",
       "      <td>1</td>\n",
       "      <td>3.0</td>\n",
       "      <td>5.0</td>\n",
       "      <td>3</td>\n",
       "      <td>2.0</td>\n",
       "      <td>1.0</td>\n",
       "      <td>6.0</td>\n",
       "      <td>0.0</td>\n",
       "      <td>0.0</td>\n",
       "      <td>CONC.</td>\n",
       "      <td>1.0</td>\n",
       "      <td>7.0</td>\n",
       "      <td>Tiles</td>\n",
       "      <td>PVC</td>\n",
       "      <td>610000.0</td>\n",
       "    </tr>\n",
       "    <tr>\n",
       "      <th>4</th>\n",
       "      <td>5</td>\n",
       "      <td>314.0</td>\n",
       "      <td>1314.00</td>\n",
       "      <td>0</td>\n",
       "      <td>4</td>\n",
       "      <td>3.0</td>\n",
       "      <td>5.0</td>\n",
       "      <td>2</td>\n",
       "      <td>2.0</td>\n",
       "      <td>1.0</td>\n",
       "      <td>0.0</td>\n",
       "      <td>0.0</td>\n",
       "      <td>0.0</td>\n",
       "      <td>CONC.</td>\n",
       "      <td>1.0</td>\n",
       "      <td>8.0</td>\n",
       "      <td>Tiles</td>\n",
       "      <td>GI</td>\n",
       "      <td>7393688.0</td>\n",
       "    </tr>\n",
       "  </tbody>\n",
       "</table>\n",
       "</div>"
      ],
      "text/plain": [
       "   brgy  land_area  floor_area  classification  storey  struct_type  \\\n",
       "0     0      665.0      354.08               1       2          3.0   \n",
       "1     0      104.0       71.25               1       1          5.0   \n",
       "2     0      406.0      210.30               1       1          3.0   \n",
       "3     0      240.0       81.00               1       1          3.0   \n",
       "4     5      314.0     1314.00               0       4          3.0   \n",
       "\n",
       "   roof_framing  roofing  ext_walls  flooring  doors  ceiling  windows stairs  \\\n",
       "0           5.0        2        1.0       1.0    6.0      0.0      2.0  CONC.   \n",
       "1           5.0        3        2.0       1.0    6.0      0.0      0.0  CONC.   \n",
       "2           5.0        2        2.0       1.0    6.0      0.0      2.0  CONC.   \n",
       "3           5.0        3        2.0       1.0    6.0      0.0      0.0  CONC.   \n",
       "4           5.0        2        2.0       1.0    0.0      0.0      0.0  CONC.   \n",
       "\n",
       "   wall_finish  elect_conduit toilet plumbing  target_value  \n",
       "0          1.0            8.0  Tiles      PVC     1000000.0  \n",
       "1          3.0            7.0  Tiles      PVC      413000.0  \n",
       "2          1.0            8.0  Tiles      PVC      727910.0  \n",
       "3          1.0            7.0  Tiles      PVC      610000.0  \n",
       "4          1.0            8.0  Tiles       GI     7393688.0  "
      ]
     },
     "execution_count": 454,
     "metadata": {},
     "output_type": "execute_result"
    }
   ],
   "source": [
    "df.head()"
   ]
  },
  {
   "cell_type": "markdown",
   "metadata": {},
   "source": [
    "##### Toilet and Bowl"
   ]
  },
  {
   "cell_type": "code",
   "execution_count": 455,
   "metadata": {},
   "outputs": [
    {
     "data": {
      "text/plain": [
       "['tiles', 'chb', NaN, 'wood', 'tiles ']\n",
       "Categories (4, object): ['chb', 'tiles', 'tiles ', 'wood']"
      ]
     },
     "execution_count": 455,
     "metadata": {},
     "output_type": "execute_result"
    }
   ],
   "source": [
    "df['toilet'] = df['toilet'].str.lower()\n",
    "df['toilet'] = df['toilet'].astype(\"category\")\n",
    "df['toilet'].unique()"
   ]
  },
  {
   "cell_type": "code",
   "execution_count": 456,
   "metadata": {},
   "outputs": [],
   "source": [
    "df['toilet'] = df['toilet'].replace({'chb':0, 'tiles':1, 'tiles ':1, 'wood':2})"
   ]
  },
  {
   "cell_type": "code",
   "execution_count": 457,
   "metadata": {},
   "outputs": [
    {
     "data": {
      "text/plain": [
       "array([ 1.,  0., nan,  2.])"
      ]
     },
     "execution_count": 457,
     "metadata": {},
     "output_type": "execute_result"
    }
   ],
   "source": [
    "df['toilet'].unique()"
   ]
  },
  {
   "cell_type": "code",
   "execution_count": 458,
   "metadata": {},
   "outputs": [],
   "source": [
    "df['toilet'] = df['toilet'].fillna(statistics.mode(df['toilet']))"
   ]
  },
  {
   "cell_type": "markdown",
   "metadata": {},
   "source": [
    "##### Plumbing"
   ]
  },
  {
   "cell_type": "code",
   "execution_count": 459,
   "metadata": {},
   "outputs": [
    {
     "data": {
      "text/plain": [
       "['pvc', 'gi', NaN, 'open']\n",
       "Categories (3, object): ['gi', 'open', 'pvc']"
      ]
     },
     "execution_count": 459,
     "metadata": {},
     "output_type": "execute_result"
    }
   ],
   "source": [
    "df['plumbing'] = df['plumbing'].str.lower()\n",
    "df['plumbing'] = df['plumbing'].astype(\"category\")\n",
    "df['plumbing'].unique()"
   ]
  },
  {
   "cell_type": "code",
   "execution_count": 460,
   "metadata": {},
   "outputs": [],
   "source": [
    "df['plumbing'] = df['plumbing'].replace({'gi':0, 'open':1, 'pvc':2})"
   ]
  },
  {
   "cell_type": "code",
   "execution_count": 461,
   "metadata": {},
   "outputs": [
    {
     "data": {
      "text/plain": [
       "array([ 2.,  0., nan,  1.])"
      ]
     },
     "execution_count": 461,
     "metadata": {},
     "output_type": "execute_result"
    }
   ],
   "source": [
    "df['plumbing'].unique()"
   ]
  },
  {
   "cell_type": "code",
   "execution_count": 462,
   "metadata": {},
   "outputs": [],
   "source": [
    "df['plumbing'] = df['plumbing'].fillna(statistics.mode(df['plumbing']))"
   ]
  },
  {
   "cell_type": "code",
   "execution_count": 463,
   "metadata": {},
   "outputs": [
    {
     "data": {
      "text/html": [
       "<div>\n",
       "<style scoped>\n",
       "    .dataframe tbody tr th:only-of-type {\n",
       "        vertical-align: middle;\n",
       "    }\n",
       "\n",
       "    .dataframe tbody tr th {\n",
       "        vertical-align: top;\n",
       "    }\n",
       "\n",
       "    .dataframe thead th {\n",
       "        text-align: right;\n",
       "    }\n",
       "</style>\n",
       "<table border=\"1\" class=\"dataframe\">\n",
       "  <thead>\n",
       "    <tr style=\"text-align: right;\">\n",
       "      <th></th>\n",
       "      <th>brgy</th>\n",
       "      <th>land_area</th>\n",
       "      <th>floor_area</th>\n",
       "      <th>classification</th>\n",
       "      <th>storey</th>\n",
       "      <th>struct_type</th>\n",
       "      <th>roof_framing</th>\n",
       "      <th>roofing</th>\n",
       "      <th>ext_walls</th>\n",
       "      <th>flooring</th>\n",
       "      <th>doors</th>\n",
       "      <th>ceiling</th>\n",
       "      <th>windows</th>\n",
       "      <th>stairs</th>\n",
       "      <th>wall_finish</th>\n",
       "      <th>elect_conduit</th>\n",
       "      <th>toilet</th>\n",
       "      <th>plumbing</th>\n",
       "      <th>target_value</th>\n",
       "    </tr>\n",
       "  </thead>\n",
       "  <tbody>\n",
       "    <tr>\n",
       "      <th>0</th>\n",
       "      <td>0</td>\n",
       "      <td>665.0</td>\n",
       "      <td>354.08</td>\n",
       "      <td>1</td>\n",
       "      <td>2</td>\n",
       "      <td>3.0</td>\n",
       "      <td>5.0</td>\n",
       "      <td>2</td>\n",
       "      <td>1.0</td>\n",
       "      <td>1.0</td>\n",
       "      <td>6.0</td>\n",
       "      <td>0.0</td>\n",
       "      <td>2.0</td>\n",
       "      <td>CONC.</td>\n",
       "      <td>1.0</td>\n",
       "      <td>8.0</td>\n",
       "      <td>1.0</td>\n",
       "      <td>2.0</td>\n",
       "      <td>1000000.0</td>\n",
       "    </tr>\n",
       "    <tr>\n",
       "      <th>1</th>\n",
       "      <td>0</td>\n",
       "      <td>104.0</td>\n",
       "      <td>71.25</td>\n",
       "      <td>1</td>\n",
       "      <td>1</td>\n",
       "      <td>5.0</td>\n",
       "      <td>5.0</td>\n",
       "      <td>3</td>\n",
       "      <td>2.0</td>\n",
       "      <td>1.0</td>\n",
       "      <td>6.0</td>\n",
       "      <td>0.0</td>\n",
       "      <td>0.0</td>\n",
       "      <td>CONC.</td>\n",
       "      <td>3.0</td>\n",
       "      <td>7.0</td>\n",
       "      <td>1.0</td>\n",
       "      <td>2.0</td>\n",
       "      <td>413000.0</td>\n",
       "    </tr>\n",
       "    <tr>\n",
       "      <th>2</th>\n",
       "      <td>0</td>\n",
       "      <td>406.0</td>\n",
       "      <td>210.30</td>\n",
       "      <td>1</td>\n",
       "      <td>1</td>\n",
       "      <td>3.0</td>\n",
       "      <td>5.0</td>\n",
       "      <td>2</td>\n",
       "      <td>2.0</td>\n",
       "      <td>1.0</td>\n",
       "      <td>6.0</td>\n",
       "      <td>0.0</td>\n",
       "      <td>2.0</td>\n",
       "      <td>CONC.</td>\n",
       "      <td>1.0</td>\n",
       "      <td>8.0</td>\n",
       "      <td>1.0</td>\n",
       "      <td>2.0</td>\n",
       "      <td>727910.0</td>\n",
       "    </tr>\n",
       "    <tr>\n",
       "      <th>3</th>\n",
       "      <td>0</td>\n",
       "      <td>240.0</td>\n",
       "      <td>81.00</td>\n",
       "      <td>1</td>\n",
       "      <td>1</td>\n",
       "      <td>3.0</td>\n",
       "      <td>5.0</td>\n",
       "      <td>3</td>\n",
       "      <td>2.0</td>\n",
       "      <td>1.0</td>\n",
       "      <td>6.0</td>\n",
       "      <td>0.0</td>\n",
       "      <td>0.0</td>\n",
       "      <td>CONC.</td>\n",
       "      <td>1.0</td>\n",
       "      <td>7.0</td>\n",
       "      <td>1.0</td>\n",
       "      <td>2.0</td>\n",
       "      <td>610000.0</td>\n",
       "    </tr>\n",
       "    <tr>\n",
       "      <th>4</th>\n",
       "      <td>5</td>\n",
       "      <td>314.0</td>\n",
       "      <td>1314.00</td>\n",
       "      <td>0</td>\n",
       "      <td>4</td>\n",
       "      <td>3.0</td>\n",
       "      <td>5.0</td>\n",
       "      <td>2</td>\n",
       "      <td>2.0</td>\n",
       "      <td>1.0</td>\n",
       "      <td>0.0</td>\n",
       "      <td>0.0</td>\n",
       "      <td>0.0</td>\n",
       "      <td>CONC.</td>\n",
       "      <td>1.0</td>\n",
       "      <td>8.0</td>\n",
       "      <td>1.0</td>\n",
       "      <td>0.0</td>\n",
       "      <td>7393688.0</td>\n",
       "    </tr>\n",
       "  </tbody>\n",
       "</table>\n",
       "</div>"
      ],
      "text/plain": [
       "   brgy  land_area  floor_area  classification  storey  struct_type  \\\n",
       "0     0      665.0      354.08               1       2          3.0   \n",
       "1     0      104.0       71.25               1       1          5.0   \n",
       "2     0      406.0      210.30               1       1          3.0   \n",
       "3     0      240.0       81.00               1       1          3.0   \n",
       "4     5      314.0     1314.00               0       4          3.0   \n",
       "\n",
       "   roof_framing  roofing  ext_walls  flooring  doors  ceiling  windows stairs  \\\n",
       "0           5.0        2        1.0       1.0    6.0      0.0      2.0  CONC.   \n",
       "1           5.0        3        2.0       1.0    6.0      0.0      0.0  CONC.   \n",
       "2           5.0        2        2.0       1.0    6.0      0.0      2.0  CONC.   \n",
       "3           5.0        3        2.0       1.0    6.0      0.0      0.0  CONC.   \n",
       "4           5.0        2        2.0       1.0    0.0      0.0      0.0  CONC.   \n",
       "\n",
       "   wall_finish  elect_conduit  toilet  plumbing  target_value  \n",
       "0          1.0            8.0     1.0       2.0     1000000.0  \n",
       "1          3.0            7.0     1.0       2.0      413000.0  \n",
       "2          1.0            8.0     1.0       2.0      727910.0  \n",
       "3          1.0            7.0     1.0       2.0      610000.0  \n",
       "4          1.0            8.0     1.0       0.0     7393688.0  "
      ]
     },
     "execution_count": 463,
     "metadata": {},
     "output_type": "execute_result"
    }
   ],
   "source": [
    "df.head()"
   ]
  },
  {
   "cell_type": "markdown",
   "metadata": {},
   "source": []
  },
  {
   "cell_type": "code",
   "execution_count": 464,
   "metadata": {},
   "outputs": [
    {
     "data": {
      "text/plain": [
       "brgy               0\n",
       "land_area          0\n",
       "floor_area         0\n",
       "classification     0\n",
       "storey             0\n",
       "struct_type        0\n",
       "roof_framing       0\n",
       "roofing            0\n",
       "ext_walls          0\n",
       "flooring           0\n",
       "doors              0\n",
       "ceiling            0\n",
       "windows            0\n",
       "stairs            47\n",
       "wall_finish        0\n",
       "elect_conduit      0\n",
       "toilet             0\n",
       "plumbing           0\n",
       "target_value       0\n",
       "dtype: int64"
      ]
     },
     "execution_count": 464,
     "metadata": {},
     "output_type": "execute_result"
    }
   ],
   "source": [
    "df.isna().sum()"
   ]
  },
  {
   "cell_type": "code",
   "execution_count": 465,
   "metadata": {},
   "outputs": [],
   "source": [
    "df = df.drop('struct_type', axis=1)\n",
    "df = df.drop('stairs', axis=1)"
   ]
  },
  {
   "cell_type": "markdown",
   "metadata": {},
   "source": [
    "##### End of Cleaning"
   ]
  },
  {
   "cell_type": "markdown",
   "metadata": {},
   "source": [
    "### Pre-Processing"
   ]
  },
  {
   "cell_type": "code",
   "execution_count": 466,
   "metadata": {},
   "outputs": [],
   "source": [
    "X = df[['brgy', 'land_area', 'floor_area', 'classification', 'storey',\n",
    "       'roof_framing', 'roofing', 'ext_walls', 'flooring', 'doors', 'ceiling',\n",
    "       'windows', 'wall_finish', 'elect_conduit', 'toilet', 'plumbing']]\n",
    "       \n",
    "y = df.target_value"
   ]
  },
  {
   "cell_type": "code",
   "execution_count": 467,
   "metadata": {},
   "outputs": [
    {
     "name": "stdout",
     "output_type": "stream",
     "text": [
      "model score on training data: 0.9520084362715892\n",
      "model score on testing data: 0.8229617215330278\n"
     ]
    }
   ],
   "source": [
    "lin_reg = LinearRegression()\n",
    "\n",
    "X_train, X_test, y_train, y_test = train_test_split(X, y, test_size=0.1, random_state=18)\n",
    "\n",
    "lin_reg.fit(X_train,y_train)\n",
    "\n",
    "print(f'model score on training data: {lin_reg.score(X_train, y_train)}')\n",
    "print(f'model score on testing data: {lin_reg.score(X_test, y_test)}')"
   ]
  },
  {
   "cell_type": "code",
   "execution_count": 468,
   "metadata": {},
   "outputs": [
    {
     "data": {
      "text/plain": [
       "array([ 0.82296172, -0.39801575,  0.68191363, -0.43800184,  0.92273929,\n",
       "        0.66539437,  0.91889914,  0.62183985,  0.68403776,  0.75835003,\n",
       "        0.28277565,  0.49701141, -0.81750917,  0.60886084,  0.83505573,\n",
       "        0.31071338])"
      ]
     },
     "execution_count": 468,
     "metadata": {},
     "output_type": "execute_result"
    }
   ],
   "source": [
    "from sklearn.model_selection import ShuffleSplit\n",
    "from sklearn.model_selection import cross_val_score\n",
    "\n",
    "cv = ShuffleSplit(n_splits=16, test_size=0.1, random_state=18)\n",
    "\n",
    "cross_val_score(LinearRegression(), X, y, cv=cv)"
   ]
  },
  {
   "cell_type": "code",
   "execution_count": 469,
   "metadata": {},
   "outputs": [
    {
     "name": "stdout",
     "output_type": "stream",
     "text": [
      "Mean Absolute Error: 164550.66571711932\n",
      "Mean Squared Error: 33942314071.489567\n",
      "Root Mean Squared Error: 405.64845089944487\n",
      "R Squared: 0.8229617215330278\n"
     ]
    }
   ],
   "source": [
    "from sklearn import metrics\n",
    "from sklearn.metrics import r2_score\n",
    "  \n",
    "\n",
    "# calculated values\n",
    "y_pred = lin_reg.predict(X_test)  # Y_pred = Y'\n",
    "  \n",
    "# Result of MAE\n",
    "print(\"Mean Absolute Error:\",metrics.mean_absolute_error(y_test, y_pred))\n",
    "\n",
    "# Result of MSE\n",
    "print(\"Mean Squared Error:\",metrics.mean_squared_error(y_test, y_pred))\n",
    "\n",
    "# Result of RMSE\n",
    "print(\"Root Mean Squared Error:\",np.sqrt(metrics.mean_absolute_error(y_test, y_pred)))\n",
    "\n",
    "# Result of R^2\n",
    "print(\"R Squared:\",r2_score(y_test, y_pred))\n"
   ]
  },
  {
   "cell_type": "markdown",
   "metadata": {},
   "source": [
    "### Residuals Plot"
   ]
  },
  {
   "cell_type": "code",
   "execution_count": 470,
   "metadata": {},
   "outputs": [],
   "source": [
    "%matplotlib inline\n",
    "import seaborn as sns"
   ]
  },
  {
   "cell_type": "code",
   "execution_count": 471,
   "metadata": {},
   "outputs": [
    {
     "name": "stderr",
     "output_type": "stream",
     "text": [
      "C:\\Users\\Asus\\AppData\\Local\\Packages\\PythonSoftwareFoundation.Python.3.9_qbz5n2kfra8p0\\LocalCache\\local-packages\\Python39\\site-packages\\seaborn\\_decorators.py:36: FutureWarning: Pass the following variables as keyword args: x, y. From version 0.12, the only valid positional argument will be `data`, and passing other arguments without an explicit keyword will result in an error or misinterpretation.\n",
      "  warnings.warn(\n"
     ]
    },
    {
     "data": {
      "image/png": "[encoded data removed]",
      "text/plain": [
       "<Figure size 432x288 with 1 Axes>"
      ]
     },
     "metadata": {
      "needs_background": "light"
     },
     "output_type": "display_data"
    }
   ],
   "source": [
    "g = sns.residplot(y_test, y_pred, data=df)"
   ]
  },
  {
   "cell_type": "code",
   "execution_count": 472,
   "metadata": {},
   "outputs": [],
   "source": [
    "### Ridge Reression"
   ]
  },
  {
   "cell_type": "code",
   "execution_count": 473,
   "metadata": {},
   "outputs": [
    {
     "name": "stdout",
     "output_type": "stream",
     "text": [
      "model score on training data: 0.95189793284481\n",
      "model score on testing data: 0.808268694217\n"
     ]
    }
   ],
   "source": [
    "from sklearn.linear_model import Ridge\n",
    "rid_reg = Ridge()\n",
    "\n",
    "X_train, X_test, y_train, y_test = train_test_split(X, y, test_size=0.1, random_state=18)\n",
    "\n",
    "rid_reg.fit(X_train,y_train)\n",
    "pred = rid_reg.predict(X_test)\n",
    "\n",
    "\n",
    "print(f'model score on training data: {rid_reg.score(X_train, y_train)}')\n",
    "print(f'model score on testing data: {rid_reg.score(X_test, y_test)}')"
   ]
  },
  {
   "cell_type": "code",
   "execution_count": 474,
   "metadata": {},
   "outputs": [
    {
     "name": "stdout",
     "output_type": "stream",
     "text": [
      "Mean Absolute Error: 169393.23334424788\n",
      "Mean Squared Error: 36759305696.917244\n",
      "Root Mean Squared Error: 411.5740921684064\n",
      "R Squared: 0.808268694217\n"
     ]
    }
   ],
   "source": [
    "from sklearn import metrics\n",
    "from sklearn.metrics import r2_score\n",
    "  \n",
    "\n",
    "# calculated values\n",
    "y_pred = rid_reg.predict(X_test)  # Y_pred = Y'\n",
    "  \n",
    "# Result of MAE\n",
    "print(\"Mean Absolute Error:\",metrics.mean_absolute_error(y_test, y_pred))\n",
    "\n",
    "# Result of MSE\n",
    "print(\"Mean Squared Error:\",metrics.mean_squared_error(y_test, y_pred))\n",
    "\n",
    "# Result of RMSE\n",
    "print(\"Root Mean Squared Error:\",np.sqrt(metrics.mean_absolute_error(y_test, y_pred)))\n",
    "\n",
    "# Result of R^2\n",
    "print(\"R Squared:\",r2_score(y_test, y_pred))\n"
   ]
  },
  {
   "cell_type": "code",
   "execution_count": 475,
   "metadata": {},
   "outputs": [
    {
     "name": "stderr",
     "output_type": "stream",
     "text": [
      "C:\\Users\\Asus\\AppData\\Local\\Packages\\PythonSoftwareFoundation.Python.3.9_qbz5n2kfra8p0\\LocalCache\\local-packages\\Python39\\site-packages\\seaborn\\_decorators.py:36: FutureWarning: Pass the following variables as keyword args: x, y. From version 0.12, the only valid positional argument will be `data`, and passing other arguments without an explicit keyword will result in an error or misinterpretation.\n",
      "  warnings.warn(\n"
     ]
    },
    {
     "data": {
      "image/png": "[encoded data removed]",
      "text/plain": [
       "<Figure size 432x288 with 1 Axes>"
      ]
     },
     "metadata": {
      "needs_background": "light"
     },
     "output_type": "display_data"
    }
   ],
   "source": [
    "g = sns.residplot(y_test, y_pred, data=df)"
   ]
  },
  {
   "cell_type": "markdown",
   "metadata": {},
   "source": [
    "### Gradient Boosting"
   ]
  },
  {
   "cell_type": "code",
   "execution_count": 476,
   "metadata": {},
   "outputs": [],
   "source": [
    "from xgboost import XGBRegressor\n",
    "\n",
    "X_train, X_test, y_train, y_test = train_test_split(X, y, test_size=0.1, random_state=13)\n",
    "\n",
    "xgbr = XGBRegressor(verbosity=0) "
   ]
  },
  {
   "cell_type": "code",
   "execution_count": 477,
   "metadata": {},
   "outputs": [
    {
     "name": "stdout",
     "output_type": "stream",
     "text": [
      "Mean Absolute Error: 120745.61770833333\n",
      "Mean Squared Error: 25211587219.354637\n",
      "Root Mean Squared Error: 347.48470140185066\n",
      "R Squared: 0.9339715473733121\n"
     ]
    }
   ],
   "source": [
    "from sklearn.metrics import mean_squared_error, r2_score\n",
    "\n",
    "xgbr.fit(X_train, y_train)\n",
    "\n",
    "y_pred = xgbr.predict(X_test)\n",
    "\n",
    "# Result of MAE\n",
    "print(\"Mean Absolute Error:\",metrics.mean_absolute_error(y_test, y_pred))\n",
    "\n",
    "# Result of MSE\n",
    "print(\"Mean Squared Error:\",metrics.mean_squared_error(y_test, y_pred))\n",
    "\n",
    "# Result of RMSE\n",
    "print(\"Root Mean Squared Error:\",np.sqrt(metrics.mean_absolute_error(y_test, y_pred)))\n",
    "\n",
    "# Result of R^2\n",
    "print(\"R Squared:\",r2_score(y_test, y_pred))"
   ]
  },
  {
   "cell_type": "code",
   "execution_count": 478,
   "metadata": {},
   "outputs": [
    {
     "data": {
      "text/plain": [
       "Index(['brgy', 'land_area', 'floor_area', 'classification', 'storey',\n",
       "       'roof_framing', 'roofing', 'ext_walls', 'flooring', 'doors', 'ceiling',\n",
       "       'windows', 'wall_finish', 'elect_conduit', 'toilet', 'plumbing',\n",
       "       'target_value'],\n",
       "      dtype='object')"
      ]
     },
     "execution_count": 478,
     "metadata": {},
     "output_type": "execute_result"
    }
   ],
   "source": [
    "df.columns"
   ]
  },
  {
   "cell_type": "code",
   "execution_count": 479,
   "metadata": {},
   "outputs": [
    {
     "name": "stdout",
     "output_type": "stream",
     "text": [
      "Mean Absolute Error: 119561.0887384244\n",
      "Mean Squared Error: 26100840389.031548\n",
      "Root Mean Squared Error: 345.7760673303235\n",
      "R Squared: 0.8445697558988471\n"
     ]
    }
   ],
   "source": [
    "from sklearn import ensemble\n",
    "from sklearn.inspection import permutation_importance\n",
    "\n",
    "X_train, X_test, y_train, y_test = train_test_split(X, y, test_size=0.1, random_state=20)\n",
    "\n",
    "params = {\n",
    "    \"n_estimators\": 100,\n",
    "    \"max_depth\": 3,\n",
    "    \"min_samples_split\": 2,\n",
    "    \"learning_rate\": 0.3,\n",
    "    \"loss\": \"squared_error\",\n",
    "}\n",
    "reg = ensemble.GradientBoostingRegressor(**params)\n",
    "reg.fit(X_train, y_train)\n",
    "\n",
    "y_pred = reg.predict(X_test)\n",
    "# Result of MAE\n",
    "print(\"Mean Absolute Error:\",metrics.mean_absolute_error(y_test, y_pred))\n",
    "\n",
    "# Result of MSE\n",
    "print(\"Mean Squared Error:\",metrics.mean_squared_error(y_test, y_pred))\n",
    "\n",
    "# Result of RMSE\n",
    "print(\"Root Mean Squared Error:\",np.sqrt(metrics.mean_absolute_error(y_test, y_pred)))\n",
    "\n",
    "# Result of R^2\n",
    "print(\"R Squared:\",r2_score(y_test, y_pred))"
   ]
  },
  {
   "cell_type": "code",
   "execution_count": 480,
   "metadata": {},
   "outputs": [
    {
     "data": {
      "text/html": [
       "<div>\n",
       "<style scoped>\n",
       "    .dataframe tbody tr th:only-of-type {\n",
       "        vertical-align: middle;\n",
       "    }\n",
       "\n",
       "    .dataframe tbody tr th {\n",
       "        vertical-align: top;\n",
       "    }\n",
       "\n",
       "    .dataframe thead th {\n",
       "        text-align: right;\n",
       "    }\n",
       "</style>\n",
       "<table border=\"1\" class=\"dataframe\">\n",
       "  <thead>\n",
       "    <tr style=\"text-align: right;\">\n",
       "      <th></th>\n",
       "      <th>Actual</th>\n",
       "      <th>Predicted</th>\n",
       "    </tr>\n",
       "  </thead>\n",
       "  <tbody>\n",
       "    <tr>\n",
       "      <th>88</th>\n",
       "      <td>20000.0</td>\n",
       "      <td>3.888056e+05</td>\n",
       "    </tr>\n",
       "    <tr>\n",
       "      <th>126</th>\n",
       "      <td>462520.0</td>\n",
       "      <td>6.871980e+05</td>\n",
       "    </tr>\n",
       "    <tr>\n",
       "      <th>56</th>\n",
       "      <td>226500.0</td>\n",
       "      <td>1.921675e+05</td>\n",
       "    </tr>\n",
       "    <tr>\n",
       "      <th>103</th>\n",
       "      <td>230000.0</td>\n",
       "      <td>1.825055e+05</td>\n",
       "    </tr>\n",
       "    <tr>\n",
       "      <th>121</th>\n",
       "      <td>374960.0</td>\n",
       "      <td>2.746886e+05</td>\n",
       "    </tr>\n",
       "    <tr>\n",
       "      <th>106</th>\n",
       "      <td>600000.0</td>\n",
       "      <td>6.031273e+05</td>\n",
       "    </tr>\n",
       "    <tr>\n",
       "      <th>80</th>\n",
       "      <td>1000000.0</td>\n",
       "      <td>1.324951e+06</td>\n",
       "    </tr>\n",
       "    <tr>\n",
       "      <th>13</th>\n",
       "      <td>423000.0</td>\n",
       "      <td>4.799133e+05</td>\n",
       "    </tr>\n",
       "    <tr>\n",
       "      <th>76</th>\n",
       "      <td>613720.0</td>\n",
       "      <td>5.737587e+05</td>\n",
       "    </tr>\n",
       "    <tr>\n",
       "      <th>132</th>\n",
       "      <td>91650.0</td>\n",
       "      <td>2.795403e+05</td>\n",
       "    </tr>\n",
       "    <tr>\n",
       "      <th>131</th>\n",
       "      <td>592790.0</td>\n",
       "      <td>6.016463e+05</td>\n",
       "    </tr>\n",
       "    <tr>\n",
       "      <th>47</th>\n",
       "      <td>1700000.0</td>\n",
       "      <td>1.791169e+06</td>\n",
       "    </tr>\n",
       "    <tr>\n",
       "      <th>67</th>\n",
       "      <td>857560.0</td>\n",
       "      <td>7.890037e+05</td>\n",
       "    </tr>\n",
       "    <tr>\n",
       "      <th>133</th>\n",
       "      <td>684000.0</td>\n",
       "      <td>5.170656e+05</td>\n",
       "    </tr>\n",
       "    <tr>\n",
       "      <th>21</th>\n",
       "      <td>200000.0</td>\n",
       "      <td>2.694750e+05</td>\n",
       "    </tr>\n",
       "  </tbody>\n",
       "</table>\n",
       "</div>"
      ],
      "text/plain": [
       "        Actual     Predicted\n",
       "88     20000.0  3.888056e+05\n",
       "126   462520.0  6.871980e+05\n",
       "56    226500.0  1.921675e+05\n",
       "103   230000.0  1.825055e+05\n",
       "121   374960.0  2.746886e+05\n",
       "106   600000.0  6.031273e+05\n",
       "80   1000000.0  1.324951e+06\n",
       "13    423000.0  4.799133e+05\n",
       "76    613720.0  5.737587e+05\n",
       "132    91650.0  2.795403e+05\n",
       "131   592790.0  6.016463e+05\n",
       "47   1700000.0  1.791169e+06\n",
       "67    857560.0  7.890037e+05\n",
       "133   684000.0  5.170656e+05\n",
       "21    200000.0  2.694750e+05"
      ]
     },
     "execution_count": 480,
     "metadata": {},
     "output_type": "execute_result"
    }
   ],
   "source": [
    "df = pd.DataFrame({\"Actual\": y_test, \"Predicted\": y_pred})\n",
    "df"
   ]
  },
  {
   "cell_type": "code",
   "execution_count": 482,
   "metadata": {},
   "outputs": [
    {
     "data": {
      "text/plain": [
       "88       20000.0\n",
       "126     462520.0\n",
       "56      226500.0\n",
       "103     230000.0\n",
       "121     374960.0\n",
       "106     600000.0\n",
       "80     1000000.0\n",
       "13      423000.0\n",
       "76      613720.0\n",
       "132      91650.0\n",
       "131     592790.0\n",
       "47     1700000.0\n",
       "67      857560.0\n",
       "133     684000.0\n",
       "21      200000.0\n",
       "Name: target_value, dtype: float64"
      ]
     },
     "execution_count": 482,
     "metadata": {},
     "output_type": "execute_result"
    }
   ],
   "source": [
    "y_test"
   ]
  },
  {
   "cell_type": "code",
   "execution_count": 483,
   "metadata": {},
   "outputs": [
    {
     "data": {
      "text/plain": [
       "array([ 388806.,  687198.,  192168.,  182505.,  274689.,  603127.,\n",
       "       1324951.,  479913.,  573759.,  279540.,  601646., 1791169.,\n",
       "        789004.,  517066.,  269475.])"
      ]
     },
     "execution_count": 483,
     "metadata": {},
     "output_type": "execute_result"
    }
   ],
   "source": [
    "y_pred=np.rint(y_pred)\n",
    "y_pred"
   ]
  },
  {
   "cell_type": "code",
   "execution_count": 484,
   "metadata": {},
   "outputs": [
    {
     "data": {
      "text/plain": [
       "88       20000.0\n",
       "126     462520.0\n",
       "56      226500.0\n",
       "103     230000.0\n",
       "121     374960.0\n",
       "106     600000.0\n",
       "80     1000000.0\n",
       "13      423000.0\n",
       "76      613720.0\n",
       "132      91650.0\n",
       "131     592790.0\n",
       "47     1700000.0\n",
       "67      857560.0\n",
       "133     684000.0\n",
       "21      200000.0\n",
       "Name: target_value, dtype: float64"
      ]
     },
     "execution_count": 484,
     "metadata": {},
     "output_type": "execute_result"
    }
   ],
   "source": [
    "y_test"
   ]
  },
  {
   "cell_type": "code",
   "execution_count": 485,
   "metadata": {},
   "outputs": [
    {
     "data": {
      "text/plain": [
       "array([[0, 0, 0, 0, 0, 0, 0, 0, 0, 0, 0, 1, 0, 0, 0, 0, 0, 0, 0, 0, 0, 0,\n",
       "        0, 0, 0, 0, 0, 0, 0, 0],\n",
       "       [0, 0, 0, 0, 0, 0, 0, 0, 0, 1, 0, 0, 0, 0, 0, 0, 0, 0, 0, 0, 0, 0,\n",
       "        0, 0, 0, 0, 0, 0, 0, 0],\n",
       "       [0, 0, 0, 0, 0, 0, 0, 0, 0, 0, 0, 0, 0, 0, 0, 0, 0, 0, 0, 0, 0, 0,\n",
       "        0, 0, 0, 0, 0, 0, 0, 0],\n",
       "       [0, 0, 0, 0, 0, 0, 0, 0, 0, 0, 0, 0, 0, 0, 0, 0, 0, 0, 0, 0, 0, 0,\n",
       "        0, 0, 0, 0, 0, 0, 0, 0],\n",
       "       [0, 0, 0, 0, 0, 0, 0, 1, 0, 0, 0, 0, 0, 0, 0, 0, 0, 0, 0, 0, 0, 0,\n",
       "        0, 0, 0, 0, 0, 0, 0, 0],\n",
       "       [0, 0, 0, 1, 0, 0, 0, 0, 0, 0, 0, 0, 0, 0, 0, 0, 0, 0, 0, 0, 0, 0,\n",
       "        0, 0, 0, 0, 0, 0, 0, 0],\n",
       "       [0, 0, 1, 0, 0, 0, 0, 0, 0, 0, 0, 0, 0, 0, 0, 0, 0, 0, 0, 0, 0, 0,\n",
       "        0, 0, 0, 0, 0, 0, 0, 0],\n",
       "       [0, 0, 0, 0, 0, 0, 0, 0, 0, 0, 0, 0, 0, 0, 0, 0, 0, 0, 0, 0, 0, 0,\n",
       "        0, 0, 0, 0, 0, 0, 0, 0],\n",
       "       [0, 0, 0, 0, 0, 0, 0, 0, 0, 0, 0, 0, 0, 0, 0, 0, 0, 0, 0, 0, 0, 0,\n",
       "        0, 0, 0, 0, 0, 0, 0, 0],\n",
       "       [0, 0, 0, 0, 0, 0, 0, 0, 0, 0, 0, 0, 0, 0, 0, 0, 0, 0, 0, 0, 0, 0,\n",
       "        0, 0, 0, 0, 0, 0, 0, 0],\n",
       "       [0, 0, 0, 0, 0, 0, 0, 0, 1, 0, 0, 0, 0, 0, 0, 0, 0, 0, 0, 0, 0, 0,\n",
       "        0, 0, 0, 0, 0, 0, 0, 0],\n",
       "       [0, 0, 0, 0, 0, 0, 0, 0, 0, 0, 0, 0, 0, 0, 0, 0, 0, 0, 0, 0, 0, 0,\n",
       "        0, 0, 0, 0, 0, 0, 0, 0],\n",
       "       [0, 0, 0, 0, 0, 0, 0, 0, 0, 0, 0, 0, 0, 0, 1, 0, 0, 0, 0, 0, 0, 0,\n",
       "        0, 0, 0, 0, 0, 0, 0, 0],\n",
       "       [0, 0, 0, 0, 0, 0, 0, 0, 0, 0, 0, 0, 0, 0, 0, 0, 0, 0, 0, 0, 0, 0,\n",
       "        0, 1, 0, 0, 0, 0, 0, 0],\n",
       "       [0, 0, 0, 0, 0, 0, 0, 0, 0, 0, 0, 0, 0, 0, 0, 0, 0, 0, 0, 0, 0, 0,\n",
       "        0, 0, 0, 0, 0, 0, 0, 0],\n",
       "       [0, 0, 0, 0, 0, 0, 0, 0, 0, 0, 0, 0, 0, 0, 0, 0, 0, 0, 0, 0, 0, 0,\n",
       "        0, 0, 0, 0, 0, 0, 0, 0],\n",
       "       [0, 0, 0, 0, 0, 0, 0, 0, 0, 0, 0, 0, 0, 0, 0, 0, 0, 0, 0, 0, 0, 0,\n",
       "        0, 0, 0, 0, 0, 0, 0, 0],\n",
       "       [0, 0, 0, 0, 0, 0, 0, 0, 0, 0, 0, 0, 0, 0, 0, 0, 0, 0, 0, 1, 0, 0,\n",
       "        0, 0, 0, 0, 0, 0, 0, 0],\n",
       "       [0, 0, 0, 0, 0, 0, 0, 0, 0, 0, 0, 0, 0, 0, 0, 0, 0, 0, 0, 0, 1, 0,\n",
       "        0, 0, 0, 0, 0, 0, 0, 0],\n",
       "       [0, 0, 0, 0, 0, 0, 0, 0, 0, 0, 0, 0, 0, 0, 0, 0, 0, 0, 0, 0, 0, 0,\n",
       "        0, 0, 0, 0, 0, 0, 0, 0],\n",
       "       [0, 0, 0, 0, 0, 0, 0, 0, 0, 0, 0, 0, 0, 0, 0, 0, 0, 0, 0, 0, 0, 0,\n",
       "        0, 0, 0, 0, 0, 0, 0, 0],\n",
       "       [0, 0, 0, 0, 0, 0, 0, 0, 0, 0, 0, 0, 0, 0, 0, 0, 1, 0, 0, 0, 0, 0,\n",
       "        0, 0, 0, 0, 0, 0, 0, 0],\n",
       "       [0, 0, 0, 0, 0, 0, 0, 0, 0, 0, 0, 0, 0, 0, 0, 1, 0, 0, 0, 0, 0, 0,\n",
       "        0, 0, 0, 0, 0, 0, 0, 0],\n",
       "       [0, 0, 0, 0, 0, 0, 0, 0, 0, 0, 0, 0, 0, 0, 0, 0, 0, 0, 0, 0, 0, 0,\n",
       "        0, 0, 0, 0, 0, 0, 0, 0],\n",
       "       [0, 0, 0, 0, 0, 0, 0, 0, 0, 0, 0, 0, 0, 0, 0, 0, 0, 0, 0, 0, 0, 0,\n",
       "        0, 0, 0, 0, 0, 0, 0, 0],\n",
       "       [0, 0, 0, 0, 0, 0, 0, 0, 0, 0, 0, 0, 0, 0, 0, 0, 0, 0, 0, 0, 0, 0,\n",
       "        0, 0, 1, 0, 0, 0, 0, 0],\n",
       "       [0, 0, 0, 0, 0, 0, 0, 0, 0, 0, 0, 0, 0, 0, 0, 0, 0, 0, 0, 0, 0, 0,\n",
       "        0, 0, 0, 0, 0, 1, 0, 0],\n",
       "       [0, 0, 0, 0, 0, 0, 0, 0, 0, 0, 0, 0, 0, 0, 0, 0, 0, 0, 0, 0, 0, 0,\n",
       "        0, 0, 0, 0, 0, 0, 0, 0],\n",
       "       [0, 0, 0, 0, 0, 0, 0, 0, 0, 0, 0, 0, 0, 0, 0, 0, 0, 0, 0, 0, 0, 0,\n",
       "        0, 0, 0, 0, 0, 0, 0, 1],\n",
       "       [0, 0, 0, 0, 0, 0, 0, 0, 0, 0, 0, 0, 0, 0, 0, 0, 0, 0, 0, 0, 0, 0,\n",
       "        0, 0, 0, 0, 0, 0, 0, 0]], dtype=int64)"
      ]
     },
     "execution_count": 485,
     "metadata": {},
     "output_type": "execute_result"
    }
   ],
   "source": [
    "from sklearn.metrics import confusion_matrix\n",
    "\n",
    "confusion_matrix(y_test, y_pred)"
   ]
  },
  {
   "cell_type": "code",
   "execution_count": 492,
   "metadata": {},
   "outputs": [
    {
     "data": {
      "text/html": [
       "<div>\n",
       "<style scoped>\n",
       "    .dataframe tbody tr th:only-of-type {\n",
       "        vertical-align: middle;\n",
       "    }\n",
       "\n",
       "    .dataframe tbody tr th {\n",
       "        vertical-align: top;\n",
       "    }\n",
       "\n",
       "    .dataframe thead th {\n",
       "        text-align: right;\n",
       "    }\n",
       "</style>\n",
       "<table border=\"1\" class=\"dataframe\">\n",
       "  <thead>\n",
       "    <tr style=\"text-align: right;\">\n",
       "      <th></th>\n",
       "      <th>Actual</th>\n",
       "      <th>Predicted</th>\n",
       "    </tr>\n",
       "  </thead>\n",
       "  <tbody>\n",
       "    <tr>\n",
       "      <th>88</th>\n",
       "      <td>20000.0</td>\n",
       "      <td>388806.0</td>\n",
       "    </tr>\n",
       "    <tr>\n",
       "      <th>126</th>\n",
       "      <td>462520.0</td>\n",
       "      <td>687198.0</td>\n",
       "    </tr>\n",
       "    <tr>\n",
       "      <th>56</th>\n",
       "      <td>226500.0</td>\n",
       "      <td>192168.0</td>\n",
       "    </tr>\n",
       "    <tr>\n",
       "      <th>103</th>\n",
       "      <td>230000.0</td>\n",
       "      <td>182505.0</td>\n",
       "    </tr>\n",
       "    <tr>\n",
       "      <th>121</th>\n",
       "      <td>374960.0</td>\n",
       "      <td>274689.0</td>\n",
       "    </tr>\n",
       "    <tr>\n",
       "      <th>106</th>\n",
       "      <td>600000.0</td>\n",
       "      <td>603127.0</td>\n",
       "    </tr>\n",
       "    <tr>\n",
       "      <th>80</th>\n",
       "      <td>1000000.0</td>\n",
       "      <td>1324951.0</td>\n",
       "    </tr>\n",
       "    <tr>\n",
       "      <th>13</th>\n",
       "      <td>423000.0</td>\n",
       "      <td>479913.0</td>\n",
       "    </tr>\n",
       "    <tr>\n",
       "      <th>76</th>\n",
       "      <td>613720.0</td>\n",
       "      <td>573759.0</td>\n",
       "    </tr>\n",
       "    <tr>\n",
       "      <th>132</th>\n",
       "      <td>91650.0</td>\n",
       "      <td>279540.0</td>\n",
       "    </tr>\n",
       "    <tr>\n",
       "      <th>131</th>\n",
       "      <td>592790.0</td>\n",
       "      <td>601646.0</td>\n",
       "    </tr>\n",
       "    <tr>\n",
       "      <th>47</th>\n",
       "      <td>1700000.0</td>\n",
       "      <td>1791169.0</td>\n",
       "    </tr>\n",
       "    <tr>\n",
       "      <th>67</th>\n",
       "      <td>857560.0</td>\n",
       "      <td>789004.0</td>\n",
       "    </tr>\n",
       "    <tr>\n",
       "      <th>133</th>\n",
       "      <td>684000.0</td>\n",
       "      <td>517066.0</td>\n",
       "    </tr>\n",
       "    <tr>\n",
       "      <th>21</th>\n",
       "      <td>200000.0</td>\n",
       "      <td>269475.0</td>\n",
       "    </tr>\n",
       "  </tbody>\n",
       "</table>\n",
       "</div>"
      ],
      "text/plain": [
       "        Actual  Predicted\n",
       "88     20000.0   388806.0\n",
       "126   462520.0   687198.0\n",
       "56    226500.0   192168.0\n",
       "103   230000.0   182505.0\n",
       "121   374960.0   274689.0\n",
       "106   600000.0   603127.0\n",
       "80   1000000.0  1324951.0\n",
       "13    423000.0   479913.0\n",
       "76    613720.0   573759.0\n",
       "132    91650.0   279540.0\n",
       "131   592790.0   601646.0\n",
       "47   1700000.0  1791169.0\n",
       "67    857560.0   789004.0\n",
       "133   684000.0   517066.0\n",
       "21    200000.0   269475.0"
      ]
     },
     "execution_count": 492,
     "metadata": {},
     "output_type": "execute_result"
    }
   ],
   "source": [
    "df = pd.DataFrame({\"Actual\": y_test, \"Predicted\": y_pred})\n",
    "df"
   ]
  },
  {
   "cell_type": "code",
   "execution_count": 494,
   "metadata": {},
   "outputs": [
    {
     "data": {
      "image/png": "[encoded data removed]",
      "text/plain": [
       "<Figure size 432x288 with 2 Axes>"
      ]
     },
     "metadata": {
      "needs_background": "light"
     },
     "output_type": "display_data"
    }
   ],
   "source": [
    "df = pd.DataFrame({\"Actual\": y_test, \"Predicted\": y_pred})\n",
    "confusion_matrix = pd.crosstab(y_test, y_pred, rownames=['Actual'], colnames=['Predicted'])\n",
    "\n",
    "sns.heatmap(confusion_matrix, annot=True)\n",
    "plt.show()\n"
   ]
  },
  {
   "cell_type": "code",
   "execution_count": 486,
   "metadata": {},
   "outputs": [
    {
     "name": "stderr",
     "output_type": "stream",
     "text": [
      "C:\\Users\\Asus\\AppData\\Local\\Packages\\PythonSoftwareFoundation.Python.3.9_qbz5n2kfra8p0\\LocalCache\\local-packages\\Python39\\site-packages\\seaborn\\_decorators.py:36: FutureWarning: Pass the following variables as keyword args: x, y. From version 0.12, the only valid positional argument will be `data`, and passing other arguments without an explicit keyword will result in an error or misinterpretation.\n",
      "  warnings.warn(\n"
     ]
    },
    {
     "data": {
      "image/png": "[encoded data removed]",
      "text/plain": [
       "<Figure size 432x288 with 1 Axes>"
      ]
     },
     "metadata": {
      "needs_background": "light"
     },
     "output_type": "display_data"
    }
   ],
   "source": [
    "g = sns.residplot(y_test, y_pred, data=df)"
   ]
  },
  {
   "cell_type": "markdown",
   "metadata": {},
   "source": [
    "### Export pickle file"
   ]
  },
  {
   "cell_type": "code",
   "execution_count": 487,
   "metadata": {},
   "outputs": [
    {
     "data": {
      "text/plain": [
       "Index(['y_Actual', 'y_Predicted'], dtype='object')"
      ]
     },
     "execution_count": 487,
     "metadata": {},
     "output_type": "execute_result"
    }
   ],
   "source": [
    "df.columns"
   ]
  },
  {
   "cell_type": "code",
   "execution_count": 488,
   "metadata": {},
   "outputs": [],
   "source": [
    "import pickle\n",
    "\n",
    "pickle.dump(reg, open('model.pkl','wb'))"
   ]
  },
  {
   "cell_type": "code",
   "execution_count": 489,
   "metadata": {},
   "outputs": [],
   "source": [
    "# model = pickle.load(open('model.pkl','rb'))"
   ]
  },
  {
   "cell_type": "code",
   "execution_count": 490,
   "metadata": {},
   "outputs": [
    {
     "data": {
      "text/plain": [
       "'import json\\n\\ncolumns = {\\n    \\'data_columns\\' : [col.lower() for col in X.columns]\\n}\\nwith open(\"columns.json\",\"w\") as f:\\n    f.write(json.dumps(columns))'"
      ]
     },
     "execution_count": 490,
     "metadata": {},
     "output_type": "execute_result"
    }
   ],
   "source": [
    "\"\"\"import json\n",
    "\n",
    "columns = {\n",
    "    'data_columns' : [col.lower() for col in X.columns]\n",
    "}\n",
    "with open(\"columns.json\",\"w\") as f:\n",
    "    f.write(json.dumps(columns))\"\"\""
   ]
  },
  {
   "cell_type": "code",
   "execution_count": 491,
   "metadata": {},
   "outputs": [],
   "source": [
    "# df.to_csv (r'D:\\System\\broker\\datasets\\export_dataframe.csv', index = False, header=True)\n",
    "\n",
    "# print (df)"
   ]
  }
 ],
 "metadata": {
  "interpreter": {
   "hash": "e1065e16cb979fc236d435c38245936c1564a2f9907d9c3a1b5acf54dd047cb8"
  },
  "kernelspec": {
   "display_name": "Python 3.9.9 64-bit (windows store)",
   "language": "python",
   "name": "python3"
  },
  "language_info": {
   "codemirror_mode": {
    "name": "ipython",
    "version": 3
   },
   "file_extension": ".py",
   "mimetype": "text/x-python",
   "name": "python",
   "nbconvert_exporter": "python",
   "pygments_lexer": "ipython3",
   "version": "3.9.10"
  },
  "orig_nbformat": 4
 },
 "nbformat": 4,
 "nbformat_minor": 2
}
