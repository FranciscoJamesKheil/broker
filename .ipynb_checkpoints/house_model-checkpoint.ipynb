{
 "cells": [
  {
   "cell_type": "markdown",
   "metadata": {},
   "source": [
    "### Import Libraries"
   ]
  },
  {
   "cell_type": "code",
   "execution_count": 1,
   "metadata": {},
   "outputs": [],
   "source": [
    "import pandas as pd\n",
    "import numpy as np\n",
    "import matplotlib.pyplot as plt\n",
    "from sklearn import linear_model"
   ]
  },
  {
   "cell_type": "markdown",
   "metadata": {},
   "source": [
    "### Reading the Data"
   ]
  },
  {
   "cell_type": "code",
   "execution_count": 10,
   "metadata": {},
   "outputs": [
    {
     "data": {
      "text/html": [
       "<div>\n",
       "<style scoped>\n",
       "    .dataframe tbody tr th:only-of-type {\n",
       "        vertical-align: middle;\n",
       "    }\n",
       "\n",
       "    .dataframe tbody tr th {\n",
       "        vertical-align: top;\n",
       "    }\n",
       "\n",
       "    .dataframe thead th {\n",
       "        text-align: right;\n",
       "    }\n",
       "</style>\n",
       "<table border=\"1\" class=\"dataframe\">\n",
       "  <thead>\n",
       "    <tr style=\"text-align: right;\">\n",
       "      <th></th>\n",
       "      <th>Total Land Size</th>\n",
       "      <th>House Age</th>\n",
       "      <th>Land Value</th>\n",
       "      <th>Location Type</th>\n",
       "      <th>Building Type</th>\n",
       "      <th>Distance from Malls</th>\n",
       "      <th>Distance to road</th>\n",
       "      <th>Number of bedrooms</th>\n",
       "      <th>Number of bathrooms</th>\n",
       "      <th>Garage</th>\n",
       "      <th>...</th>\n",
       "      <th>Standard Level in the region</th>\n",
       "      <th>Quality of Schools</th>\n",
       "      <th>Quality of Services</th>\n",
       "      <th>Transportation</th>\n",
       "      <th>Interest Rate</th>\n",
       "      <th>Inflation Rate</th>\n",
       "      <th>Economic climate</th>\n",
       "      <th>CPI</th>\n",
       "      <th>Months in Market</th>\n",
       "      <th>Final Price</th>\n",
       "    </tr>\n",
       "  </thead>\n",
       "  <tbody>\n",
       "    <tr>\n",
       "      <th>0</th>\n",
       "      <td>260</td>\n",
       "      <td>35</td>\n",
       "      <td>3,500,000</td>\n",
       "      <td>2</td>\n",
       "      <td>2</td>\n",
       "      <td>2</td>\n",
       "      <td>1</td>\n",
       "      <td>3</td>\n",
       "      <td>1</td>\n",
       "      <td>2</td>\n",
       "      <td>...</td>\n",
       "      <td>2</td>\n",
       "      <td>1</td>\n",
       "      <td>1</td>\n",
       "      <td>2</td>\n",
       "      <td>17.530000</td>\n",
       "      <td>13.770000</td>\n",
       "      <td>2</td>\n",
       "      <td>13.740000</td>\n",
       "      <td>10</td>\n",
       "      <td>676500</td>\n",
       "    </tr>\n",
       "    <tr>\n",
       "      <th>1</th>\n",
       "      <td>200</td>\n",
       "      <td>20</td>\n",
       "      <td>2,500,000</td>\n",
       "      <td>2</td>\n",
       "      <td>1</td>\n",
       "      <td>2</td>\n",
       "      <td>2</td>\n",
       "      <td>2</td>\n",
       "      <td>1</td>\n",
       "      <td>1</td>\n",
       "      <td>...</td>\n",
       "      <td>2</td>\n",
       "      <td>2</td>\n",
       "      <td>2</td>\n",
       "      <td>2</td>\n",
       "      <td>17.500000</td>\n",
       "      <td>14.566667</td>\n",
       "      <td>2</td>\n",
       "      <td>14.573000</td>\n",
       "      <td>8</td>\n",
       "      <td>631500</td>\n",
       "    </tr>\n",
       "    <tr>\n",
       "      <th>2</th>\n",
       "      <td>250</td>\n",
       "      <td>18</td>\n",
       "      <td>4,500,000</td>\n",
       "      <td>2</td>\n",
       "      <td>2</td>\n",
       "      <td>2</td>\n",
       "      <td>2</td>\n",
       "      <td>3</td>\n",
       "      <td>2</td>\n",
       "      <td>1</td>\n",
       "      <td>...</td>\n",
       "      <td>2</td>\n",
       "      <td>2</td>\n",
       "      <td>2</td>\n",
       "      <td>2</td>\n",
       "      <td>19.700000</td>\n",
       "      <td>26.233333</td>\n",
       "      <td>2</td>\n",
       "      <td>26.233333</td>\n",
       "      <td>4</td>\n",
       "      <td>722000</td>\n",
       "    </tr>\n",
       "    <tr>\n",
       "      <th>3</th>\n",
       "      <td>240</td>\n",
       "      <td>10</td>\n",
       "      <td>4,500,000</td>\n",
       "      <td>2</td>\n",
       "      <td>1</td>\n",
       "      <td>2</td>\n",
       "      <td>2</td>\n",
       "      <td>2</td>\n",
       "      <td>2</td>\n",
       "      <td>2</td>\n",
       "      <td>...</td>\n",
       "      <td>2</td>\n",
       "      <td>2</td>\n",
       "      <td>2</td>\n",
       "      <td>2</td>\n",
       "      <td>18.233333</td>\n",
       "      <td>12.966667</td>\n",
       "      <td>2</td>\n",
       "      <td>12.985000</td>\n",
       "      <td>5</td>\n",
       "      <td>663000</td>\n",
       "    </tr>\n",
       "    <tr>\n",
       "      <th>4</th>\n",
       "      <td>220</td>\n",
       "      <td>15</td>\n",
       "      <td>3,800,000</td>\n",
       "      <td>2</td>\n",
       "      <td>1</td>\n",
       "      <td>2</td>\n",
       "      <td>2</td>\n",
       "      <td>3</td>\n",
       "      <td>2</td>\n",
       "      <td>2</td>\n",
       "      <td>...</td>\n",
       "      <td>3</td>\n",
       "      <td>2</td>\n",
       "      <td>2</td>\n",
       "      <td>1</td>\n",
       "      <td>11.566667</td>\n",
       "      <td>11.833333</td>\n",
       "      <td>3</td>\n",
       "      <td>11.821667</td>\n",
       "      <td>6</td>\n",
       "      <td>410000</td>\n",
       "    </tr>\n",
       "  </tbody>\n",
       "</table>\n",
       "<p>5 rows × 26 columns</p>\n",
       "</div>"
      ],
      "text/plain": [
       "   Total Land Size   House Age  Land Value   Location Type  Building Type  \\\n",
       "0               260          35   3,500,000              2              2   \n",
       "1               200          20   2,500,000              2              1   \n",
       "2               250          18   4,500,000              2              2   \n",
       "3               240          10   4,500,000              2              1   \n",
       "4               220          15   3,800,000              2              1   \n",
       "\n",
       "   Distance from Malls  Distance to road  Number of bedrooms  \\\n",
       "0                    2                 1                   3   \n",
       "1                    2                 2                   2   \n",
       "2                    2                 2                   3   \n",
       "3                    2                 2                   2   \n",
       "4                    2                 2                   3   \n",
       "\n",
       "   Number of bathrooms  Garage  ...  Standard Level in the region   \\\n",
       "0                    1       2  ...                              2   \n",
       "1                    1       1  ...                              2   \n",
       "2                    2       1  ...                              2   \n",
       "3                    2       2  ...                              2   \n",
       "4                    2       2  ...                              3   \n",
       "\n",
       "   Quality of Schools  Quality of Services  Transportation  Interest Rate   \\\n",
       "0                   1                    1               2       17.530000   \n",
       "1                   2                    2               2       17.500000   \n",
       "2                   2                    2               2       19.700000   \n",
       "3                   2                    2               2       18.233333   \n",
       "4                   2                    2               1       11.566667   \n",
       "\n",
       "   Inflation Rate  Economic climate         CPI  Months in Market  Final Price  \n",
       "0       13.770000                  2  13.740000                10       676500  \n",
       "1       14.566667                  2  14.573000                 8       631500  \n",
       "2       26.233333                  2  26.233333                 4       722000  \n",
       "3       12.966667                  2  12.985000                 5       663000  \n",
       "4       11.833333                  3  11.821667                 6       410000  \n",
       "\n",
       "[5 rows x 26 columns]"
      ]
     },
     "execution_count": 10,
     "metadata": {},
     "output_type": "execute_result"
    }
   ],
   "source": [
    "df = pd.read_csv(\"./dataset/house_price_dataset.csv\")\n",
    "df.head()"
   ]
  },
  {
   "cell_type": "markdown",
   "metadata": {},
   "source": [
    "### Data Cleaning"
   ]
  },
  {
   "cell_type": "code",
   "execution_count": 3,
   "metadata": {},
   "outputs": [
    {
     "data": {
      "text/plain": [
       "Total Land Size                       0\n",
       "House Age                             0\n",
       "Land Value                            0\n",
       "Location Type                         0\n",
       "Building Type                         0\n",
       "Distance from Malls                   0\n",
       "Distance to road                      0\n",
       "Number of bedrooms                    0\n",
       "Number of bathrooms                   0\n",
       "Garage                                0\n",
       "Garden Share                          0\n",
       "Level of Finishing                    0\n",
       "Preliminary estimated construction    0\n",
       "Duration of construction              0\n",
       "Price of the unit at the beginning    0\n",
       "Population Trends in the city         0\n",
       "Standard Level in the region          0\n",
       "Quality of Schools                    0\n",
       "Quality of Services                   0\n",
       "Transportation                        0\n",
       "Interest Rate                         0\n",
       "Inflation Rate                        0\n",
       "Economic climate                      0\n",
       "CPI                                   0\n",
       "Months in Market                      0\n",
       "Final Price                           0\n",
       "dtype: int64"
      ]
     },
     "execution_count": 3,
     "metadata": {},
     "output_type": "execute_result"
    }
   ],
   "source": [
    "p = df.isnull().sum()\n",
    "p"
   ]
  },
  {
   "cell_type": "code",
   "execution_count": 16,
   "metadata": {},
   "outputs": [
    {
     "data": {
      "text/plain": [
       "<matplotlib.collections.PathCollection at 0x20c272c9490>"
      ]
     },
     "execution_count": 16,
     "metadata": {},
     "output_type": "execute_result"
    },
    {
     "data": {
      "image/png": "[encoded data removed]",
      "text/plain": [
       "<Figure size 432x288 with 1 Axes>"
      ]
     },
     "metadata": {
      "needs_background": "light"
     },
     "output_type": "display_data"
    }
   ],
   "source": [
    "%matplotlib inline\n",
    "# plt.xlabel('Land Size')\n",
    "plt.xlabel('House Age')\n",
    "plt.ylabel('Final Price')\n",
    "# plt.scatter(df['Total Land Size '], df['Final Price'], color='maroon')\n",
    "plt.scatter(df['House Age '], df['Final Price'], color='orange')"
   ]
  },
  {
   "cell_type": "code",
   "execution_count": 5,
   "metadata": {},
   "outputs": [
    {
     "data": {
      "text/plain": [
       "LinearRegression()"
      ]
     },
     "execution_count": 5,
     "metadata": {},
     "output_type": "execute_result"
    }
   ],
   "source": [
    "reg = linear_model.LinearRegression()\n",
    "reg.fit(df[['Total Land Size ']], df['Final Price'])"
   ]
  },
  {
   "cell_type": "code",
   "execution_count": 6,
   "metadata": {},
   "outputs": [
    {
     "name": "stderr",
     "output_type": "stream",
     "text": [
      "C:\\Users\\Asus\\AppData\\Local\\Packages\\PythonSoftwareFoundation.Python.3.9_qbz5n2kfra8p0\\LocalCache\\local-packages\\Python39\\site-packages\\sklearn\\base.py:445: UserWarning: X does not have valid feature names, but LinearRegression was fitted with feature names\n",
      "  warnings.warn(\n"
     ]
    },
    {
     "data": {
      "text/plain": [
       "array([895467.81640936])"
      ]
     },
     "execution_count": 6,
     "metadata": {},
     "output_type": "execute_result"
    }
   ],
   "source": [
    "reg.predict([[260]])"
   ]
  },
  {
   "cell_type": "code",
   "execution_count": 7,
   "metadata": {},
   "outputs": [
    {
     "data": {
      "text/plain": [
       "array([3255.97429034])"
      ]
     },
     "execution_count": 7,
     "metadata": {},
     "output_type": "execute_result"
    }
   ],
   "source": [
    "reg.coef_"
   ]
  },
  {
   "cell_type": "code",
   "execution_count": 8,
   "metadata": {},
   "outputs": [
    {
     "data": {
      "text/plain": [
       "48914.50092145917"
      ]
     },
     "execution_count": 8,
     "metadata": {},
     "output_type": "execute_result"
    }
   ],
   "source": [
    "reg.intercept_"
   ]
  },
  {
   "cell_type": "code",
   "execution_count": null,
   "metadata": {},
   "outputs": [],
   "source": []
  }
 ],
 "metadata": {
  "interpreter": {
   "hash": "e1065e16cb979fc236d435c38245936c1564a2f9907d9c3a1b5acf54dd047cb8"
  },
  "kernelspec": {
   "display_name": "Python 3 (ipykernel)",
   "language": "python",
   "name": "python3"
  },
  "language_info": {
   "codemirror_mode": {
    "name": "ipython",
    "version": 3
   },
   "file_extension": ".py",
   "mimetype": "text/x-python",
   "name": "python",
   "nbconvert_exporter": "python",
   "pygments_lexer": "ipython3",
   "version": "3.9.9"
  }
 },
 "nbformat": 4,
 "nbformat_minor": 2
}
